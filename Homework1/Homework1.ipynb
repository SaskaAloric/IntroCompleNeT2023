{
 "cells": [
  {
   "cell_type": "markdown",
   "metadata": {},
   "source": [
    "## Homework 1"
   ]
  },
  {
   "cell_type": "markdown",
   "metadata": {},
   "source": [
    "**Homework assigment date:** 28 December 2022 <br>\n",
    "\n",
    "<br> \n",
    "\n",
    "**Homework due date:** 11 January 2021 by 6 pm <br>\n",
    "\n",
    "Send the notebook (ipynb file) to aleksandra.aloric@gmail.com, mitrovic@ipb.ac.rs by due date.<br>\n",
    "The notebook should also include the code used for calculation of the answer to each question and the answer. "
   ]
  },
  {
   "cell_type": "markdown",
   "metadata": {},
   "source": [
    "For this homework you should use a network of friendships among students living in a residence hall at Australian National University (date unknown). The data contains link directions and weighs. The direction indicates that resident $i$ named resident $j$ as a friend. The weight indicates the level of friendship: 5 (best friend), 4 (close friend), 3 (friend), 2, 1."
   ]
  },
  {
   "cell_type": "markdown",
   "metadata": {},
   "source": [
    "The dataset is within the local data folder, but you can also find it at this address: https://github.com/SaskaAloric/IntroCompleNeT2023/tree/main/Homework1/data/residence_hall"
   ]
  },
  {
   "cell_type": "markdown",
   "metadata": {},
   "source": [
    "#### 1. Start by loading all the necesary libraries, load the data set and construct a weighted directed network."
   ]
  },
  {
   "cell_type": "code",
   "execution_count": null,
   "metadata": {},
   "outputs": [],
   "source": []
  },
  {
   "cell_type": "markdown",
   "metadata": {},
   "source": [
    "#### 2. How many nodes and edges are there in this network?"
   ]
  },
  {
   "cell_type": "code",
   "execution_count": null,
   "metadata": {},
   "outputs": [],
   "source": []
  },
  {
   "cell_type": "markdown",
   "metadata": {},
   "source": [
    "#### 3. How many of friendship edges are reciprocated?"
   ]
  },
  {
   "cell_type": "code",
   "execution_count": null,
   "metadata": {},
   "outputs": [],
   "source": []
  },
  {
   "cell_type": "markdown",
   "metadata": {},
   "source": [
    "#### 4. What is the ID of a student considered as a friend by the most students? How many students consider that student as their friend?"
   ]
  },
  {
   "cell_type": "code",
   "execution_count": null,
   "metadata": {},
   "outputs": [],
   "source": []
  },
  {
   "cell_type": "markdown",
   "metadata": {},
   "source": [
    "#### 5. Does this student have the strongest connections with their friends?"
   ]
  },
  {
   "cell_type": "code",
   "execution_count": null,
   "metadata": {},
   "outputs": [],
   "source": []
  },
  {
   "cell_type": "markdown",
   "metadata": {},
   "source": [
    "#### 6. What is the diameter of the strongly connected component of the network?"
   ]
  },
  {
   "cell_type": "code",
   "execution_count": null,
   "metadata": {},
   "outputs": [],
   "source": []
  },
  {
   "cell_type": "markdown",
   "metadata": {},
   "source": [
    "#### 7. What is the average shortest path?"
   ]
  },
  {
   "cell_type": "code",
   "execution_count": null,
   "metadata": {},
   "outputs": [],
   "source": []
  },
  {
   "cell_type": "markdown",
   "metadata": {},
   "source": [
    "#### 8. Plot the distribution of betweenness and weighted betweenness centrality of the strongly connected component. <br> \n",
    "Hint: For weighted betweenness centrality you need to include wights of the links. Take a look at: http://shorturl.at/pU127"
   ]
  },
  {
   "cell_type": "code",
   "execution_count": null,
   "metadata": {},
   "outputs": [],
   "source": []
  },
  {
   "cell_type": "markdown",
   "metadata": {},
   "source": [
    "#### 9. Who is the clossest person in the community if we disregard the strength of the friendships?"
   ]
  },
  {
   "cell_type": "code",
   "execution_count": null,
   "metadata": {},
   "outputs": [],
   "source": []
  },
  {
   "cell_type": "markdown",
   "metadata": {},
   "source": [
    "#### 10. In a network we can calculate several centrality measures. Calculate pearson correlation coefficient between node in-degree centrality, out-degree centrality, unweighted betweenness centrality, and closeness centrality of the nodes in the strongly connected component. Plot it as annotated heatmap. Which are the most correlated centralities in this network?"
   ]
  },
  {
   "cell_type": "code",
   "execution_count": null,
   "metadata": {},
   "outputs": [],
   "source": []
  }
 ],
 "metadata": {
  "kernelspec": {
   "display_name": "Python 3",
   "language": "python",
   "name": "python3"
  },
  "language_info": {
   "codemirror_mode": {
    "name": "ipython",
    "version": 3
   },
   "file_extension": ".py",
   "mimetype": "text/x-python",
   "name": "python",
   "nbconvert_exporter": "python",
   "pygments_lexer": "ipython3",
   "version": "3.7.6"
  }
 },
 "nbformat": 4,
 "nbformat_minor": 4
}
