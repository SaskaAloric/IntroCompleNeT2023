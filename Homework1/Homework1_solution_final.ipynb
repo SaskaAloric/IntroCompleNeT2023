{
 "cells": [
  {
   "cell_type": "markdown",
   "metadata": {},
   "source": [
    "## Homework 1"
   ]
  },
  {
   "cell_type": "markdown",
   "metadata": {},
   "source": [
    "**Homework assigment date:** 28 December 2022 <br>\n",
    "\n",
    "<br> \n",
    "\n",
    "**Homework due date:** 11 January 2023 by 6 pm <br>\n"
   ]
  },
  {
   "cell_type": "markdown",
   "metadata": {},
   "source": [
    "For this homework you should use a network of friendships among students living in a residence hall at Australian National University (date unknown). The data contains link directions and weighs. The direction indicates that resident $i$ named resident $j$ as a friend. The weight indicates the level of friendship: 5 (best friend), 4 (close friend), 3 (friend), 2, 1."
   ]
  },
  {
   "cell_type": "markdown",
   "metadata": {},
   "source": [
    "The dataset is within the local data folder, but you can also find it at this address: https://github.com/SaskaAloric/IntroCompleNeT2023/Homework/Homework1/data/"
   ]
  },
  {
   "cell_type": "markdown",
   "metadata": {},
   "source": [
    "#### 1. Start by loading all the necesary libraries, load the data set and construct a weighted directed network."
   ]
  },
  {
   "cell_type": "code",
   "execution_count": 1,
   "metadata": {},
   "outputs": [],
   "source": [
    "import pandas as pd\n",
    "import matplotlib.pyplot as plt\n",
    "import networkx as nx\n",
    "import numpy as np\n",
    "import sys"
   ]
  },
  {
   "cell_type": "code",
   "execution_count": 2,
   "metadata": {},
   "outputs": [],
   "source": [
    "edgesRD=pd.read_csv(\"./data/residence_hall/edges.csv\")"
   ]
  },
  {
   "cell_type": "code",
   "execution_count": 3,
   "metadata": {},
   "outputs": [
    {
     "data": {
      "text/html": [
       "<div>\n",
       "<style scoped>\n",
       "    .dataframe tbody tr th:only-of-type {\n",
       "        vertical-align: middle;\n",
       "    }\n",
       "\n",
       "    .dataframe tbody tr th {\n",
       "        vertical-align: top;\n",
       "    }\n",
       "\n",
       "    .dataframe thead th {\n",
       "        text-align: right;\n",
       "    }\n",
       "</style>\n",
       "<table border=\"1\" class=\"dataframe\">\n",
       "  <thead>\n",
       "    <tr style=\"text-align: right;\">\n",
       "      <th></th>\n",
       "      <th>Unnamed: 0</th>\n",
       "      <th>source</th>\n",
       "      <th>target</th>\n",
       "      <th>weight</th>\n",
       "    </tr>\n",
       "  </thead>\n",
       "  <tbody>\n",
       "    <tr>\n",
       "      <th>0</th>\n",
       "      <td>0</td>\n",
       "      <td>1</td>\n",
       "      <td>2</td>\n",
       "      <td>3</td>\n",
       "    </tr>\n",
       "    <tr>\n",
       "      <th>1</th>\n",
       "      <td>1</td>\n",
       "      <td>1</td>\n",
       "      <td>3</td>\n",
       "      <td>4</td>\n",
       "    </tr>\n",
       "    <tr>\n",
       "      <th>2</th>\n",
       "      <td>2</td>\n",
       "      <td>1</td>\n",
       "      <td>4</td>\n",
       "      <td>3</td>\n",
       "    </tr>\n",
       "    <tr>\n",
       "      <th>3</th>\n",
       "      <td>3</td>\n",
       "      <td>1</td>\n",
       "      <td>5</td>\n",
       "      <td>3</td>\n",
       "    </tr>\n",
       "    <tr>\n",
       "      <th>4</th>\n",
       "      <td>4</td>\n",
       "      <td>1</td>\n",
       "      <td>6</td>\n",
       "      <td>4</td>\n",
       "    </tr>\n",
       "  </tbody>\n",
       "</table>\n",
       "</div>"
      ],
      "text/plain": [
       "   Unnamed: 0  source  target  weight\n",
       "0           0       1       2       3\n",
       "1           1       1       3       4\n",
       "2           2       1       4       3\n",
       "3           3       1       5       3\n",
       "4           4       1       6       4"
      ]
     },
     "execution_count": 3,
     "metadata": {},
     "output_type": "execute_result"
    }
   ],
   "source": [
    "edgesRD.head()"
   ]
  },
  {
   "cell_type": "code",
   "execution_count": 4,
   "metadata": {},
   "outputs": [],
   "source": [
    "G= nx.from_pandas_edgelist(edgesRD,\n",
    "                                     source = 'source', \n",
    "                                     target = 'target', \n",
    "                                     edge_attr='weight',\n",
    "                                     create_using =nx.DiGraph)"
   ]
  },
  {
   "cell_type": "markdown",
   "metadata": {},
   "source": [
    "#### 2. What is number of nodes and number of edges in this network?"
   ]
  },
  {
   "cell_type": "code",
   "execution_count": 5,
   "metadata": {},
   "outputs": [
    {
     "name": "stdout",
     "output_type": "stream",
     "text": [
      "Number of nodes: 217\n",
      "Number of edges: 2672\n"
     ]
    }
   ],
   "source": [
    "print(\"Number of nodes:\",G.number_of_nodes())\n",
    "print(\"Number of edges:\",G.number_of_edges())"
   ]
  },
  {
   "cell_type": "markdown",
   "metadata": {},
   "source": [
    "#### 3. How many of friendship edges are reciprocial?"
   ]
  },
  {
   "cell_type": "code",
   "execution_count": 6,
   "metadata": {},
   "outputs": [
    {
     "name": "stdout",
     "output_type": "stream",
     "text": [
      "833 2672\n"
     ]
    }
   ],
   "source": [
    "over=0\n",
    "for v in G.nodes():\n",
    "    for u in G.nodes():\n",
    "        if u>v:\n",
    "            if G.has_edge(v,u) and G.has_edge(u,v):\n",
    "                over+=1\n",
    "print(over, G.number_of_edges())\n",
    "        "
   ]
  },
  {
   "cell_type": "code",
   "execution_count": 7,
   "metadata": {},
   "outputs": [
    {
     "data": {
      "text/plain": [
       "833.0"
      ]
     },
     "execution_count": 7,
     "metadata": {},
     "output_type": "execute_result"
    }
   ],
   "source": [
    "# another solution:\n",
    "\n",
    "0.5*nx.reciprocity(G)*G.number_of_edges()"
   ]
  },
  {
   "cell_type": "markdown",
   "metadata": {},
   "source": [
    "#### 4. What is the ID of a student considered as a friend by the most students? How many students consider that student as their friend?"
   ]
  },
  {
   "cell_type": "code",
   "execution_count": 23,
   "metadata": {},
   "outputs": [
    {
     "name": "stdout",
     "output_type": "stream",
     "text": [
      "The ID of a person considered as a friend by the most is 156\n",
      "Number of people that considere that person as a friend is 34\n"
     ]
    }
   ],
   "source": [
    "# alternative solution\n",
    "degIn=dict(G.in_degree())\n",
    "maxqIn=max(degIn.values())\n",
    "maxIdIn=max(degIn, key=degIn.get)\n",
    "print(\"The ID of a person considered as a friend by the most is\", maxIdIn)\n",
    "print(\"Number of people that considere that person as a friend is\", maxqIn)"
   ]
  },
  {
   "cell_type": "code",
   "execution_count": 11,
   "metadata": {},
   "outputs": [],
   "source": [
    "degIn=G.in_degree()"
   ]
  },
  {
   "cell_type": "code",
   "execution_count": 12,
   "metadata": {},
   "outputs": [
    {
     "name": "stdout",
     "output_type": "stream",
     "text": [
      "The ID of a person considered as a friend by the most is 156\n",
      "Number of people that considere that person as a friend is 34\n"
     ]
    }
   ],
   "source": [
    "maxqIn=0\n",
    "maxIdIn=0\n",
    "for v,q in degIn:\n",
    "    if maxqIn<q:\n",
    "        maxqIn=q\n",
    "        maxIdIn=v\n",
    "print(\"The ID of a person considered as a friend by the most is\", maxIdIn)\n",
    "print(\"Number of people that considere that person as a friend is\", maxqIn)"
   ]
  },
  {
   "cell_type": "markdown",
   "metadata": {},
   "source": [
    "#### 5. Does this student has the strongest connections with their friends?"
   ]
  },
  {
   "cell_type": "markdown",
   "metadata": {},
   "source": [
    "This is the code if we use a total strength "
   ]
  },
  {
   "cell_type": "code",
   "execution_count": 21,
   "metadata": {},
   "outputs": [],
   "source": [
    "tot_str={}\n",
    "for v in G.nodes():\n",
    "    tot_str[v]=0\n",
    "    for u in G.neighbors(v):\n",
    "        tot_str[v]=tot_str[v]+G[v][u]['weight']\n",
    "        if G.has_edge(u,v):\n",
    "            tot_str[v]=tot_str[v]+G[u][v]['weight']"
   ]
  },
  {
   "cell_type": "code",
   "execution_count": 29,
   "metadata": {},
   "outputs": [
    {
     "name": "stdout",
     "output_type": "stream",
     "text": [
      "no\n"
     ]
    }
   ],
   "source": [
    "tot_str_s=dict(sorted(tot_str.items(), key=lambda item: item[1], reverse=True))\n",
    "maxFId=list(tot_str_s.keys())[0]\n",
    "if maxFId==maxIdIn:\n",
    "    print(\"Yes\")\n",
    "else:\n",
    "    print(\"No\")"
   ]
  },
  {
   "cell_type": "markdown",
   "metadata": {},
   "source": [
    "This is the code if we use average stength"
   ]
  },
  {
   "cell_type": "code",
   "execution_count": 33,
   "metadata": {},
   "outputs": [],
   "source": [
    "av_str={}\n",
    "for v in G.nodes():\n",
    "    x=[]\n",
    "    for u in G.neighbors(v):\n",
    "        x.append(G[v][u]['weight'])\n",
    "        if G.has_edge(u,v):\n",
    "            x.append(G[u][v]['weight'])\n",
    "    if len(x)>0:\n",
    "        a=np.array(x)\n",
    "        av_str[v]=np.mean(a)"
   ]
  },
  {
   "cell_type": "code",
   "execution_count": 34,
   "metadata": {},
   "outputs": [
    {
     "name": "stdout",
     "output_type": "stream",
     "text": [
      "No\n"
     ]
    }
   ],
   "source": [
    "av_str_s=dict(sorted(av_str.items(), key=lambda item: item[1], reverse=True))\n",
    "maxFId=list(av_str_s.keys())[0]\n",
    "if maxFId==maxIdIn:\n",
    "    print(\"Yes\")\n",
    "else:\n",
    "    print(\"No\")"
   ]
  },
  {
   "cell_type": "markdown",
   "metadata": {},
   "source": [
    "#### 6. What is the diameter of the strongly connected component of the network?"
   ]
  },
  {
   "cell_type": "code",
   "execution_count": 38,
   "metadata": {},
   "outputs": [
    {
     "data": {
      "text/plain": [
       "False"
      ]
     },
     "execution_count": 38,
     "metadata": {},
     "output_type": "execute_result"
    }
   ],
   "source": [
    "nx.is_strongly_connected(G)"
   ]
  },
  {
   "cell_type": "code",
   "execution_count": 39,
   "metadata": {},
   "outputs": [],
   "source": [
    "n=nx.number_strongly_connected_components(G)"
   ]
  },
  {
   "cell_type": "code",
   "execution_count": 40,
   "metadata": {},
   "outputs": [
    {
     "data": {
      "text/plain": [
       "4"
      ]
     },
     "execution_count": 40,
     "metadata": {},
     "output_type": "execute_result"
    }
   ],
   "source": [
    "n"
   ]
  },
  {
   "cell_type": "code",
   "execution_count": 41,
   "metadata": {},
   "outputs": [],
   "source": [
    "s=list(nx.strongly_connected_components(G))"
   ]
  },
  {
   "cell_type": "code",
   "execution_count": 42,
   "metadata": {},
   "outputs": [
    {
     "name": "stdout",
     "output_type": "stream",
     "text": [
      "1\n",
      "214\n",
      "1\n",
      "1\n"
     ]
    }
   ],
   "source": [
    "for se in s:\n",
    "    print(len(se))"
   ]
  },
  {
   "cell_type": "code",
   "execution_count": 43,
   "metadata": {},
   "outputs": [],
   "source": [
    "H=nx.subgraph(G,s[1])"
   ]
  },
  {
   "cell_type": "code",
   "execution_count": 48,
   "metadata": {},
   "outputs": [],
   "source": [
    "d=nx.diameter(H)"
   ]
  },
  {
   "cell_type": "code",
   "execution_count": 49,
   "metadata": {},
   "outputs": [
    {
     "name": "stdout",
     "output_type": "stream",
     "text": [
      "Diameter of the strongly connected component of the network is: 6\n"
     ]
    }
   ],
   "source": [
    "print(\"Diameter of the strongly connected component of the network is:\", d)"
   ]
  },
  {
   "cell_type": "markdown",
   "metadata": {},
   "source": [
    "#### 7. What is the average shortest path?"
   ]
  },
  {
   "cell_type": "markdown",
   "metadata": {},
   "source": [
    "Average shortest paths for unweighted strongly connected component"
   ]
  },
  {
   "cell_type": "code",
   "execution_count": 51,
   "metadata": {},
   "outputs": [
    {
     "name": "stdout",
     "output_type": "stream",
     "text": [
      "Aerage shortest path is: 2.7599052257470054\n"
     ]
    }
   ],
   "source": [
    "l=nx.average_shortest_path_length(H)\n",
    "print(\"Aerage shortest path is:\", l)"
   ]
  },
  {
   "cell_type": "markdown",
   "metadata": {},
   "source": [
    "Average shortest paths for weighted strongly connected component"
   ]
  },
  {
   "cell_type": "code",
   "execution_count": 52,
   "metadata": {},
   "outputs": [
    {
     "name": "stdout",
     "output_type": "stream",
     "text": [
      "Aerage shortest path is: 8.380610767408188\n"
     ]
    }
   ],
   "source": [
    "l=nx.average_shortest_path_length(H,weight=\"weight\")\n",
    "print(\"Aerage shortest path is:\", l)"
   ]
  },
  {
   "cell_type": "code",
   "execution_count": 53,
   "metadata": {},
   "outputs": [
    {
     "name": "stdout",
     "output_type": "stream",
     "text": [
      "Aerage shortest path is: 2.726873186550606\n"
     ]
    }
   ],
   "source": [
    "l=nx.average_shortest_path_length(G)\n",
    "print(\"Aerage shortest path is:\", l)"
   ]
  },
  {
   "cell_type": "markdown",
   "metadata": {},
   "source": [
    "Average shortest paths for weighted strongly connected component"
   ]
  },
  {
   "cell_type": "code",
   "execution_count": 54,
   "metadata": {},
   "outputs": [
    {
     "name": "stdout",
     "output_type": "stream",
     "text": [
      "Aerage shortest path is: 8.260240655401946\n"
     ]
    }
   ],
   "source": [
    "l=nx.average_shortest_path_length(G,weight=\"weight\")\n",
    "print(\"Aerage shortest path is:\", l)"
   ]
  },
  {
   "cell_type": "markdown",
   "metadata": {},
   "source": [
    "#### 8. Plot the distribution of betweenness and weighted betweenness centrality of the strongest connected component. <br> \n",
    "Hint: For weighted betweenness centrality you need to include wights of the links. Take a look at: http://shorturl.at/pU127"
   ]
  },
  {
   "cell_type": "code",
   "execution_count": 55,
   "metadata": {},
   "outputs": [],
   "source": [
    "B=nx.betweenness_centrality(H)\n",
    "Bw=nx.betweenness_centrality(H,weight=\"weight\")\n",
    "Be=nx.edge_betweenness_centrality(H)\n",
    "Bwe=nx.edge_betweenness_centrality(H,weight=\"weight\")"
   ]
  },
  {
   "cell_type": "code",
   "execution_count": 56,
   "metadata": {},
   "outputs": [
    {
     "data": {
      "image/png": "[encoded data removed]",
      "text/plain": [
       "<Figure size 1500x500 with 2 Axes>"
      ]
     },
     "metadata": {},
     "output_type": "display_data"
    }
   ],
   "source": [
    "plt.figure(figsize=(15,5))\n",
    "plt.subplot(1,2,1)\n",
    "plt.xlabel(\"b\")\n",
    "plt.ylabel('P(b)')\n",
    "plt.hist([v for v in B.values()], bins=10, density=True, histtype='bar',align='left',label=\"unweighted\")\n",
    "plt.legend()\n",
    "\n",
    "plt.subplot(1,2,2)\n",
    "plt.xlabel(r\"$b_{w}$\")\n",
    "plt.ylabel(r'$P(b_{w})$')\n",
    "plt.hist([v for v in Bw.values()], bins=10, density=True, histtype='bar',align='left', label=\"weighted\")\n",
    "plt.legend()\n",
    "plt.show()"
   ]
  },
  {
   "cell_type": "code",
   "execution_count": 58,
   "metadata": {},
   "outputs": [
    {
     "data": {
      "image/png": "[encoded data removed]",
      "text/plain": [
       "<Figure size 1500x500 with 2 Axes>"
      ]
     },
     "metadata": {},
     "output_type": "display_data"
    }
   ],
   "source": [
    "plt.figure(figsize=(15,5))\n",
    "plt.subplot(1,2,1)\n",
    "plt.xlabel(\"b_{e}\")\n",
    "plt.ylabel('P(b_{e})')\n",
    "plt.hist([v for v in Be.values()], bins=10, density=True, histtype='bar',align='left',label=\"unweighted\")\n",
    "plt.legend()\n",
    "\n",
    "plt.subplot(1,2,2)\n",
    "plt.xlabel(r\"$b_{ew}$\")\n",
    "plt.ylabel(r'$P(b_{ew})$')\n",
    "plt.hist([v for v in Bwe.values()], bins=10, density=True, histtype='bar',align='left', label=\"weighted\")\n",
    "plt.legend()\n",
    "plt.show()"
   ]
  },
  {
   "cell_type": "markdown",
   "metadata": {},
   "source": [
    "#### 9. Who is the clossest person in the community if we disregard the strength of the friendships?"
   ]
  },
  {
   "cell_type": "code",
   "execution_count": 59,
   "metadata": {},
   "outputs": [
    {
     "name": "stdout",
     "output_type": "stream",
     "text": [
      "The clossest person in the community is: 54\n"
     ]
    }
   ],
   "source": [
    "CC=nx.closeness_centrality(H)\n",
    "maxCC=0\n",
    "maxCCId=0\n",
    "for v in CC.keys():\n",
    "    if maxCC<CC[v]:\n",
    "        maxCC=CC[v]\n",
    "        maxCCId=v\n",
    "print(\"The clossest person in the community is:\",maxCCId)"
   ]
  },
  {
   "cell_type": "markdown",
   "metadata": {},
   "source": [
    "#### 10. In a network we can calculate several centrality measures. Calculate pearson correlation coefficient between node in-degree centrality, out-degree centrality, unweighted betweenness centrality, and closeness centrality of the nodes in the strongest connected component. Plot it as annotated heatmap. Which are the most correlated centralities in this network?"
   ]
  },
  {
   "cell_type": "code",
   "execution_count": 60,
   "metadata": {},
   "outputs": [],
   "source": [
    "CdegIn=nx.in_degree_centrality(H)\n",
    "CdegOut=nx.out_degree_centrality(H)"
   ]
  },
  {
   "cell_type": "code",
   "execution_count": 61,
   "metadata": {},
   "outputs": [],
   "source": [
    "a=[v for v in CdegIn.values()]\n",
    "b=[v for v in CdegOut.values()]\n",
    "c=[v for v in B.values()]\n",
    "d=[v for v in CC.values()]\n",
    "Cab=np.corrcoef(a,b)\n",
    "Cac=np.corrcoef(a,c)\n",
    "Cad=np.corrcoef(a,d)\n",
    "Cbc=np.corrcoef(b,c)\n",
    "Cbd=np.corrcoef(b,d)\n",
    "Ccd=np.corrcoef(c,d)\n",
    "C=np.array([[1,0,0,0],[np.around(Cab[0][1],2),1,0,0],[np.around(Cac[0][1],2),np.around(Cbc[0][1],2),1,0],[np.around(Cad[0][1],2),np.around(Cbd[0][1],2),np.around(Ccd[0][1],2),1]])"
   ]
  },
  {
   "cell_type": "code",
   "execution_count": 62,
   "metadata": {},
   "outputs": [
    {
     "data": {
      "image/png": "[encoded data removed]",
      "text/plain": [
       "<Figure size 640x480 with 1 Axes>"
      ]
     },
     "metadata": {},
     "output_type": "display_data"
    }
   ],
   "source": [
    "cm=['CIndeg','COutdeg','B','CC']\n",
    "fig, ax = plt.subplots()\n",
    "im = ax.imshow(C, cmap=\"Blues\")\n",
    "ax.set_xticks(np.arange(len(cm)))\n",
    "ax.set_yticks(np.arange(len(cm)))\n",
    "ax.set_xticklabels(cm)\n",
    "ax.set_yticklabels(cm)\n",
    "for i in range(len(cm)):\n",
    "    for j in range(len(cm)):\n",
    "        text = ax.text(j, i, C[i, j],\n",
    "                       ha=\"center\", va=\"center\", color=\"Yellow\")\n",
    "\n",
    "ax.set_title(\"Degree centrality correlations\")\n",
    "fig.tight_layout()\n",
    "plt.show()\n",
    "#fig.savefig(\"centrality_correlations.png\")\n",
    "plt.show()"
   ]
  }
 ],
 "metadata": {
  "kernelspec": {
   "display_name": "Python 3 (ipykernel)",
   "language": "python",
   "name": "python3"
  },
  "language_info": {
   "codemirror_mode": {
    "name": "ipython",
    "version": 3
   },
   "file_extension": ".py",
   "mimetype": "text/x-python",
   "name": "python",
   "nbconvert_exporter": "python",
   "pygments_lexer": "ipython3",
   "version": "3.10.8"
  }
 },
 "nbformat": 4,
 "nbformat_minor": 4
}
