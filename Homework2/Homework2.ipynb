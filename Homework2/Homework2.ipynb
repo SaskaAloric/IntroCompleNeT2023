{
 "cells": [
  {
   "cell_type": "markdown",
   "id": "e00bde1f",
   "metadata": {},
   "source": [
    "### Homework 2\n",
    "\n",
    "**Homework assigment date:** 24 January 2023\n",
    "\n",
    "**Homework due date:** 7 February 2023 by 6 pm\n",
    "\n",
    "Put notebook (ipynb file), together with input data and simulation.py code, that were provided with the assignment into folder and compress that folder to a zip (tar.gz, etc) file and send it to aleksandra.aloric@gmail.com, mitrovic@ipb.ac.rs by due date. Name the folder *Homework_Name_Surname*\n",
    "\n",
    "The notebook should include the code used for calculation of the answer to each question and the answer.\n",
    "\n",
    "Please note that this homework you should submit in such a way that if we restart kernel and rerun all the code cells we should be able to recreate your results.\n",
    "\n",
    "This means that we suggest that all your answers and conculsions you write in the markdown cells (instead of code comments and within the print commands).\n",
    "\n"
   ]
  },
  {
   "cell_type": "markdown",
   "id": "5283b6dc",
   "metadata": {},
   "source": [
    "1. Create an **undirected, unweighted** ER **random** graph with N=1000 and p=0.04. Calculate its density."
   ]
  },
  {
   "cell_type": "markdown",
   "id": "a0ced70e",
   "metadata": {},
   "source": [
    "2. Repeat the previous exercise one hundred times. Report the average and the standard deviation of graph densities crated in these 100 graph realisations."
   ]
  },
  {
   "cell_type": "markdown",
   "id": "0487ae4f",
   "metadata": {},
   "source": [
    "3. For one of the ER graphs previously realized, calculate the following:\n",
    "\n",
    "    a) the average degree and plot histogram of the degree distribution\n",
    "    \n",
    "    b) the average clustering coefficient\n",
    "    \n",
    "    c) network diameter\n",
    "    \n",
    "    d) average shortest path"
   ]
  },
  {
   "cell_type": "markdown",
   "id": "557c4daf",
   "metadata": {},
   "source": [
    "4. What is a critical probability threshold for error failure for one created ER network."
   ]
  },
  {
   "cell_type": "markdown",
   "id": "115f511d",
   "metadata": {},
   "source": [
    "5. Given the following degree sequence, M matrix, vector showing memberships of nodes in  communities (z), create a network using Degree Corrected Stochastic Block Model with c=5 communities. The input of parameters is given in the cells below. Execute them to get the model parameters. Plot networks with color highlighted community structure."
   ]
  },
  {
   "cell_type": "markdown",
   "id": "1933091c",
   "metadata": {},
   "source": [
    "*problem input*"
   ]
  },
  {
   "cell_type": "code",
   "execution_count": 53,
   "id": "60131d36",
   "metadata": {},
   "outputs": [],
   "source": [
    "deg_df = pd.read_csv('degree_sequence.csv')\n",
    "z_df = pd.read_csv('community_membership.csv')"
   ]
  },
  {
   "cell_type": "code",
   "execution_count": 54,
   "id": "b5cb5154",
   "metadata": {},
   "outputs": [],
   "source": [
    "c=5\n",
    "z = z_df.set_index('node_id').to_dict()['community']\n",
    "deg = deg_df.set_index('node_id').to_dict()['degree']\n",
    "\n",
    "M = [[2715, 152, 216, 217, 144],\n",
    "     [152, 1495, 81, 116, 79],\n",
    "     [216, 81, 1758, 129, 75],\n",
    "     [217, 116, 129, 1836, 79],\n",
    "     [144, 79, 75, 79, 1184]]"
   ]
  },
  {
   "cell_type": "markdown",
   "id": "0bb50eb1",
   "metadata": {},
   "source": [
    "6. Use the network created with DC-SBM to determine the optimal partitions using Greedy algorithm and Louvain algorithm. How many communities each algorithm finds and how many nodes are members of each community. Plot networks with color highlighted community structure using the same node possitions as in the previous plot."
   ]
  },
  {
   "cell_type": "markdown",
   "id": "cb8b8b58",
   "metadata": {},
   "source": [
    "7. Using mutual information, compare partition found with greedy algorithm with the partition defined as input of question 5."
   ]
  },
  {
   "cell_type": "markdown",
   "id": "2e74315f",
   "metadata": {},
   "source": [
    "8. Run SIR model on a network generated in the first question. Use beta = 0.2 and gamma = 0.1 and initialize the outbreak at a node with highest betweenness centrality (in case of a disconnected network, focus on the largest connected component). Report the number of susceptible, infected and recovered nodes after 100 simulation steps. Plot appropriate time series plot for S, I and R quantities."
   ]
  }
 ],
 "metadata": {
  "kernelspec": {
   "display_name": "Python 3 (ipykernel)",
   "language": "python",
   "name": "python3"
  },
  "language_info": {
   "codemirror_mode": {
    "name": "ipython",
    "version": 3
   },
   "file_extension": ".py",
   "mimetype": "text/x-python",
   "name": "python",
   "nbconvert_exporter": "python",
   "pygments_lexer": "ipython3",
   "version": "3.10.8"
  }
 },
 "nbformat": 4,
 "nbformat_minor": 5
}
