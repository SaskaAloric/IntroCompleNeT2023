{
 "cells": [
  {
   "cell_type": "markdown",
   "id": "19afe3e5",
   "metadata": {},
   "source": [
    "# Introduction to complex networks theory\n",
    "## Lesson 3: Numpy\n",
    "\n",
    "The goal of this notebook is to cover a few math refresher topics with the [numpy](https://numpy.org/) library, specially:\n",
    "- matrices\n",
    "- random numbers\n",
    "- mean/median/mode/variance/standard deviation\n",
    "- histograms\n",
    "\n",
    "So let's start!"
   ]
  },
  {
   "cell_type": "code",
   "execution_count": 1,
   "id": "9ea3da7c",
   "metadata": {},
   "outputs": [],
   "source": [
    "import numpy as np\n",
    "import matplotlib.pyplot as plt"
   ]
  },
  {
   "cell_type": "markdown",
   "id": "cf7bf618",
   "metadata": {},
   "source": [
    "#### Matrices\n",
    "\n",
    "Last time we covered lists of lists, so can we use them as matrices?"
   ]
  },
  {
   "cell_type": "code",
   "execution_count": 2,
   "id": "00201fb6",
   "metadata": {},
   "outputs": [
    {
     "data": {
      "text/plain": [
       "[[1, 2, 3], [4, 5, 6]]"
      ]
     },
     "execution_count": 2,
     "metadata": {},
     "output_type": "execute_result"
    }
   ],
   "source": [
    "a = [[1,2,3],[4,5,6]]\n",
    "a"
   ]
  },
  {
   "cell_type": "code",
   "execution_count": 3,
   "id": "2bb97c16",
   "metadata": {},
   "outputs": [
    {
     "data": {
      "text/plain": [
       "2"
      ]
     },
     "execution_count": 3,
     "metadata": {},
     "output_type": "execute_result"
    }
   ],
   "source": [
    "a[0][1]"
   ]
  },
  {
   "cell_type": "markdown",
   "id": "ddf8e58f",
   "metadata": {},
   "source": [
    "Tnis seems like a 2x3 matrix, but can we do things we could do with a matrix, say multiply this matrix with a number?"
   ]
  },
  {
   "cell_type": "code",
   "execution_count": 4,
   "id": "581063d9",
   "metadata": {},
   "outputs": [
    {
     "data": {
      "text/plain": [
       "[[1, 2, 3], [4, 5, 6], [1, 2, 3], [4, 5, 6], [1, 2, 3], [4, 5, 6]]"
      ]
     },
     "execution_count": 4,
     "metadata": {},
     "output_type": "execute_result"
    }
   ],
   "source": [
    "3*a"
   ]
  },
  {
   "cell_type": "markdown",
   "id": "1c030bca",
   "metadata": {},
   "source": [
    "We can, but we don't get the result we expect. When a list is multiplied with a number, python makes copies of lists and join them together. That can be useful sometimes, but that is not behavivour we want when we search for matrix representation in python.\n",
    "\n",
    "Another problem:"
   ]
  },
  {
   "cell_type": "code",
   "execution_count": 5,
   "id": "01f08942",
   "metadata": {},
   "outputs": [
    {
     "ename": "TypeError",
     "evalue": "can't multiply sequence by non-int of type 'float'",
     "output_type": "error",
     "traceback": [
      "\u001b[0;31m---------------------------------------------------------------------------\u001b[0m",
      "\u001b[0;31mTypeError\u001b[0m                                 Traceback (most recent call last)",
      "\u001b[0;32m/var/folders/nx/gw8g05z555qgk82jcftv94z40000gn/T/ipykernel_23087/2098741831.py\u001b[0m in \u001b[0;36m<module>\u001b[0;34m\u001b[0m\n\u001b[0;32m----> 1\u001b[0;31m \u001b[0;36m3.2\u001b[0m\u001b[0;34m*\u001b[0m\u001b[0ma\u001b[0m\u001b[0;34m\u001b[0m\u001b[0;34m\u001b[0m\u001b[0m\n\u001b[0m",
      "\u001b[0;31mTypeError\u001b[0m: can't multiply sequence by non-int of type 'float'"
     ]
    }
   ],
   "source": [
    "3.2*a"
   ]
  },
  {
   "cell_type": "markdown",
   "id": "62a6c2cc",
   "metadata": {},
   "source": [
    "Yet another problem:"
   ]
  },
  {
   "cell_type": "code",
   "execution_count": 6,
   "id": "f8f060eb",
   "metadata": {},
   "outputs": [
    {
     "data": {
      "text/plain": [
       "[[1, 2, 3], [4, 5, 6], [8, 3, 4], [6, 7, 1]]"
      ]
     },
     "execution_count": 6,
     "metadata": {},
     "output_type": "execute_result"
    }
   ],
   "source": [
    "a = [[1,2,3],[4,5,6]]\n",
    "b = [[8,3,4],[6,7,1]]\n",
    "a+b"
   ]
  },
  {
   "cell_type": "markdown",
   "id": "d0dafac5",
   "metadata": {},
   "source": [
    "So we need another solution, numpy arrays:"
   ]
  },
  {
   "cell_type": "code",
   "execution_count": 7,
   "id": "64f59fbd",
   "metadata": {},
   "outputs": [
    {
     "data": {
      "text/plain": [
       "array([[1, 2, 3],\n",
       "       [4, 5, 6]])"
      ]
     },
     "execution_count": 7,
     "metadata": {},
     "output_type": "execute_result"
    }
   ],
   "source": [
    "np.array(a)"
   ]
  },
  {
   "cell_type": "code",
   "execution_count": 8,
   "id": "d1b42c0e",
   "metadata": {},
   "outputs": [],
   "source": [
    "new_a = np.array(a)"
   ]
  },
  {
   "cell_type": "code",
   "execution_count": 9,
   "id": "96552443",
   "metadata": {},
   "outputs": [
    {
     "data": {
      "text/plain": [
       "6"
      ]
     },
     "execution_count": 9,
     "metadata": {},
     "output_type": "execute_result"
    }
   ],
   "source": [
    "new_a[1,2]"
   ]
  },
  {
   "cell_type": "code",
   "execution_count": 10,
   "id": "e36da587",
   "metadata": {},
   "outputs": [
    {
     "data": {
      "text/plain": [
       "array([[ 3,  6,  9],\n",
       "       [12, 15, 18]])"
      ]
     },
     "execution_count": 10,
     "metadata": {},
     "output_type": "execute_result"
    }
   ],
   "source": [
    "3*new_a"
   ]
  },
  {
   "cell_type": "code",
   "execution_count": 11,
   "id": "2bd6f81b",
   "metadata": {},
   "outputs": [
    {
     "data": {
      "text/plain": [
       "array([[ 3.2,  6.4,  9.6],\n",
       "       [12.8, 16. , 19.2]])"
      ]
     },
     "execution_count": 11,
     "metadata": {},
     "output_type": "execute_result"
    }
   ],
   "source": [
    "3.2*new_a"
   ]
  },
  {
   "cell_type": "code",
   "execution_count": 12,
   "id": "d2dec6b6",
   "metadata": {},
   "outputs": [
    {
     "data": {
      "text/plain": [
       "array([[ 9,  5,  7],\n",
       "       [10, 12,  7]])"
      ]
     },
     "execution_count": 12,
     "metadata": {},
     "output_type": "execute_result"
    }
   ],
   "source": [
    "new_b = np.array([[8,3,4],[6,7,1]])\n",
    "new_a+new_b"
   ]
  },
  {
   "cell_type": "markdown",
   "id": "03d11d01",
   "metadata": {},
   "source": [
    "Summation:"
   ]
  },
  {
   "cell_type": "code",
   "execution_count": 13,
   "id": "d1892435",
   "metadata": {
    "scrolled": true
   },
   "outputs": [
    {
     "ename": "TypeError",
     "evalue": "unsupported operand type(s) for +: 'int' and 'list'",
     "output_type": "error",
     "traceback": [
      "\u001b[0;31m---------------------------------------------------------------------------\u001b[0m",
      "\u001b[0;31mTypeError\u001b[0m                                 Traceback (most recent call last)",
      "\u001b[0;32m/var/folders/nx/gw8g05z555qgk82jcftv94z40000gn/T/ipykernel_23087/1838402321.py\u001b[0m in \u001b[0;36m<module>\u001b[0;34m\u001b[0m\n\u001b[0;32m----> 1\u001b[0;31m \u001b[0msum\u001b[0m\u001b[0;34m(\u001b[0m\u001b[0ma\u001b[0m\u001b[0;34m)\u001b[0m\u001b[0;34m\u001b[0m\u001b[0;34m\u001b[0m\u001b[0m\n\u001b[0m",
      "\u001b[0;31mTypeError\u001b[0m: unsupported operand type(s) for +: 'int' and 'list'"
     ]
    }
   ],
   "source": [
    "sum(a)"
   ]
  },
  {
   "cell_type": "markdown",
   "id": "25d2daa0",
   "metadata": {},
   "source": [
    "we can't just simply sum multidimensional list, we either need to sum row by row or loop through elements"
   ]
  },
  {
   "cell_type": "code",
   "execution_count": 14,
   "id": "8b58262b",
   "metadata": {},
   "outputs": [
    {
     "data": {
      "text/plain": [
       "21"
      ]
     },
     "execution_count": 14,
     "metadata": {},
     "output_type": "execute_result"
    }
   ],
   "source": [
    "new_a.sum()"
   ]
  },
  {
   "cell_type": "code",
   "execution_count": 15,
   "id": "cfa00c96",
   "metadata": {},
   "outputs": [
    {
     "data": {
      "text/plain": [
       "array([5, 7, 9])"
      ]
     },
     "execution_count": 15,
     "metadata": {},
     "output_type": "execute_result"
    }
   ],
   "source": [
    "new_a.sum(axis=0)"
   ]
  },
  {
   "cell_type": "code",
   "execution_count": 16,
   "id": "99056f27",
   "metadata": {
    "scrolled": true
   },
   "outputs": [
    {
     "data": {
      "text/plain": [
       "array([ 6, 15])"
      ]
     },
     "execution_count": 16,
     "metadata": {},
     "output_type": "execute_result"
    }
   ],
   "source": [
    "new_a.sum(axis=1)"
   ]
  },
  {
   "cell_type": "markdown",
   "id": "b5cc8aa6",
   "metadata": {},
   "source": [
    "Applying functions to matrices:"
   ]
  },
  {
   "cell_type": "code",
   "execution_count": 17,
   "id": "03fdc6b1",
   "metadata": {},
   "outputs": [
    {
     "data": {
      "text/plain": [
       "array([[1.        , 1.41421356, 1.73205081],\n",
       "       [2.        , 2.23606798, 2.44948974]])"
      ]
     },
     "execution_count": 17,
     "metadata": {},
     "output_type": "execute_result"
    }
   ],
   "source": [
    "np.sqrt(new_a)"
   ]
  },
  {
   "cell_type": "markdown",
   "id": "7fb7faac",
   "metadata": {},
   "source": [
    "#### Random numbers"
   ]
  },
  {
   "cell_type": "code",
   "execution_count": 18,
   "id": "7085dee8",
   "metadata": {},
   "outputs": [],
   "source": [
    "?np.random"
   ]
  },
  {
   "cell_type": "markdown",
   "id": "0d99a75f",
   "metadata": {},
   "source": [
    "Function `np.random.rand` generates a random number between 0 and 1:"
   ]
  },
  {
   "cell_type": "code",
   "execution_count": 19,
   "id": "3fd03c1e",
   "metadata": {
    "scrolled": true
   },
   "outputs": [
    {
     "data": {
      "text/plain": [
       "0.6092429995166719"
      ]
     },
     "execution_count": 19,
     "metadata": {},
     "output_type": "execute_result"
    }
   ],
   "source": [
    "np.random.rand()"
   ]
  },
  {
   "cell_type": "markdown",
   "id": "b529241e",
   "metadata": {},
   "source": [
    "Passing it the number of samples you can get an array or a matrix of random numbers:"
   ]
  },
  {
   "cell_type": "code",
   "execution_count": 20,
   "id": "0400fc84",
   "metadata": {},
   "outputs": [
    {
     "data": {
      "text/plain": [
       "array([0.75745726, 0.64540107, 0.73602099, 0.12535285, 0.33897256,\n",
       "       0.78102392, 0.55569106, 0.45700212, 0.65261878, 0.64739576,\n",
       "       0.98097783, 0.19088802, 0.89880255, 0.5737551 , 0.90363541,\n",
       "       0.52283674, 0.00760993, 0.12653801, 0.15118865, 0.49084007,\n",
       "       0.5458094 , 0.65650754, 0.75469451, 0.08558432, 0.44120781,\n",
       "       0.32025485, 0.46455968, 0.15135067, 0.33001541, 0.51436801,\n",
       "       0.36865432, 0.39434548, 0.07493826, 0.4268958 , 0.8057299 ,\n",
       "       0.64237067, 0.70216697, 0.52969689, 0.75042867, 0.79494831,\n",
       "       0.64986038, 0.45374842, 0.49924226, 0.80770988, 0.12016263,\n",
       "       0.1338427 , 0.92964616, 0.83399785, 0.7417273 , 0.12999954,\n",
       "       0.4554705 , 0.92489879, 0.11866318, 0.63169727, 0.62373061,\n",
       "       0.04922976, 0.53426753, 0.63376835, 0.12219112, 0.14461208,\n",
       "       0.01205825, 0.88969405, 0.36775081, 0.75502736, 0.97039601,\n",
       "       0.99924516, 0.33555621, 0.44489495, 0.77160715, 0.12027165,\n",
       "       0.79275576, 0.73229675, 0.49628783, 0.85705599, 0.2507823 ,\n",
       "       0.88847681, 0.63790826, 0.10318336, 0.28712324, 0.47485342,\n",
       "       0.55169123, 0.84855217, 0.77373337, 0.23453062, 0.87010532,\n",
       "       0.54109325, 0.26900755, 0.0144615 , 0.27234756, 0.07545863,\n",
       "       0.66906192, 0.37475544, 0.40845903, 0.51773344, 0.93388453,\n",
       "       0.81485787, 0.84657713, 0.14733131, 0.2495345 , 0.45754223])"
      ]
     },
     "execution_count": 20,
     "metadata": {},
     "output_type": "execute_result"
    }
   ],
   "source": [
    "np.random.rand(100)"
   ]
  },
  {
   "cell_type": "markdown",
   "id": "87e09cff",
   "metadata": {},
   "source": [
    "This function we typically use when we want to 'simulate' coin tosses, or another random event that we expect to happen with a certain fixed probability. For example, every time a random number if les or equal than 0.5, we'll say head appeared:"
   ]
  },
  {
   "cell_type": "code",
   "execution_count": 21,
   "id": "dd8b4853",
   "metadata": {},
   "outputs": [
    {
     "data": {
      "text/plain": [
       "array([0.00868138, 0.37719917, 0.51562669, 0.49297357, 0.94909612,\n",
       "       0.0468971 , 0.5950978 , 0.13091572, 0.8598761 , 0.73044083])"
      ]
     },
     "execution_count": 21,
     "metadata": {},
     "output_type": "execute_result"
    }
   ],
   "source": [
    "np.random.rand(10)"
   ]
  },
  {
   "cell_type": "code",
   "execution_count": 22,
   "id": "6aa11ea9",
   "metadata": {},
   "outputs": [
    {
     "data": {
      "text/plain": [
       "array([ True, False,  True, False, False,  True,  True, False,  True,\n",
       "       False])"
      ]
     },
     "execution_count": 22,
     "metadata": {},
     "output_type": "execute_result"
    }
   ],
   "source": [
    "np.random.rand(10)<=0.5"
   ]
  },
  {
   "cell_type": "markdown",
   "id": "c707436a",
   "metadata": {},
   "source": [
    "We can sum those to check how many heads we got:"
   ]
  },
  {
   "cell_type": "code",
   "execution_count": 23,
   "id": "7f66f058",
   "metadata": {},
   "outputs": [
    {
     "data": {
      "text/plain": [
       "6"
      ]
     },
     "execution_count": 23,
     "metadata": {},
     "output_type": "execute_result"
    }
   ],
   "source": [
    "(np.random.rand(10)<=0.5).sum()"
   ]
  },
  {
   "cell_type": "markdown",
   "id": "81720b98",
   "metadata": {},
   "source": [
    "Let's create a larger sample of these random numbers so that we can calculate some basic statistics on them:"
   ]
  },
  {
   "cell_type": "code",
   "execution_count": 24,
   "id": "7ebbc156",
   "metadata": {},
   "outputs": [],
   "source": [
    "sample = np.random.rand(500)"
   ]
  },
  {
   "cell_type": "code",
   "execution_count": 25,
   "id": "072c8582",
   "metadata": {},
   "outputs": [
    {
     "data": {
      "text/plain": [
       "(0.49840325265990615, 0.49840325265990615)"
      ]
     },
     "execution_count": 25,
     "metadata": {},
     "output_type": "execute_result"
    }
   ],
   "source": [
    "sample.mean(), sample.sum()/sample.size"
   ]
  },
  {
   "cell_type": "code",
   "execution_count": 26,
   "id": "cf9f8e7e",
   "metadata": {},
   "outputs": [
    {
     "data": {
      "text/plain": [
       "0.47835781702422175"
      ]
     },
     "execution_count": 26,
     "metadata": {},
     "output_type": "execute_result"
    }
   ],
   "source": [
    "np.median(sample)"
   ]
  },
  {
   "cell_type": "code",
   "execution_count": 27,
   "id": "2d1c829f",
   "metadata": {},
   "outputs": [
    {
     "data": {
      "text/plain": [
       "0.08752352050347946"
      ]
     },
     "execution_count": 27,
     "metadata": {},
     "output_type": "execute_result"
    }
   ],
   "source": [
    "np.var(sample)"
   ]
  },
  {
   "cell_type": "code",
   "execution_count": 28,
   "id": "e6d468f8",
   "metadata": {},
   "outputs": [
    {
     "data": {
      "text/plain": [
       "0.2958437433907965"
      ]
     },
     "execution_count": 28,
     "metadata": {},
     "output_type": "execute_result"
    }
   ],
   "source": [
    "np.std(sample)"
   ]
  },
  {
   "cell_type": "code",
   "execution_count": 29,
   "id": "f6926a79",
   "metadata": {
    "scrolled": true
   },
   "outputs": [
    {
     "data": {
      "text/plain": [
       "0.9146015590235761"
      ]
     },
     "execution_count": 29,
     "metadata": {},
     "output_type": "execute_result"
    }
   ],
   "source": [
    "np.quantile(sample,0.9)"
   ]
  },
  {
   "cell_type": "code",
   "execution_count": 30,
   "id": "574c9828",
   "metadata": {},
   "outputs": [],
   "source": [
    "?np.histogram"
   ]
  },
  {
   "cell_type": "code",
   "execution_count": 31,
   "id": "110954e6",
   "metadata": {},
   "outputs": [
    {
     "data": {
      "text/plain": [
       "(array([54, 52, 47, 56, 51, 46, 38, 48, 48, 60]),\n",
       " array([0.00293553, 0.10256632, 0.2021971 , 0.30182789, 0.40145867,\n",
       "        0.50108945, 0.60072024, 0.70035102, 0.79998181, 0.89961259,\n",
       "        0.99924338]))"
      ]
     },
     "execution_count": 31,
     "metadata": {},
     "output_type": "execute_result"
    }
   ],
   "source": [
    "np.histogram(sample)"
   ]
  },
  {
   "cell_type": "code",
   "execution_count": 32,
   "id": "6cba8673",
   "metadata": {},
   "outputs": [
    {
     "data": {
      "text/plain": [
       "(array([54., 52., 47., 56., 51., 46., 38., 48., 48., 60.]),\n",
       " array([0.00293553, 0.10256632, 0.2021971 , 0.30182789, 0.40145867,\n",
       "        0.50108945, 0.60072024, 0.70035102, 0.79998181, 0.89961259,\n",
       "        0.99924338]),\n",
       " <BarContainer object of 10 artists>)"
      ]
     },
     "execution_count": 32,
     "metadata": {},
     "output_type": "execute_result"
    },
    {
     "data": {
      "image/png": "[encoded data removed]",
      "text/plain": [
       "<Figure size 432x288 with 1 Axes>"
      ]
     },
     "metadata": {
      "needs_background": "light"
     },
     "output_type": "display_data"
    }
   ],
   "source": [
    "plt.hist(sample)"
   ]
  },
  {
   "cell_type": "code",
   "execution_count": 33,
   "id": "11ae7a5e",
   "metadata": {},
   "outputs": [
    {
     "data": {
      "text/plain": [
       "<matplotlib.lines.Line2D at 0x7fc05032a040>"
      ]
     },
     "execution_count": 33,
     "metadata": {},
     "output_type": "execute_result"
    },
    {
     "data": {
      "image/png": "[encoded data removed]",
      "text/plain": [
       "<Figure size 432x288 with 1 Axes>"
      ]
     },
     "metadata": {
      "needs_background": "light"
     },
     "output_type": "display_data"
    }
   ],
   "source": [
    "plt.hist(sample)\n",
    "plt.axvline(x=np.mean(sample),color='red')"
   ]
  },
  {
   "cell_type": "code",
   "execution_count": 34,
   "id": "2403bfad",
   "metadata": {},
   "outputs": [
    {
     "data": {
      "text/plain": [
       "<matplotlib.lines.Line2D at 0x7fc03284b730>"
      ]
     },
     "execution_count": 34,
     "metadata": {},
     "output_type": "execute_result"
    },
    {
     "data": {
      "image/png": "[encoded data removed]",
      "text/plain": [
       "<Figure size 432x288 with 1 Axes>"
      ]
     },
     "metadata": {
      "needs_background": "light"
     },
     "output_type": "display_data"
    }
   ],
   "source": [
    "n_sample = np.random.randn(1000)\n",
    "\n",
    "plt.hist(n_sample)\n",
    "plt.axvline(x=np.mean(n_sample),color='red')"
   ]
  },
  {
   "cell_type": "code",
   "execution_count": 35,
   "id": "288f0468",
   "metadata": {},
   "outputs": [
    {
     "data": {
      "text/plain": [
       "<matplotlib.lines.Line2D at 0x7fc0202b42e0>"
      ]
     },
     "execution_count": 35,
     "metadata": {},
     "output_type": "execute_result"
    },
    {
     "data": {
      "image/png": "[encoded data removed]",
      "text/plain": [
       "<Figure size 432x288 with 1 Axes>"
      ]
     },
     "metadata": {
      "needs_background": "light"
     },
     "output_type": "display_data"
    }
   ],
   "source": [
    "e_sample = np.random.exponential(1,1000)\n",
    "\n",
    "plt.hist(e_sample)\n",
    "plt.axvline(x=np.mean(e_sample),color='red')\n",
    "plt.axvline(x=np.median(e_sample),color='black')"
   ]
  },
  {
   "cell_type": "code",
   "execution_count": null,
   "id": "a493e847",
   "metadata": {},
   "outputs": [],
   "source": []
  },
  {
   "cell_type": "code",
   "execution_count": null,
   "id": "5b63c98f",
   "metadata": {},
   "outputs": [],
   "source": []
  }
 ],
 "metadata": {
  "kernelspec": {
   "display_name": "Python 3 (ipykernel)",
   "language": "python",
   "name": "python3"
  },
  "language_info": {
   "codemirror_mode": {
    "name": "ipython",
    "version": 3
   },
   "file_extension": ".py",
   "mimetype": "text/x-python",
   "name": "python",
   "nbconvert_exporter": "python",
   "pygments_lexer": "ipython3",
   "version": "3.9.7"
  }
 },
 "nbformat": 4,
 "nbformat_minor": 5
}
