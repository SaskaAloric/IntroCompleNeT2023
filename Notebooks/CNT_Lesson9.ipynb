{
 "cells": [
  {
   "cell_type": "markdown",
   "id": "911acd22",
   "metadata": {},
   "source": [
    "# Introduction to complex networks theory\n",
    "## Lesson 9: Models of random networks\n",
    "\n",
    "\n",
    "In this notebook we investigate random networks."
   ]
  },
  {
   "cell_type": "code",
   "execution_count": 1,
   "id": "be2baa8c",
   "metadata": {},
   "outputs": [],
   "source": [
    "import pandas as pd\n",
    "import numpy as np\n",
    "import networkx as nx\n",
    "import matplotlib.pyplot as plt\n",
    "import random"
   ]
  },
  {
   "cell_type": "code",
   "execution_count": 8,
   "id": "9e3aa890",
   "metadata": {},
   "outputs": [],
   "source": [
    "# random.random()\n",
    "# np.random.rand()"
   ]
  },
  {
   "cell_type": "markdown",
   "id": "fe7fe6aa",
   "metadata": {},
   "source": [
    "### Example network measurements\n",
    "Let's return to one of the networks we've already studied, the interactions between game of thrones characters:"
   ]
  },
  {
   "cell_type": "code",
   "execution_count": 9,
   "id": "145cd5b0",
   "metadata": {},
   "outputs": [],
   "source": [
    "data = pd.read_csv('../data/game_thrones/edges.csv')\n",
    "\n",
    "G_gt = nx.from_pandas_edgelist(data, \n",
    "                               source = '# source', \n",
    "                               target = ' target')"
   ]
  },
  {
   "cell_type": "code",
   "execution_count": 10,
   "id": "fc6075e6",
   "metadata": {},
   "outputs": [
    {
     "data": {
      "text/html": [
       "<div>\n",
       "<style scoped>\n",
       "    .dataframe tbody tr th:only-of-type {\n",
       "        vertical-align: middle;\n",
       "    }\n",
       "\n",
       "    .dataframe tbody tr th {\n",
       "        vertical-align: top;\n",
       "    }\n",
       "\n",
       "    .dataframe thead th {\n",
       "        text-align: right;\n",
       "    }\n",
       "</style>\n",
       "<table border=\"1\" class=\"dataframe\">\n",
       "  <thead>\n",
       "    <tr style=\"text-align: right;\">\n",
       "      <th></th>\n",
       "      <th># source</th>\n",
       "      <th>target</th>\n",
       "      <th>weight</th>\n",
       "    </tr>\n",
       "  </thead>\n",
       "  <tbody>\n",
       "    <tr>\n",
       "      <th>0</th>\n",
       "      <td>0</td>\n",
       "      <td>1</td>\n",
       "      <td>5</td>\n",
       "    </tr>\n",
       "    <tr>\n",
       "      <th>1</th>\n",
       "      <td>0</td>\n",
       "      <td>2</td>\n",
       "      <td>31</td>\n",
       "    </tr>\n",
       "    <tr>\n",
       "      <th>2</th>\n",
       "      <td>2</td>\n",
       "      <td>82</td>\n",
       "      <td>6</td>\n",
       "    </tr>\n",
       "    <tr>\n",
       "      <th>3</th>\n",
       "      <td>2</td>\n",
       "      <td>58</td>\n",
       "      <td>34</td>\n",
       "    </tr>\n",
       "    <tr>\n",
       "      <th>4</th>\n",
       "      <td>2</td>\n",
       "      <td>76</td>\n",
       "      <td>12</td>\n",
       "    </tr>\n",
       "  </tbody>\n",
       "</table>\n",
       "</div>"
      ],
      "text/plain": [
       "   # source   target   weight\n",
       "0         0        1        5\n",
       "1         0        2       31\n",
       "2         2       82        6\n",
       "3         2       58       34\n",
       "4         2       76       12"
      ]
     },
     "execution_count": 10,
     "metadata": {},
     "output_type": "execute_result"
    }
   ],
   "source": [
    "data.head()"
   ]
  },
  {
   "cell_type": "markdown",
   "id": "f2b046b7",
   "metadata": {},
   "source": [
    "And let us repeat some of the typical metrics measurement:"
   ]
  },
  {
   "cell_type": "code",
   "execution_count": 11,
   "id": "62a02669",
   "metadata": {},
   "outputs": [
    {
     "name": "stdout",
     "output_type": "stream",
     "text": [
      "Number of nodes is 107, while the number of edges is 352\n"
     ]
    }
   ],
   "source": [
    "N = G_gt.number_of_nodes()\n",
    "L = G_gt.number_of_edges()\n",
    "\n",
    "print(f'Number of nodes is {N}, while the number of edges is {L}')"
   ]
  },
  {
   "cell_type": "code",
   "execution_count": 12,
   "id": "ce7bec35",
   "metadata": {},
   "outputs": [
    {
     "name": "stdout",
     "output_type": "stream",
     "text": [
      "Average degree is 6.579439252336448\n"
     ]
    }
   ],
   "source": [
    "degrees = dict(nx.degree(G_gt))\n",
    "avg_degree = np.mean(list(degrees.values()))\n",
    "\n",
    "print(f'Average degree is {avg_degree}')"
   ]
  },
  {
   "cell_type": "code",
   "execution_count": 13,
   "id": "ec1064c2",
   "metadata": {},
   "outputs": [
    {
     "data": {
      "text/plain": [
       "6.579439252336448"
      ]
     },
     "execution_count": 13,
     "metadata": {},
     "output_type": "execute_result"
    }
   ],
   "source": [
    "2*L/N"
   ]
  },
  {
   "cell_type": "code",
   "execution_count": 14,
   "id": "00c6c5cd",
   "metadata": {},
   "outputs": [
    {
     "name": "stdout",
     "output_type": "stream",
     "text": [
      "Average path length is 2.903897019925939\n"
     ]
    }
   ],
   "source": [
    "avg_path_len_gt = nx.average_shortest_path_length(G_gt)\n",
    "print(f'Average path length is {avg_path_len_gt}')"
   ]
  },
  {
   "cell_type": "code",
   "execution_count": 15,
   "id": "7c6d2cf8",
   "metadata": {},
   "outputs": [
    {
     "name": "stdout",
     "output_type": "stream",
     "text": [
      "Average clustering coefficient is 0.5514431515599961\n"
     ]
    }
   ],
   "source": [
    "avg_clustering_gt = nx.average_clustering(G_gt)\n",
    "print(f'Average clustering coefficient is {avg_clustering_gt}')"
   ]
  },
  {
   "cell_type": "markdown",
   "id": "ed867e50",
   "metadata": {},
   "source": [
    "Now that we have thes measures, we are left puzzled if these values are high/low? Is it expected for a network of this size to have large clustering coefficient or small average path? Let's build our expectations using a few different model networks."
   ]
  },
  {
   "cell_type": "markdown",
   "id": "01fd6c84",
   "metadata": {},
   "source": [
    "### Random regular graph\n",
    "\n",
    "We might start with a regular graph - that means that every node will have exactly the same degree that we define on input."
   ]
  },
  {
   "cell_type": "code",
   "execution_count": 17,
   "id": "86acfb26",
   "metadata": {},
   "outputs": [],
   "source": [
    "?nx.random_regular_graph"
   ]
  },
  {
   "cell_type": "code",
   "execution_count": 22,
   "id": "f1642613",
   "metadata": {},
   "outputs": [
    {
     "data": {
      "image/png": "[encoded data removed]",
      "text/plain": [
       "<Figure size 432x288 with 1 Axes>"
      ]
     },
     "metadata": {},
     "output_type": "display_data"
    }
   ],
   "source": [
    "G_regular = nx.random_regular_graph(2,10)\n",
    "nx.draw_circular(G_regular)"
   ]
  },
  {
   "cell_type": "markdown",
   "id": "eac02d81",
   "metadata": {},
   "source": [
    "To make it comparable with our GoT network, we can create random regulr graph with the same number of nodes, and the same average degree (closest integer)."
   ]
  },
  {
   "cell_type": "code",
   "execution_count": 23,
   "id": "b3d5034f",
   "metadata": {},
   "outputs": [
    {
     "data": {
      "text/plain": [
       "6.579439252336448"
      ]
     },
     "execution_count": 23,
     "metadata": {},
     "output_type": "execute_result"
    }
   ],
   "source": [
    "avg_degree"
   ]
  },
  {
   "cell_type": "code",
   "execution_count": 48,
   "id": "a610f02f",
   "metadata": {},
   "outputs": [],
   "source": [
    "avg_degree = 2*L/N\n",
    "\n",
    "G_regular = nx.random_regular_graph(int(avg_degree),N)"
   ]
  },
  {
   "cell_type": "code",
   "execution_count": 49,
   "id": "a1c4b99f",
   "metadata": {},
   "outputs": [
    {
     "data": {
      "text/plain": [
       "DegreeView({36: 6, 53: 6, 55: 6, 93: 6, 21: 6, 37: 6, 58: 6, 86: 6, 48: 6, 63: 6, 11: 6, 23: 6, 44: 6, 47: 6, 43: 6, 60: 6, 22: 6, 46: 6, 18: 6, 30: 6, 70: 6, 77: 6, 69: 6, 90: 6, 99: 6, 27: 6, 102: 6, 103: 6, 31: 6, 81: 6, 54: 6, 92: 6, 32: 6, 106: 6, 13: 6, 91: 6, 56: 6, 61: 6, 38: 6, 89: 6, 76: 6, 5: 6, 82: 6, 96: 6, 6: 6, 65: 6, 39: 6, 62: 6, 8: 6, 72: 6, 35: 6, 12: 6, 64: 6, 100: 6, 45: 6, 105: 6, 17: 6, 34: 6, 98: 6, 9: 6, 101: 6, 68: 6, 83: 6, 0: 6, 75: 6, 88: 6, 97: 6, 51: 6, 67: 6, 59: 6, 16: 6, 28: 6, 26: 6, 49: 6, 80: 6, 84: 6, 2: 6, 3: 6, 10: 6, 25: 6, 19: 6, 71: 6, 24: 6, 50: 6, 95: 6, 20: 6, 78: 6, 57: 6, 87: 6, 1: 6, 29: 6, 33: 6, 15: 6, 85: 6, 7: 6, 73: 6, 94: 6, 52: 6, 74: 6, 4: 6, 79: 6, 14: 6, 40: 6, 41: 6, 42: 6, 104: 6, 66: 6})"
      ]
     },
     "execution_count": 49,
     "metadata": {},
     "output_type": "execute_result"
    }
   ],
   "source": [
    "G_regular.degree()"
   ]
  },
  {
   "cell_type": "markdown",
   "id": "07ddb663",
   "metadata": {},
   "source": [
    "The fact that everyone has the same degree is already something we know is not typical for the network we study, but let's investigate other properties:"
   ]
  },
  {
   "cell_type": "code",
   "execution_count": 50,
   "id": "70f53ac9",
   "metadata": {},
   "outputs": [
    {
     "name": "stdout",
     "output_type": "stream",
     "text": [
      "Average path length is 2.7972138952565686\n"
     ]
    }
   ],
   "source": [
    "avg_path_len = nx.average_shortest_path_length(G_regular)\n",
    "print(f'Average path length is {avg_path_len}')"
   ]
  },
  {
   "cell_type": "markdown",
   "id": "53752480",
   "metadata": {},
   "source": [
    "The average path length is already quite close to the result we've seen, we can check if that is consequence of the mean degree, let's see the values of mean path lengths for a few graphs with the same number of nodes but different mean degree:"
   ]
  },
  {
   "cell_type": "code",
   "execution_count": 55,
   "id": "3eda2349",
   "metadata": {},
   "outputs": [
    {
     "name": "stdout",
     "output_type": "stream",
     "text": [
      "Average path length in a graph with mean degree 2 is 27.252336448598133\n",
      "Average path length in a graph with mean degree 3 is 4.826583592938733\n",
      "Average path length in a graph with mean degree 4 is 3.607130494980962\n",
      "Average path length in a graph with mean degree 5 is 3.12184146763586\n",
      "Average path length in a graph with mean degree 6 is 2.7892004153686396\n",
      "Average path length in a graph with mean degree 7 is 2.590515749394254\n",
      "Average path length in a graph with mean degree 8 is 2.459847698165455\n",
      "Average path length in a graph with mean degree 9 is 2.355313257182416\n"
     ]
    }
   ],
   "source": [
    "for avg_deg in range(2,10):\n",
    "    G_regular = nx.random_regular_graph(avg_deg,N+1)\n",
    "    avg_path_len = nx.average_shortest_path_length(G_regular)\n",
    "    print(f'Average path length in a graph with mean degree {avg_deg} is {avg_path_len}')"
   ]
  },
  {
   "cell_type": "markdown",
   "id": "acc74f2a",
   "metadata": {},
   "source": [
    "What about the clustering coefficient:"
   ]
  },
  {
   "cell_type": "code",
   "execution_count": 56,
   "id": "071ad8a1",
   "metadata": {
    "scrolled": true
   },
   "outputs": [
    {
     "name": "stdout",
     "output_type": "stream",
     "text": [
      "Average clustering coefficient is 0.06481481481481473\n"
     ]
    }
   ],
   "source": [
    "avg_clustering = nx.average_clustering(G_regular)\n",
    "print(f'Average clustering coefficient is {avg_clustering}')"
   ]
  },
  {
   "cell_type": "markdown",
   "id": "e86f70da",
   "metadata": {},
   "source": [
    "The clustering coefficient we obtain is very low compared to the clustering we have seen in network of Game of Thrones characters.\n",
    "\n",
    "Let's see other types of random graphs we can create,"
   ]
  },
  {
   "cell_type": "markdown",
   "id": "eae318a8",
   "metadata": {},
   "source": [
    "### Erdős-Rényi random networks\n",
    "\n",
    "Let's first try with random graphs that have fixed N and L. Compared to previous random regular graphs, here node degrees will not be the same, but the total number of links will be the same with every realisation."
   ]
  },
  {
   "cell_type": "markdown",
   "id": "869af02d",
   "metadata": {},
   "source": [
    "Here's a first simple example with small number of nodes and links so that we can see differences in realisations:"
   ]
  },
  {
   "cell_type": "code",
   "execution_count": 64,
   "id": "2fa5280d",
   "metadata": {},
   "outputs": [
    {
     "data": {
      "image/png": "[encoded data removed]",
      "text/plain": [
       "<Figure size 432x288 with 1 Axes>"
      ]
     },
     "metadata": {},
     "output_type": "display_data"
    }
   ],
   "source": [
    "G = nx.gnm_random_graph(10,10)\n",
    "pos = nx.circular_layout(G)\n",
    "\n",
    "nx.draw_networkx_nodes(G,pos,node_color='yellow')\n",
    "nx.draw_networkx_edges(G,pos)\n",
    "nx.draw_networkx_labels(G,pos)\n",
    "plt.axis('off')\n",
    "plt.show()"
   ]
  },
  {
   "cell_type": "markdown",
   "id": "90e32528",
   "metadata": {},
   "source": [
    "Run previous code several times to see different realisations of graph (different in terms of connectivity, degrees etc) but with always the same number of links."
   ]
  },
  {
   "cell_type": "markdown",
   "id": "90fe8777",
   "metadata": {},
   "source": [
    "To create a graph comparable to the GoT, let's create a graph with the same number of nodes and links:"
   ]
  },
  {
   "cell_type": "code",
   "execution_count": 66,
   "id": "53bd2ed1",
   "metadata": {},
   "outputs": [],
   "source": [
    "?nx.gnm_random_graph"
   ]
  },
  {
   "cell_type": "code",
   "execution_count": 65,
   "id": "66ab0396",
   "metadata": {},
   "outputs": [],
   "source": [
    "G_rand = nx.gnm_random_graph(N,L)"
   ]
  },
  {
   "cell_type": "markdown",
   "id": "4ec00d1e",
   "metadata": {},
   "source": [
    "Let's start again from the degree, what do you expect?"
   ]
  },
  {
   "cell_type": "code",
   "execution_count": 67,
   "id": "071ddb71",
   "metadata": {},
   "outputs": [
    {
     "name": "stdout",
     "output_type": "stream",
     "text": [
      "Average degree is 6.579439252336448\n"
     ]
    }
   ],
   "source": [
    "degrees = dict(nx.degree(G_rand))\n",
    "avg_degree = np.mean(list(degrees.values()))\n",
    "\n",
    "print(f'Average degree is {avg_degree}')"
   ]
  },
  {
   "cell_type": "markdown",
   "id": "1cc6e432",
   "metadata": {},
   "source": [
    "Given that we kept the same number of links and nodes, the average degree which is function of these two numbers is the same.\n",
    "\n",
    "Let's see some of the other metrics:"
   ]
  },
  {
   "cell_type": "code",
   "execution_count": 68,
   "id": "058487e8",
   "metadata": {},
   "outputs": [
    {
     "name": "stdout",
     "output_type": "stream",
     "text": [
      "Average clustering coefficient is 0.05968979099820217\n"
     ]
    }
   ],
   "source": [
    "avg_clustering = nx.average_clustering(G_rand)\n",
    "print(f'Average clustering coefficient is {avg_clustering}')"
   ]
  },
  {
   "cell_type": "markdown",
   "id": "046113b9",
   "metadata": {},
   "source": [
    "We see that the clustering is still much smaller in a random graph than the one we have observed in a real network."
   ]
  },
  {
   "cell_type": "code",
   "execution_count": 69,
   "id": "199d26e8",
   "metadata": {
    "scrolled": true
   },
   "outputs": [
    {
     "name": "stdout",
     "output_type": "stream",
     "text": [
      "Average path length is 2.6766002468700405\n"
     ]
    }
   ],
   "source": [
    "avg_path_len = nx.average_shortest_path_length(G_rand)\n",
    "print(f'Average path length is {avg_path_len}')"
   ]
  },
  {
   "cell_type": "markdown",
   "id": "921a9860",
   "metadata": {},
   "source": [
    "While the average shortest path is close to the previously observed one.\n",
    "If you try to run the code above several time (recreate the network and calculate average path) it might happen that the code doesn't work. What do you think why is that?"
   ]
  },
  {
   "cell_type": "markdown",
   "id": "f8cd3679",
   "metadata": {},
   "source": [
    "The created network will not always lead to the connected network, let's see among 100 random realisation, how often the network with the same N and L is connected:"
   ]
  },
  {
   "cell_type": "code",
   "execution_count": 74,
   "id": "66243d50",
   "metadata": {
    "scrolled": true
   },
   "outputs": [
    {
     "name": "stdout",
     "output_type": "stream",
     "text": [
      "Number of times a random graph with 107 nodes and 352 links ended up connected is 90\n"
     ]
    }
   ],
   "source": [
    "numb_connected = 0\n",
    "for i in range(100):\n",
    "    G_rand = nx.gnm_random_graph(N,L)\n",
    "    numb_connected+= int(nx.is_connected(G_rand))\n",
    "print(f'Number of times a random graph with {N} nodes and {L} links ended up connected is {numb_connected}')"
   ]
  },
  {
   "cell_type": "code",
   "execution_count": 73,
   "id": "aeead3b4",
   "metadata": {},
   "outputs": [
    {
     "data": {
      "text/plain": [
       "True"
      ]
     },
     "execution_count": 73,
     "metadata": {},
     "output_type": "execute_result"
    }
   ],
   "source": [
    "nx.is_connected(G_gt)"
   ]
  },
  {
   "cell_type": "markdown",
   "id": "ab44376c",
   "metadata": {},
   "source": [
    "Another way to create Erdős-Rényi random graphs is to fix the probability of link existence rather than actual number of nodes. That means that if you create network multiple times, the number of links will not be the same, but the expected number of links will."
   ]
  },
  {
   "cell_type": "code",
   "execution_count": 75,
   "id": "5d928110",
   "metadata": {},
   "outputs": [],
   "source": [
    "?nx.random_graphs.erdos_renyi_graph"
   ]
  },
  {
   "cell_type": "markdown",
   "id": "9e3a4425",
   "metadata": {},
   "source": [
    "Here's first the toy example, let's keep the number of links and nodes with the simple graph we used to indroduce gnm_random_graph:"
   ]
  },
  {
   "cell_type": "code",
   "execution_count": 83,
   "id": "3f7d20f1",
   "metadata": {},
   "outputs": [
    {
     "data": {
      "image/png": "[encoded data removed]",
      "text/plain": [
       "<Figure size 432x288 with 1 Axes>"
      ]
     },
     "metadata": {},
     "output_type": "display_data"
    }
   ],
   "source": [
    "temp_n = 10 \n",
    "temp_l = 10\n",
    "p = 2*temp_l/(temp_n*(temp_n-1))\n",
    "G = nx.random_graphs.erdos_renyi_graph(temp_n,p)\n",
    "pos = nx.circular_layout(G)\n",
    "\n",
    "nx.draw_networkx_nodes(G,pos,node_color='yellow')\n",
    "nx.draw_networkx_edges(G,pos)\n",
    "nx.draw_networkx_labels(G,pos)\n",
    "plt.axis('off')\n",
    "plt.title(f'Number of links is {G.number_of_edges()}')\n",
    "plt.show()"
   ]
  },
  {
   "cell_type": "markdown",
   "id": "2baf8b26",
   "metadata": {},
   "source": [
    "If you rerun previous code multiple times you will see that the number of links we create can vary dramatically, let's see how different it is in 100 different realisations:"
   ]
  },
  {
   "cell_type": "code",
   "execution_count": 87,
   "id": "eebb9c35",
   "metadata": {},
   "outputs": [],
   "source": [
    "p = 2*temp_l/(temp_n*(temp_n-1)) #keep the same p \n",
    "\n",
    "total_links = []\n",
    "for i in range(10000):\n",
    "    G = nx.random_graphs.erdos_renyi_graph(temp_n,p)\n",
    "    total_links.append(G.number_of_edges())"
   ]
  },
  {
   "cell_type": "code",
   "execution_count": 88,
   "id": "24c93f77",
   "metadata": {},
   "outputs": [
    {
     "data": {
      "text/plain": [
       "[12, 9, 15, 7, 7, 9, 11, 10, 12, 11]"
      ]
     },
     "execution_count": 88,
     "metadata": {},
     "output_type": "execute_result"
    }
   ],
   "source": [
    "total_links[:10]"
   ]
  },
  {
   "cell_type": "code",
   "execution_count": 101,
   "id": "15167bdf",
   "metadata": {},
   "outputs": [
    {
     "data": {
      "image/png": "[encoded data removed]",
      "text/plain": [
       "<Figure size 432x288 with 1 Axes>"
      ]
     },
     "metadata": {
      "needs_background": "light"
     },
     "output_type": "display_data"
    }
   ],
   "source": [
    "plt.hist(total_links,bins=[*range(min(total_links),max(total_links)+2)])\n",
    "plt.axvline(x=temp_l,color='red')\n",
    "plt.show()"
   ]
  },
  {
   "cell_type": "code",
   "execution_count": 90,
   "id": "c437a7f8",
   "metadata": {},
   "outputs": [
    {
     "data": {
      "text/plain": [
       "10.0125"
      ]
     },
     "execution_count": 90,
     "metadata": {},
     "output_type": "execute_result"
    }
   ],
   "source": [
    "np.mean(total_links)"
   ]
  },
  {
   "cell_type": "markdown",
   "id": "953ea6bf",
   "metadata": {},
   "source": [
    "How would you create similar histogram with aim to investigate average degree in 100 random graphs?"
   ]
  },
  {
   "cell_type": "code",
   "execution_count": 107,
   "id": "df8b6f9a",
   "metadata": {},
   "outputs": [
    {
     "data": {
      "image/png": "[encoded data removed]",
      "text/plain": [
       "<Figure size 432x288 with 1 Axes>"
      ]
     },
     "metadata": {
      "needs_background": "light"
     },
     "output_type": "display_data"
    }
   ],
   "source": [
    "# place for your code here\n",
    "\n",
    "mdegs = [2*l/temp_n for l in total_links]\n",
    "plt.hist(mdegs,bins=12)\n",
    "plt.show()\n",
    "# mdegs"
   ]
  },
  {
   "cell_type": "markdown",
   "id": "a2d243a0",
   "metadata": {},
   "source": [
    "Now, let's create comparable graph to our GoT graph. To have observed number of links, we will choose probability of link to corresponding graph's density:"
   ]
  },
  {
   "cell_type": "code",
   "execution_count": 108,
   "id": "c6dd0749",
   "metadata": {},
   "outputs": [
    {
     "data": {
      "text/plain": [
       "107"
      ]
     },
     "execution_count": 108,
     "metadata": {},
     "output_type": "execute_result"
    }
   ],
   "source": [
    "N"
   ]
  },
  {
   "cell_type": "code",
   "execution_count": 109,
   "id": "65bec9ec",
   "metadata": {},
   "outputs": [],
   "source": [
    "p=nx.density(G_gt)\n",
    "G_er = nx.random_graphs.erdos_renyi_graph(N,p,seed=5)"
   ]
  },
  {
   "cell_type": "markdown",
   "id": "3a6db949",
   "metadata": {},
   "source": [
    "As we've seen that the random graphs might be disconnected, we can check that proprety of our created graph:"
   ]
  },
  {
   "cell_type": "code",
   "execution_count": 110,
   "id": "16b7f62b",
   "metadata": {},
   "outputs": [
    {
     "data": {
      "text/plain": [
       "True"
      ]
     },
     "execution_count": 110,
     "metadata": {},
     "output_type": "execute_result"
    }
   ],
   "source": [
    "nx.is_connected(G_er)"
   ]
  },
  {
   "cell_type": "markdown",
   "id": "9d457384",
   "metadata": {},
   "source": [
    "For this realisation, we can check the average path and clustering:"
   ]
  },
  {
   "cell_type": "code",
   "execution_count": 111,
   "id": "234fe99c",
   "metadata": {},
   "outputs": [
    {
     "name": "stdout",
     "output_type": "stream",
     "text": [
      "Average path length is 2.73743607829307\n"
     ]
    }
   ],
   "source": [
    "avg_path_len = nx.average_shortest_path_length(G_er)\n",
    "print(f'Average path length is {avg_path_len}')"
   ]
  },
  {
   "cell_type": "code",
   "execution_count": 112,
   "id": "bde206d7",
   "metadata": {
    "scrolled": false
   },
   "outputs": [
    {
     "name": "stdout",
     "output_type": "stream",
     "text": [
      "Average clustering coefficient is 0.061686288789092526\n"
     ]
    }
   ],
   "source": [
    "avg_clustering = nx.average_clustering(G_er)\n",
    "print(f'Average clustering coefficient is {avg_clustering}')"
   ]
  },
  {
   "cell_type": "markdown",
   "id": "9ccb37cc",
   "metadata": {},
   "source": [
    "We can investigate different clustering coefficients that exist in the graph using the standard ways:"
   ]
  },
  {
   "cell_type": "code",
   "execution_count": 113,
   "id": "576e3244",
   "metadata": {},
   "outputs": [
    {
     "data": {
      "text/plain": [
       "Text(0, 0.5, 'Number of nodes')"
      ]
     },
     "execution_count": 113,
     "metadata": {},
     "output_type": "execute_result"
    },
    {
     "data": {
      "image/png": "[encoded data removed]",
      "text/plain": [
       "<Figure size 432x288 with 1 Axes>"
      ]
     },
     "metadata": {
      "needs_background": "light"
     },
     "output_type": "display_data"
    }
   ],
   "source": [
    "c_er = list(nx.clustering(G_er).values())\n",
    "\n",
    "plt.hist(c_er,bins=20)\n",
    "plt.xlabel('Clustering coef')\n",
    "plt.ylabel('Number of nodes')"
   ]
  },
  {
   "cell_type": "code",
   "execution_count": 114,
   "id": "cfbc37dd",
   "metadata": {},
   "outputs": [
    {
     "data": {
      "text/plain": [
       "0.06168628878909252"
      ]
     },
     "execution_count": 114,
     "metadata": {},
     "output_type": "execute_result"
    }
   ],
   "source": [
    "np.mean(c_er)"
   ]
  },
  {
   "cell_type": "code",
   "execution_count": 115,
   "id": "2929d93a",
   "metadata": {},
   "outputs": [
    {
     "data": {
      "text/plain": [
       "0.062070181625815554"
      ]
     },
     "execution_count": 115,
     "metadata": {},
     "output_type": "execute_result"
    }
   ],
   "source": [
    "p"
   ]
  },
  {
   "cell_type": "markdown",
   "id": "ee7c7f16",
   "metadata": {},
   "source": [
    "As we have seen there is variability in the random graphs we create, let us create 100 different random graphs with same N and p, and calculate their average path length and clustering and compare them with observed values for GoT graph."
   ]
  },
  {
   "cell_type": "code",
   "execution_count": 116,
   "id": "31e411d4",
   "metadata": {},
   "outputs": [],
   "source": [
    "random_avg_paths_lens = []\n",
    "random_clustering = []\n",
    "for i in range(100):\n",
    "    G_er = nx.random_graphs.erdos_renyi_graph(N,p)\n",
    "\n",
    "    while nx.is_connected(G_er)!=True:\n",
    "        G_er = nx.random_graphs.erdos_renyi_graph(N,p)\n",
    "\n",
    "    avg_path_len = nx.average_shortest_path_length(G_er)\n",
    "    avg_clustering = nx.average_clustering(G_er)\n",
    "\n",
    "    random_avg_paths_lens.append(avg_path_len)\n",
    "    random_clustering.append(avg_clustering)"
   ]
  },
  {
   "cell_type": "code",
   "execution_count": 117,
   "id": "72ce992a",
   "metadata": {},
   "outputs": [
    {
     "data": {
      "image/png": "[encoded data removed]",
      "text/plain": [
       "<Figure size 432x288 with 1 Axes>"
      ]
     },
     "metadata": {
      "needs_background": "light"
     },
     "output_type": "display_data"
    }
   ],
   "source": [
    "plt.hist(random_avg_paths_lens,bins=20)\n",
    "plt.axvline(x=avg_path_len_gt,color='red')\n",
    "plt.xlabel('Average path lenght')\n",
    "plt.ylabel('Number of random graphs')\n",
    "plt.show()"
   ]
  },
  {
   "cell_type": "markdown",
   "id": "e5bc220c",
   "metadata": {},
   "source": [
    "As we can observe, although the average shortest path seem similar in value to the is average paths in random graphs, among 100 different realisation, the value we measured in graph of the same average degree is an outlier. Let's see how clustering coeficient looks like:"
   ]
  },
  {
   "cell_type": "code",
   "execution_count": 118,
   "id": "983f08c5",
   "metadata": {
    "scrolled": true
   },
   "outputs": [
    {
     "data": {
      "image/png": "[encoded data removed]",
      "text/plain": [
       "<Figure size 432x288 with 1 Axes>"
      ]
     },
     "metadata": {
      "needs_background": "light"
     },
     "output_type": "display_data"
    }
   ],
   "source": [
    "plt.hist(random_clustering,bins=20)\n",
    "plt.axvline(x=avg_clustering_gt,color='red')\n",
    "plt.xlabel('Average clustering coef')\n",
    "plt.ylabel('Number of random graphs')\n",
    "plt.show()"
   ]
  },
  {
   "cell_type": "markdown",
   "id": "cfeea7c9",
   "metadata": {},
   "source": [
    "Here the situation is even more distinct - clustering we observe in real network is about 10 times higher than the mean values we see among different random networks."
   ]
  },
  {
   "cell_type": "markdown",
   "id": "4fe0b83c",
   "metadata": {},
   "source": [
    "#### How many links we would need to add to increase clustering coefficient to the value we observe in the data?"
   ]
  },
  {
   "cell_type": "code",
   "execution_count": 121,
   "id": "b7036523",
   "metadata": {
    "scrolled": true
   },
   "outputs": [
    {
     "data": {
      "text/plain": [
       "array([0.05, 0.1 , 0.15, 0.2 , 0.25, 0.3 , 0.35, 0.4 , 0.45, 0.5 , 0.55,\n",
       "       0.6 , 0.65, 0.7 , 0.75, 0.8 , 0.85, 0.9 , 0.95])"
      ]
     },
     "execution_count": 121,
     "metadata": {},
     "output_type": "execute_result"
    }
   ],
   "source": [
    "np.linspace(0.05,0.95,19)#[1:-1]"
   ]
  },
  {
   "cell_type": "code",
   "execution_count": 122,
   "id": "0b21f480",
   "metadata": {},
   "outputs": [],
   "source": [
    "results = []\n",
    "for p in np.linspace(0,1,21)[1:-1]: #we loop over different link probability values from least connected to most connected\n",
    "    G_er = nx.random_graphs.erdos_renyi_graph(N,p) # create random graph\n",
    "    while nx.is_connected(G_er)!=True: # create new graphs until one of them is connected (so that we can measure avg len)\n",
    "        G_er = nx.random_graphs.erdos_renyi_graph(N,p)\n",
    "    avg_path_len = nx.average_shortest_path_length(G_er)\n",
    "    avg_clustering = nx.average_clustering(G_er)\n",
    "    results.append([p,avg_path_len,avg_clustering])"
   ]
  },
  {
   "cell_type": "code",
   "execution_count": 123,
   "id": "48244d55",
   "metadata": {},
   "outputs": [
    {
     "data": {
      "text/plain": [
       "[[0.05, 2.9143008287779932, 0.04228772266155444],\n",
       " [0.1, 2.204549462175983, 0.09327339873331017],\n",
       " [0.15000000000000002, 1.9194145653323929, 0.15508881291751012],\n",
       " [0.2, 1.8229589137718216, 0.19551985521234222],\n",
       " [0.25, 1.7427261505907248, 0.25993023101284457],\n",
       " [0.30000000000000004, 1.712749074237348, 0.28914373233124274],\n",
       " [0.35000000000000003, 1.6536766002468701, 0.3463349601930321],\n",
       " [0.4, 1.5984835126080057, 0.40297256337114135],\n",
       " [0.45, 1.5447011109151825, 0.45430972519185914],\n",
       " [0.5, 1.5046728971962617, 0.4975298745418014],\n",
       " [0.55, 1.4572385822606242, 0.5404720221850379],\n",
       " [0.6000000000000001, 1.4046905307705873, 0.5935850334348782],\n",
       " [0.65, 1.3498501146182331, 0.6484647365660658],\n",
       " [0.7000000000000001, 1.293951684006348, 0.7070208003807655],\n",
       " [0.75, 1.2486333979897726, 0.7508805893581718],\n",
       " [0.8, 1.1974960324457768, 0.8022785474418094],\n",
       " [0.8500000000000001, 1.146535002645036, 0.8536831543647856],\n",
       " [0.9, 1.102980074061012, 0.8971219938852016],\n",
       " [0.9500000000000001, 1.0500793510844648, 0.9496865715806295]]"
      ]
     },
     "execution_count": 123,
     "metadata": {},
     "output_type": "execute_result"
    }
   ],
   "source": [
    "results"
   ]
  },
  {
   "cell_type": "code",
   "execution_count": 124,
   "id": "91214b30",
   "metadata": {},
   "outputs": [
    {
     "data": {
      "text/html": [
       "<div>\n",
       "<style scoped>\n",
       "    .dataframe tbody tr th:only-of-type {\n",
       "        vertical-align: middle;\n",
       "    }\n",
       "\n",
       "    .dataframe tbody tr th {\n",
       "        vertical-align: top;\n",
       "    }\n",
       "\n",
       "    .dataframe thead th {\n",
       "        text-align: right;\n",
       "    }\n",
       "</style>\n",
       "<table border=\"1\" class=\"dataframe\">\n",
       "  <thead>\n",
       "    <tr style=\"text-align: right;\">\n",
       "      <th></th>\n",
       "      <th>p</th>\n",
       "      <th>mean_path</th>\n",
       "      <th>mean_clustering_coef</th>\n",
       "    </tr>\n",
       "  </thead>\n",
       "  <tbody>\n",
       "    <tr>\n",
       "      <th>0</th>\n",
       "      <td>0.05</td>\n",
       "      <td>2.914301</td>\n",
       "      <td>0.042288</td>\n",
       "    </tr>\n",
       "    <tr>\n",
       "      <th>1</th>\n",
       "      <td>0.10</td>\n",
       "      <td>2.204549</td>\n",
       "      <td>0.093273</td>\n",
       "    </tr>\n",
       "    <tr>\n",
       "      <th>2</th>\n",
       "      <td>0.15</td>\n",
       "      <td>1.919415</td>\n",
       "      <td>0.155089</td>\n",
       "    </tr>\n",
       "    <tr>\n",
       "      <th>3</th>\n",
       "      <td>0.20</td>\n",
       "      <td>1.822959</td>\n",
       "      <td>0.195520</td>\n",
       "    </tr>\n",
       "    <tr>\n",
       "      <th>4</th>\n",
       "      <td>0.25</td>\n",
       "      <td>1.742726</td>\n",
       "      <td>0.259930</td>\n",
       "    </tr>\n",
       "  </tbody>\n",
       "</table>\n",
       "</div>"
      ],
      "text/plain": [
       "      p  mean_path  mean_clustering_coef\n",
       "0  0.05   2.914301              0.042288\n",
       "1  0.10   2.204549              0.093273\n",
       "2  0.15   1.919415              0.155089\n",
       "3  0.20   1.822959              0.195520\n",
       "4  0.25   1.742726              0.259930"
      ]
     },
     "execution_count": 124,
     "metadata": {},
     "output_type": "execute_result"
    }
   ],
   "source": [
    "res_df = pd.DataFrame(results,\n",
    "                      columns=['p','mean_path','mean_clustering_coef'])\n",
    "res_df.head()"
   ]
  },
  {
   "cell_type": "code",
   "execution_count": 129,
   "id": "73b6d71d",
   "metadata": {},
   "outputs": [
    {
     "data": {
      "text/plain": [
       "Text(0, 0.5, 'Avg path len')"
      ]
     },
     "execution_count": 129,
     "metadata": {},
     "output_type": "execute_result"
    },
    {
     "data": {
      "image/png": "[encoded data removed]",
      "text/plain": [
       "<Figure size 432x288 with 1 Axes>"
      ]
     },
     "metadata": {
      "needs_background": "light"
     },
     "output_type": "display_data"
    }
   ],
   "source": [
    "res_df.set_index('p')['mean_path'].plot()\n",
    "plt.axhline(y=nx.average_shortest_path_length(G_gt),color='red')\n",
    "plt.axvline(x=2*L/(N*(N-1)),color='black',ls='--')\n",
    "plt.xlabel('Link probability')\n",
    "plt.ylabel('Avg path len')"
   ]
  },
  {
   "cell_type": "code",
   "execution_count": 135,
   "id": "af2fd477",
   "metadata": {
    "scrolled": true
   },
   "outputs": [
    {
     "data": {
      "image/png": "[encoded data removed]",
      "text/plain": [
       "<Figure size 432x288 with 1 Axes>"
      ]
     },
     "metadata": {
      "needs_background": "light"
     },
     "output_type": "display_data"
    }
   ],
   "source": [
    "res_df.set_index('p')['mean_clustering_coef'].plot()\n",
    "plt.axhline(y=nx.average_clustering(G_gt),color='red')\n",
    "# plt.axvline(x=2*L/(N*(N-1)))\n",
    "plt.xlabel('Link probability')\n",
    "plt.ylabel('Avg clustering coef')\n",
    "plt.show()"
   ]
  },
  {
   "cell_type": "markdown",
   "id": "2d5bd2e4",
   "metadata": {},
   "source": [
    "To have the observed clustering coefficient, the network would have to have 10 times as many links!\n",
    "\n",
    "While the shortest path, or at least small world property is well reproduced, the clustering coefficient we observe in reality is quite different"
   ]
  },
  {
   "cell_type": "code",
   "execution_count": null,
   "id": "5ef8c478",
   "metadata": {},
   "outputs": [],
   "source": []
  },
  {
   "cell_type": "markdown",
   "id": "8b876b6f",
   "metadata": {},
   "source": [
    "### Watts–Strogatz small-world networks\n",
    "\n",
    "Networks obtained by rewiring a fraction of regular network.\n",
    "\n",
    "Let's see how that works in an example. We can start with a regular network of degree 2:"
   ]
  },
  {
   "cell_type": "code",
   "execution_count": 140,
   "id": "1debd81f",
   "metadata": {},
   "outputs": [
    {
     "data": {
      "image/png": "[encoded data removed]",
      "text/plain": [
       "<Figure size 432x288 with 1 Axes>"
      ]
     },
     "metadata": {},
     "output_type": "display_data"
    }
   ],
   "source": [
    "N = 10\n",
    "G = nx.cycle_graph(N)\n",
    "nx.draw_circular(G,with_labels=True,node_color='yellow')"
   ]
  },
  {
   "cell_type": "markdown",
   "id": "52e258d8",
   "metadata": {},
   "source": [
    "To this network, we can add more connections to the nearest neighbours if we want to create a regular network with a higher degree, say 6:"
   ]
  },
  {
   "cell_type": "code",
   "execution_count": 141,
   "id": "9e0ed161",
   "metadata": {},
   "outputs": [
    {
     "data": {
      "image/png": "[encoded data removed]",
      "text/plain": [
       "<Figure size 432x288 with 1 Axes>"
      ]
     },
     "metadata": {},
     "output_type": "display_data"
    }
   ],
   "source": [
    "k = 4\n",
    "\n",
    "for n in G.nodes:\n",
    "    for i in range(1, k // 2 + 1):\n",
    "        left  = (n-i) % N\n",
    "        right = (n+i) % N \n",
    "        G.add_edge(n, left)\n",
    "        G.add_edge(n, right)\n",
    "\n",
    "nx.draw_circular(G, with_labels=True,node_color='yellow')"
   ]
  },
  {
   "cell_type": "markdown",
   "id": "b9f140c9",
   "metadata": {},
   "source": [
    "Now, the next steps of Watts Strogatz algorithm is rewiring some links with a defined probability p:"
   ]
  },
  {
   "cell_type": "code",
   "execution_count": 142,
   "id": "f6a78edc",
   "metadata": {},
   "outputs": [
    {
     "data": {
      "image/png": "[encoded data removed]",
      "text/plain": [
       "<Figure size 432x288 with 1 Axes>"
      ]
     },
     "metadata": {},
     "output_type": "display_data"
    }
   ],
   "source": [
    "p = 0.2\n",
    "\n",
    "for u, v in list(G.edges):\n",
    "    if random.random() < p:\n",
    "        not_neighbors = set(G.nodes) - set(G.neighbors(u))\n",
    "        not_neighbors = not_neighbors - {u}\n",
    "        w = random.choice(list(not_neighbors))\n",
    "        G.remove_edge(u, v)\n",
    "        G.add_edge(u, w)\n",
    "\n",
    "nx.draw_circular(G, with_labels=True,node_color='yellow')"
   ]
  },
  {
   "cell_type": "markdown",
   "id": "cf63fb95",
   "metadata": {},
   "source": [
    "We can also rely on a function to do this for us:"
   ]
  },
  {
   "cell_type": "code",
   "execution_count": 143,
   "id": "a815093e",
   "metadata": {},
   "outputs": [],
   "source": [
    "?nx.random_graphs.watts_strogatz_graph"
   ]
  },
  {
   "cell_type": "code",
   "execution_count": 145,
   "id": "fb81a803",
   "metadata": {},
   "outputs": [
    {
     "data": {
      "image/png": "[encoded data removed]",
      "text/plain": [
       "<Figure size 432x288 with 1 Axes>"
      ]
     },
     "metadata": {},
     "output_type": "display_data"
    }
   ],
   "source": [
    "G_ws = nx.random_graphs.watts_strogatz_graph(10,6,0.1)\n",
    "nx.draw_circular(G_ws, with_labels=True,node_color='yellow')"
   ]
  },
  {
   "cell_type": "markdown",
   "id": "04d6d24c",
   "metadata": {},
   "source": [
    "Let's recreate a graph we have seen in class -> let's calculate how average path length and clustering coefficient depend on rewiring probability p:"
   ]
  },
  {
   "cell_type": "code",
   "execution_count": 147,
   "id": "9e6c304b",
   "metadata": {},
   "outputs": [],
   "source": [
    "N = G_gt.number_of_nodes()\n",
    "deg = int(2*L/N)"
   ]
  },
  {
   "cell_type": "code",
   "execution_count": 148,
   "id": "9020398b",
   "metadata": {},
   "outputs": [
    {
     "data": {
      "text/html": [
       "<div>\n",
       "<style scoped>\n",
       "    .dataframe tbody tr th:only-of-type {\n",
       "        vertical-align: middle;\n",
       "    }\n",
       "\n",
       "    .dataframe tbody tr th {\n",
       "        vertical-align: top;\n",
       "    }\n",
       "\n",
       "    .dataframe thead th {\n",
       "        text-align: right;\n",
       "    }\n",
       "</style>\n",
       "<table border=\"1\" class=\"dataframe\">\n",
       "  <thead>\n",
       "    <tr style=\"text-align: right;\">\n",
       "      <th></th>\n",
       "      <th>p</th>\n",
       "      <th>avg_path_len</th>\n",
       "      <th>avg_clust_coef</th>\n",
       "    </tr>\n",
       "  </thead>\n",
       "  <tbody>\n",
       "    <tr>\n",
       "      <th>0</th>\n",
       "      <td>0.000</td>\n",
       "      <td>9.339623</td>\n",
       "      <td>0.600000</td>\n",
       "    </tr>\n",
       "    <tr>\n",
       "      <th>1</th>\n",
       "      <td>0.025</td>\n",
       "      <td>6.790866</td>\n",
       "      <td>0.568358</td>\n",
       "    </tr>\n",
       "    <tr>\n",
       "      <th>2</th>\n",
       "      <td>0.050</td>\n",
       "      <td>5.254629</td>\n",
       "      <td>0.570761</td>\n",
       "    </tr>\n",
       "    <tr>\n",
       "      <th>3</th>\n",
       "      <td>0.075</td>\n",
       "      <td>3.621760</td>\n",
       "      <td>0.422608</td>\n",
       "    </tr>\n",
       "    <tr>\n",
       "      <th>4</th>\n",
       "      <td>0.100</td>\n",
       "      <td>3.631106</td>\n",
       "      <td>0.443903</td>\n",
       "    </tr>\n",
       "  </tbody>\n",
       "</table>\n",
       "</div>"
      ],
      "text/plain": [
       "       p  avg_path_len  avg_clust_coef\n",
       "0  0.000      9.339623        0.600000\n",
       "1  0.025      6.790866        0.568358\n",
       "2  0.050      5.254629        0.570761\n",
       "3  0.075      3.621760        0.422608\n",
       "4  0.100      3.631106        0.443903"
      ]
     },
     "execution_count": 148,
     "metadata": {},
     "output_type": "execute_result"
    }
   ],
   "source": [
    "results = []\n",
    "for p in np.linspace(0,0.5,21):\n",
    "    G_ws = nx.random_graphs.watts_strogatz_graph(N,deg,p)\n",
    "    while nx.is_connected(G_ws)!=True:\n",
    "        G_ws = nx.random_graphs.watts_strogatz_graph(N,deg,p)\n",
    "\n",
    "    avg_path_len = nx.average_shortest_path_length(G_ws)\n",
    "    avg_clustering = nx.average_clustering(G_ws)\n",
    "\n",
    "    results.append([p,avg_path_len,avg_clustering])\n",
    "res_df = pd.DataFrame(results,columns=['p','avg_path_len','avg_clust_coef'])\n",
    "res_df.head()"
   ]
  },
  {
   "cell_type": "code",
   "execution_count": 149,
   "id": "97cdcd8f",
   "metadata": {},
   "outputs": [
    {
     "data": {
      "image/png": "[encoded data removed]",
      "text/plain": [
       "<Figure size 432x288 with 1 Axes>"
      ]
     },
     "metadata": {
      "needs_background": "light"
     },
     "output_type": "display_data"
    }
   ],
   "source": [
    "plt.plot(res_df['p'],res_df['avg_path_len'])\n",
    "plt.xlabel('Rewiring probability')\n",
    "plt.ylabel('Average path length')\n",
    "plt.show()"
   ]
  },
  {
   "cell_type": "code",
   "execution_count": 150,
   "id": "40a55e0c",
   "metadata": {},
   "outputs": [
    {
     "data": {
      "image/png": "[encoded data removed]",
      "text/plain": [
       "<Figure size 432x288 with 1 Axes>"
      ]
     },
     "metadata": {
      "needs_background": "light"
     },
     "output_type": "display_data"
    }
   ],
   "source": [
    "plt.plot(res_df['p'],res_df['avg_clust_coef'])\n",
    "plt.xlabel('Rewiring probability')\n",
    "plt.ylabel('Clustering coefficient')\n",
    "plt.show()"
   ]
  },
  {
   "cell_type": "markdown",
   "id": "96796ffe",
   "metadata": {},
   "source": [
    "### Barabási–Albert preferential attachment networks\n",
    "\n",
    "Let's see what's happening with the degree distributions. First, here's degree distribution of the graph from which we started:"
   ]
  },
  {
   "cell_type": "code",
   "execution_count": 151,
   "id": "222c7433",
   "metadata": {
    "scrolled": true
   },
   "outputs": [
    {
     "data": {
      "image/png": "[encoded data removed]",
      "text/plain": [
       "<Figure size 432x288 with 1 Axes>"
      ]
     },
     "metadata": {
      "needs_background": "light"
     },
     "output_type": "display_data"
    }
   ],
   "source": [
    "degrees = dict(nx.degree(G_gt))\n",
    "plt.hist(degrees.values(),bins=20)\n",
    "plt.xlabel('Degree')\n",
    "plt.ylabel('Number of nodes')\n",
    "plt.show()"
   ]
  },
  {
   "cell_type": "code",
   "execution_count": 152,
   "id": "5dcacab9",
   "metadata": {},
   "outputs": [
    {
     "data": {
      "image/png": "[encoded data removed]",
      "text/plain": [
       "<Figure size 432x288 with 1 Axes>"
      ]
     },
     "metadata": {
      "needs_background": "light"
     },
     "output_type": "display_data"
    }
   ],
   "source": [
    "N = G_gt.number_of_nodes()\n",
    "p=nx.density(G_gt)\n",
    "G_er = nx.random_graphs.erdos_renyi_graph(N,p,seed=5)\n",
    "\n",
    "degrees = dict(nx.degree(G_er))\n",
    "plt.hist(degrees.values())\n",
    "plt.xlabel('Degree')\n",
    "plt.ylabel('Number of nodes')\n",
    "plt.show()"
   ]
  },
  {
   "cell_type": "code",
   "execution_count": 153,
   "id": "f771ef2b",
   "metadata": {},
   "outputs": [],
   "source": [
    "?nx.random_graphs.barabasi_albert_graph"
   ]
  },
  {
   "cell_type": "code",
   "execution_count": 154,
   "id": "3e26182c",
   "metadata": {},
   "outputs": [
    {
     "data": {
      "image/png": "[encoded data removed]",
      "text/plain": [
       "<Figure size 432x288 with 1 Axes>"
      ]
     },
     "metadata": {},
     "output_type": "display_data"
    }
   ],
   "source": [
    "G = nx.random_graphs.barabasi_albert_graph(20, 1)\n",
    "nx.draw_spring(G,node_color='yellow',with_labels=True)"
   ]
  },
  {
   "cell_type": "code",
   "execution_count": 155,
   "id": "596b4b62",
   "metadata": {},
   "outputs": [],
   "source": [
    "L = G_gt.number_of_edges()"
   ]
  },
  {
   "cell_type": "code",
   "execution_count": 160,
   "id": "9e41a985",
   "metadata": {
    "scrolled": true
   },
   "outputs": [],
   "source": [
    "G_ba = nx.random_graphs.barabasi_albert_graph(N, int(L/N))\n",
    "#nx.draw_spring(G_ba)"
   ]
  },
  {
   "cell_type": "code",
   "execution_count": 161,
   "id": "344c832e",
   "metadata": {},
   "outputs": [
    {
     "data": {
      "image/png": "[encoded data removed]",
      "text/plain": [
       "<Figure size 432x288 with 1 Axes>"
      ]
     },
     "metadata": {
      "needs_background": "light"
     },
     "output_type": "display_data"
    }
   ],
   "source": [
    "degrees = dict(nx.degree(G_ba))\n",
    "plt.hist(degrees.values())\n",
    "plt.xlabel('Degree')\n",
    "plt.ylabel('Number of nodes')\n",
    "plt.show()"
   ]
  },
  {
   "cell_type": "code",
   "execution_count": 162,
   "id": "da628e9d",
   "metadata": {},
   "outputs": [],
   "source": [
    "random_avg_paths_lens = []\n",
    "random_clustering = []\n",
    "for i in range(100):\n",
    "    G_ba = nx.random_graphs.barabasi_albert_graph(N, int(L/N))\n",
    "\n",
    "    avg_path_len = nx.average_shortest_path_length(G_ba)\n",
    "    avg_clustering = nx.average_clustering(G_ba)\n",
    "\n",
    "    random_avg_paths_lens.append(avg_path_len)\n",
    "    random_clustering.append(avg_clustering)"
   ]
  },
  {
   "cell_type": "code",
   "execution_count": 163,
   "id": "a1eafba0",
   "metadata": {},
   "outputs": [
    {
     "data": {
      "image/png": "[encoded data removed]",
      "text/plain": [
       "<Figure size 432x288 with 1 Axes>"
      ]
     },
     "metadata": {
      "needs_background": "light"
     },
     "output_type": "display_data"
    }
   ],
   "source": [
    "plt.hist(random_avg_paths_lens,bins=20)\n",
    "plt.axvline(x=avg_path_len_gt,color='red')\n",
    "plt.xlabel('Average path lenght')\n",
    "plt.ylabel('Number of random graphs')\n",
    "plt.show()"
   ]
  },
  {
   "cell_type": "code",
   "execution_count": 164,
   "id": "fd919b42",
   "metadata": {},
   "outputs": [
    {
     "data": {
      "image/png": "[encoded data removed]",
      "text/plain": [
       "<Figure size 432x288 with 1 Axes>"
      ]
     },
     "metadata": {
      "needs_background": "light"
     },
     "output_type": "display_data"
    }
   ],
   "source": [
    "plt.hist(random_clustering,bins=20)\n",
    "plt.axvline(x=avg_clustering_gt,color='red')\n",
    "plt.xlabel('Average clustering coef')\n",
    "plt.ylabel('Number of random graphs')\n",
    "plt.show()"
   ]
  },
  {
   "cell_type": "markdown",
   "id": "f03da601",
   "metadata": {},
   "source": [
    "### Higher order motifs\n",
    "\n",
    "Remember cliques (maximal fully connected subgraphs)? Finding them in random graphs is even more rare, although they can be found in real networks. Let's see if they exist in our randomly generated graphs:"
   ]
  },
  {
   "cell_type": "code",
   "execution_count": 165,
   "id": "6da1884c",
   "metadata": {},
   "outputs": [
    {
     "data": {
      "text/plain": [
       "[0, 67, 49]"
      ]
     },
     "execution_count": 165,
     "metadata": {},
     "output_type": "execute_result"
    }
   ],
   "source": [
    "max_clique_nodes = max(nx.find_cliques(G_er), key=len)\n",
    "max_clique_nodes"
   ]
  },
  {
   "cell_type": "code",
   "execution_count": 166,
   "id": "daa22d26",
   "metadata": {},
   "outputs": [
    {
     "data": {
      "text/plain": [
       "[25, 26, 27, 28]"
      ]
     },
     "execution_count": 166,
     "metadata": {},
     "output_type": "execute_result"
    }
   ],
   "source": [
    "max_clique_nodes = max(nx.find_cliques(G_ws), key=len)\n",
    "max_clique_nodes"
   ]
  },
  {
   "cell_type": "code",
   "execution_count": 167,
   "id": "055abce2",
   "metadata": {},
   "outputs": [
    {
     "data": {
      "text/plain": [
       "[4, 2, 0, 5]"
      ]
     },
     "execution_count": 167,
     "metadata": {},
     "output_type": "execute_result"
    }
   ],
   "source": [
    "max_clique_nodes = max(nx.find_cliques(G_ba), key=len)\n",
    "max_clique_nodes"
   ]
  },
  {
   "cell_type": "markdown",
   "id": "74930785",
   "metadata": {},
   "source": [
    "We see that in randomly generated graphs, we see cliques of 3 or 4 nodes. Try creating multiple variants (keeping the same N and p) for these random graphs to see how often you find bigger cliques. \n",
    "\n",
    "On the other hand, if we find maximal cliques in our initial network, we see that it is bigger than 3/4 nodes:"
   ]
  },
  {
   "cell_type": "code",
   "execution_count": 168,
   "id": "7de10a67",
   "metadata": {},
   "outputs": [
    {
     "data": {
      "text/plain": [
       "[6, 24, 17, 53, 19, 20, 54]"
      ]
     },
     "execution_count": 168,
     "metadata": {},
     "output_type": "execute_result"
    }
   ],
   "source": [
    "max_clique_nodes = max(nx.find_cliques(G_gt), key=len)\n",
    "max_clique_nodes"
   ]
  },
  {
   "cell_type": "code",
   "execution_count": null,
   "id": "f41e34d4",
   "metadata": {},
   "outputs": [],
   "source": []
  }
 ],
 "metadata": {
  "kernelspec": {
   "display_name": "Python 3 (ipykernel)",
   "language": "python",
   "name": "python3"
  },
  "language_info": {
   "codemirror_mode": {
    "name": "ipython",
    "version": 3
   },
   "file_extension": ".py",
   "mimetype": "text/x-python",
   "name": "python",
   "nbconvert_exporter": "python",
   "pygments_lexer": "ipython3",
   "version": "3.9.7"
  }
 },
 "nbformat": 4,
 "nbformat_minor": 5
}
