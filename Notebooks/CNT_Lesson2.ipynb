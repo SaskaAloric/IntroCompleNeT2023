{
 "cells": [
  {
   "cell_type": "markdown",
   "metadata": {},
   "source": [
    "Hello world code! "
   ]
  },
  {
   "cell_type": "code",
   "execution_count": 67,
   "metadata": {},
   "outputs": [
    {
     "name": "stdout",
     "output_type": "stream",
     "text": [
      "Hello world\n"
     ]
    }
   ],
   "source": [
    "print(\"Hello world\")"
   ]
  },
  {
   "cell_type": "markdown",
   "metadata": {},
   "source": [
    "Phyton version"
   ]
  },
  {
   "cell_type": "code",
   "execution_count": 69,
   "metadata": {},
   "outputs": [
    {
     "name": "stdout",
     "output_type": "stream",
     "text": [
      "3.7.6\n"
     ]
    }
   ],
   "source": [
    "from platform import python_version\n",
    "print(python_version())"
   ]
  },
  {
   "cell_type": "markdown",
   "metadata": {},
   "source": [
    "Help function"
   ]
  },
  {
   "cell_type": "code",
   "execution_count": 70,
   "metadata": {},
   "outputs": [
    {
     "name": "stdout",
     "output_type": "stream",
     "text": [
      "Help on built-in function print in module builtins:\n",
      "\n",
      "print(...)\n",
      "    print(value, ..., sep=' ', end='\\n', file=sys.stdout, flush=False)\n",
      "    \n",
      "    Prints the values to a stream, or to sys.stdout by default.\n",
      "    Optional keyword arguments:\n",
      "    file:  a file-like object (stream); defaults to the current sys.stdout.\n",
      "    sep:   string inserted between values, default a space.\n",
      "    end:   string appended after the last value, default a newline.\n",
      "    flush: whether to forcibly flush the stream.\n",
      "\n"
     ]
    }
   ],
   "source": [
    "help(print)"
   ]
  },
  {
   "cell_type": "markdown",
   "metadata": {},
   "source": [
    "Simple numerical calculations"
   ]
  },
  {
   "cell_type": "code",
   "execution_count": 71,
   "metadata": {},
   "outputs": [
    {
     "data": {
      "text/plain": [
       "4"
      ]
     },
     "execution_count": 71,
     "metadata": {},
     "output_type": "execute_result"
    }
   ],
   "source": [
    "2+2"
   ]
  },
  {
   "cell_type": "markdown",
   "metadata": {},
   "source": [
    "Print"
   ]
  },
  {
   "cell_type": "code",
   "execution_count": 72,
   "metadata": {},
   "outputs": [],
   "source": [
    "my_str=\"Hello\"\n",
    "my_int=16"
   ]
  },
  {
   "cell_type": "code",
   "execution_count": 73,
   "metadata": {},
   "outputs": [
    {
     "name": "stdout",
     "output_type": "stream",
     "text": [
      "Hello\n",
      "16\n"
     ]
    }
   ],
   "source": [
    "print(my_str)\n",
    "print(my_int)"
   ]
  },
  {
   "cell_type": "code",
   "execution_count": 74,
   "metadata": {},
   "outputs": [
    {
     "data": {
      "text/plain": [
       "'Hello'"
      ]
     },
     "execution_count": 74,
     "metadata": {},
     "output_type": "execute_result"
    }
   ],
   "source": [
    "my_str"
   ]
  },
  {
   "cell_type": "code",
   "execution_count": 75,
   "metadata": {},
   "outputs": [
    {
     "data": {
      "text/plain": [
       "16"
      ]
     },
     "execution_count": 75,
     "metadata": {},
     "output_type": "execute_result"
    }
   ],
   "source": [
    "my_str\n",
    "my_int"
   ]
  },
  {
   "cell_type": "markdown",
   "metadata": {},
   "source": [
    "## Conditionals: **if**, **else**, and **elif**"
   ]
  },
  {
   "cell_type": "code",
   "execution_count": 76,
   "metadata": {},
   "outputs": [
    {
     "name": "stdout",
     "output_type": "stream",
     "text": [
      "You have many apples!\n"
     ]
    }
   ],
   "source": [
    "number_of_apples=5\n",
    "if number_of_apples<1:\n",
    "    print(\"You have no apples!\")\n",
    "elif number_of_apples==1:\n",
    "    print(\"You have one apple!\")\n",
    "elif number_of_apples<4:\n",
    "    print('You have a few apples!')\n",
    "else:\n",
    "    print('You have many apples!')"
   ]
  },
  {
   "cell_type": "markdown",
   "metadata": {},
   "source": [
    "## Lists"
   ]
  },
  {
   "cell_type": "markdown",
   "metadata": {},
   "source": [
    "### Define a list"
   ]
  },
  {
   "cell_type": "code",
   "execution_count": 77,
   "metadata": {},
   "outputs": [
    {
     "data": {
      "text/plain": [
       "['Alice', 'Bob', 'Ann', 'Clair']"
      ]
     },
     "execution_count": 77,
     "metadata": {},
     "output_type": "execute_result"
    }
   ],
   "source": [
    "student_names=['Alice','Bob','Ann','Clair']\n",
    "student_names"
   ]
  },
  {
   "cell_type": "markdown",
   "metadata": {},
   "source": [
    "### List length"
   ]
  },
  {
   "cell_type": "code",
   "execution_count": 78,
   "metadata": {},
   "outputs": [
    {
     "name": "stdout",
     "output_type": "stream",
     "text": [
      "Help on built-in function len in module builtins:\n",
      "\n",
      "len(obj, /)\n",
      "    Return the number of items in a container.\n",
      "\n"
     ]
    }
   ],
   "source": [
    "help(len)"
   ]
  },
  {
   "cell_type": "code",
   "execution_count": 79,
   "metadata": {},
   "outputs": [
    {
     "data": {
      "text/plain": [
       "4"
      ]
     },
     "execution_count": 79,
     "metadata": {},
     "output_type": "execute_result"
    }
   ],
   "source": [
    "len(student_names)"
   ]
  },
  {
   "cell_type": "markdown",
   "metadata": {},
   "source": [
    "### List element"
   ]
  },
  {
   "cell_type": "code",
   "execution_count": 80,
   "metadata": {},
   "outputs": [
    {
     "data": {
      "text/plain": [
       "'Alice'"
      ]
     },
     "execution_count": 80,
     "metadata": {},
     "output_type": "execute_result"
    }
   ],
   "source": [
    "student_names[0]"
   ]
  },
  {
   "cell_type": "code",
   "execution_count": 81,
   "metadata": {},
   "outputs": [
    {
     "data": {
      "text/plain": [
       "'Clair'"
      ]
     },
     "execution_count": 81,
     "metadata": {},
     "output_type": "execute_result"
    }
   ],
   "source": [
    "student_names[-1]"
   ]
  },
  {
   "cell_type": "markdown",
   "metadata": {},
   "source": [
    "### Sliced list"
   ]
  },
  {
   "cell_type": "code",
   "execution_count": 82,
   "metadata": {},
   "outputs": [
    {
     "data": {
      "text/plain": [
       "['Alice', 'Bob', 'Ann', 'Clair']"
      ]
     },
     "execution_count": 82,
     "metadata": {},
     "output_type": "execute_result"
    }
   ],
   "source": [
    "student_names[0:5]"
   ]
  },
  {
   "cell_type": "markdown",
   "metadata": {},
   "source": [
    "### Add element to list"
   ]
  },
  {
   "cell_type": "code",
   "execution_count": 83,
   "metadata": {},
   "outputs": [],
   "source": [
    "student_names.append('John')"
   ]
  },
  {
   "cell_type": "code",
   "execution_count": 84,
   "metadata": {},
   "outputs": [
    {
     "data": {
      "text/plain": [
       "['Alice', 'Bob', 'Ann', 'Clair', 'John']"
      ]
     },
     "execution_count": 84,
     "metadata": {},
     "output_type": "execute_result"
    }
   ],
   "source": [
    "student_names"
   ]
  },
  {
   "cell_type": "markdown",
   "metadata": {},
   "source": [
    "### Add element to specific place"
   ]
  },
  {
   "cell_type": "code",
   "execution_count": 85,
   "metadata": {},
   "outputs": [
    {
     "data": {
      "text/plain": [
       "['Alice', 'Bob', 'Ann', 'Ed', 'Clair', 'John']"
      ]
     },
     "execution_count": 85,
     "metadata": {},
     "output_type": "execute_result"
    }
   ],
   "source": [
    "student_names.insert(3,'Ed')\n",
    "student_names"
   ]
  },
  {
   "cell_type": "code",
   "execution_count": 86,
   "metadata": {},
   "outputs": [
    {
     "data": {
      "text/plain": [
       "['Alice', 'Bob', 'Ann', 'Ed', 'Clair', 'John', 'Ed']"
      ]
     },
     "execution_count": 86,
     "metadata": {},
     "output_type": "execute_result"
    }
   ],
   "source": [
    "student_names.append('Ed')\n",
    "student_names"
   ]
  },
  {
   "cell_type": "markdown",
   "metadata": {},
   "source": [
    "### Remove element"
   ]
  },
  {
   "cell_type": "code",
   "execution_count": 87,
   "metadata": {
    "scrolled": true
   },
   "outputs": [
    {
     "data": {
      "text/plain": [
       "['Alice', 'Bob', 'Ed', 'Clair', 'John', 'Ed']"
      ]
     },
     "execution_count": 87,
     "metadata": {},
     "output_type": "execute_result"
    }
   ],
   "source": [
    "student_names.remove('Ann')\n",
    "student_names"
   ]
  },
  {
   "cell_type": "code",
   "execution_count": 88,
   "metadata": {},
   "outputs": [
    {
     "data": {
      "text/plain": [
       "['Alice', 'Bob', 'Clair', 'John', 'Ed']"
      ]
     },
     "execution_count": 88,
     "metadata": {},
     "output_type": "execute_result"
    }
   ],
   "source": [
    "student_names.remove('Ed')\n",
    "student_names"
   ]
  },
  {
   "cell_type": "code",
   "execution_count": 89,
   "metadata": {},
   "outputs": [
    {
     "data": {
      "text/plain": [
       "['Bob', 'Clair', 'John', 'Ed']"
      ]
     },
     "execution_count": 89,
     "metadata": {},
     "output_type": "execute_result"
    }
   ],
   "source": [
    "del student_names[0]\n",
    "student_names"
   ]
  },
  {
   "cell_type": "code",
   "execution_count": 90,
   "metadata": {},
   "outputs": [
    {
     "data": {
      "text/plain": [
       "['John', 'Ed']"
      ]
     },
     "execution_count": 90,
     "metadata": {},
     "output_type": "execute_result"
    }
   ],
   "source": [
    "del student_names[0:2]\n",
    "student_names"
   ]
  },
  {
   "cell_type": "code",
   "execution_count": 91,
   "metadata": {},
   "outputs": [
    {
     "data": {
      "text/plain": [
       "[]"
      ]
     },
     "execution_count": 91,
     "metadata": {},
     "output_type": "execute_result"
    }
   ],
   "source": [
    "student_names=[]\n",
    "student_names"
   ]
  },
  {
   "cell_type": "code",
   "execution_count": 92,
   "metadata": {},
   "outputs": [
    {
     "data": {
      "text/plain": [
       "['Alice', 'Bob', 'Ann', 'Clair', 'John', 'Ed']"
      ]
     },
     "execution_count": 92,
     "metadata": {},
     "output_type": "execute_result"
    }
   ],
   "source": [
    "student_names=['Alice','Bob','Ann','Clair','John','Ed']\n",
    "student_names"
   ]
  },
  {
   "cell_type": "markdown",
   "metadata": {},
   "source": [
    "## Loops\n",
    "Print elements of the list"
   ]
  },
  {
   "cell_type": "code",
   "execution_count": 93,
   "metadata": {},
   "outputs": [
    {
     "name": "stdout",
     "output_type": "stream",
     "text": [
      "Alice\n",
      "Bob\n",
      "Ann\n",
      "Clair\n",
      "John\n",
      "Ed\n"
     ]
    }
   ],
   "source": [
    "for student_name in student_names:\n",
    "    print(student_name)"
   ]
  },
  {
   "cell_type": "code",
   "execution_count": 94,
   "metadata": {},
   "outputs": [
    {
     "name": "stdout",
     "output_type": "stream",
     "text": [
      "Alice\n",
      "Bob\n",
      "Ann\n",
      "Clair\n",
      "John\n",
      "Ed\n"
     ]
    }
   ],
   "source": [
    "for i in range(0,len(student_names)):\n",
    "    print(student_names[i])\n"
   ]
  },
  {
   "cell_type": "markdown",
   "metadata": {},
   "source": [
    "### Add elements to the list or populate list"
   ]
  },
  {
   "cell_type": "code",
   "execution_count": 95,
   "metadata": {},
   "outputs": [
    {
     "data": {
      "text/plain": [
       "[0, 1, 2, 3, 4, 5, 6, 7, 8, 9]"
      ]
     },
     "execution_count": 95,
     "metadata": {},
     "output_type": "execute_result"
    }
   ],
   "source": [
    "numbers=[]\n",
    "for i in range(0,10):\n",
    "    numbers.append(i)\n",
    "numbers"
   ]
  },
  {
   "cell_type": "markdown",
   "metadata": {},
   "source": [
    "## Lists of lists    "
   ]
  },
  {
   "cell_type": "code",
   "execution_count": 96,
   "metadata": {},
   "outputs": [
    {
     "data": {
      "text/plain": [
       "[['Alice', 'Alice'],\n",
       " ['Alice', 'Bob'],\n",
       " ['Alice', 'Ann'],\n",
       " ['Alice', 'Clair'],\n",
       " ['Alice', 'John'],\n",
       " ['Alice', 'Ed'],\n",
       " ['Bob', 'Alice'],\n",
       " ['Bob', 'Bob'],\n",
       " ['Bob', 'Ann'],\n",
       " ['Bob', 'Clair'],\n",
       " ['Bob', 'John'],\n",
       " ['Bob', 'Ed'],\n",
       " ['Ann', 'Alice'],\n",
       " ['Ann', 'Bob'],\n",
       " ['Ann', 'Ann'],\n",
       " ['Ann', 'Clair'],\n",
       " ['Ann', 'John'],\n",
       " ['Ann', 'Ed'],\n",
       " ['Clair', 'Alice'],\n",
       " ['Clair', 'Bob'],\n",
       " ['Clair', 'Ann'],\n",
       " ['Clair', 'Clair'],\n",
       " ['Clair', 'John'],\n",
       " ['Clair', 'Ed'],\n",
       " ['John', 'Alice'],\n",
       " ['John', 'Bob'],\n",
       " ['John', 'Ann'],\n",
       " ['John', 'Clair'],\n",
       " ['John', 'John'],\n",
       " ['John', 'Ed'],\n",
       " ['Ed', 'Alice'],\n",
       " ['Ed', 'Bob'],\n",
       " ['Ed', 'Ann'],\n",
       " ['Ed', 'Clair'],\n",
       " ['Ed', 'John'],\n",
       " ['Ed', 'Ed']]"
      ]
     },
     "execution_count": 96,
     "metadata": {},
     "output_type": "execute_result"
    }
   ],
   "source": [
    "student_pairs=[]\n",
    "for i in range(0,len(student_names)):\n",
    "    for j in range(0,len(student_names)):\n",
    "        pair=[]\n",
    "        pair.append(student_names[i])\n",
    "        pair.append(student_names[j])\n",
    "        student_pairs.append(pair)\n",
    "student_pairs"
   ]
  },
  {
   "cell_type": "code",
   "execution_count": 97,
   "metadata": {},
   "outputs": [
    {
     "data": {
      "text/plain": [
       "[['Alice', 'Bob'],\n",
       " ['Alice', 'Ann'],\n",
       " ['Alice', 'Clair'],\n",
       " ['Alice', 'John'],\n",
       " ['Alice', 'Ed'],\n",
       " ['Bob', 'Ann'],\n",
       " ['Bob', 'Clair'],\n",
       " ['Bob', 'John'],\n",
       " ['Bob', 'Ed'],\n",
       " ['Ann', 'Clair'],\n",
       " ['Ann', 'John'],\n",
       " ['Ann', 'Ed'],\n",
       " ['Clair', 'John'],\n",
       " ['Clair', 'Ed'],\n",
       " ['John', 'Ed']]"
      ]
     },
     "execution_count": 97,
     "metadata": {},
     "output_type": "execute_result"
    }
   ],
   "source": [
    "student_pairs=[]\n",
    "for i in range(0,len(student_names)-1):\n",
    "    for j in range(i+1,len(student_names)):\n",
    "        pair=[]\n",
    "        pair.append(student_names[i])\n",
    "        pair.append(student_names[j])\n",
    "        student_pairs.append(pair)\n",
    "student_pairs"
   ]
  },
  {
   "cell_type": "markdown",
   "metadata": {},
   "source": [
    "## Tuples"
   ]
  },
  {
   "cell_type": "code",
   "execution_count": 98,
   "metadata": {},
   "outputs": [
    {
     "data": {
      "text/plain": [
       "('Alice', 'Spanish', 'A-')"
      ]
     },
     "execution_count": 98,
     "metadata": {},
     "output_type": "execute_result"
    }
   ],
   "source": [
    "student_grade=('Alice','Spanish','A-')\n",
    "student_grade"
   ]
  },
  {
   "cell_type": "code",
   "execution_count": 99,
   "metadata": {},
   "outputs": [
    {
     "ename": "AttributeError",
     "evalue": "'tuple' object has no attribute 'append'",
     "output_type": "error",
     "traceback": [
      "\u001b[0;31m---------------------------------------------------------------------------\u001b[0m",
      "\u001b[0;31mAttributeError\u001b[0m                            Traceback (most recent call last)",
      "\u001b[0;32m<ipython-input-99-90fc02b38505>\u001b[0m in \u001b[0;36m<module>\u001b[0;34m\u001b[0m\n\u001b[0;32m----> 1\u001b[0;31m \u001b[0mstudent_grade\u001b[0m\u001b[0;34m.\u001b[0m\u001b[0mappend\u001b[0m\u001b[0;34m(\u001b[0m\u001b[0;34m\"English\"\u001b[0m\u001b[0;34m)\u001b[0m\u001b[0;34m\u001b[0m\u001b[0;34m\u001b[0m\u001b[0m\n\u001b[0m",
      "\u001b[0;31mAttributeError\u001b[0m: 'tuple' object has no attribute 'append'"
     ]
    }
   ],
   "source": [
    "student_grade.append(\"English\")"
   ]
  },
  {
   "cell_type": "code",
   "execution_count": 100,
   "metadata": {},
   "outputs": [
    {
     "ename": "TypeError",
     "evalue": "'tuple' object doesn't support item deletion",
     "output_type": "error",
     "traceback": [
      "\u001b[0;31m---------------------------------------------------------------------------\u001b[0m",
      "\u001b[0;31mTypeError\u001b[0m                                 Traceback (most recent call last)",
      "\u001b[0;32m<ipython-input-100-88222d547e55>\u001b[0m in \u001b[0;36m<module>\u001b[0;34m\u001b[0m\n\u001b[0;32m----> 1\u001b[0;31m \u001b[0;32mdel\u001b[0m \u001b[0mstudent_grade\u001b[0m\u001b[0;34m[\u001b[0m\u001b[0;36m0\u001b[0m\u001b[0;34m]\u001b[0m\u001b[0;34m\u001b[0m\u001b[0;34m\u001b[0m\u001b[0m\n\u001b[0m",
      "\u001b[0;31mTypeError\u001b[0m: 'tuple' object doesn't support item deletion"
     ]
    }
   ],
   "source": [
    "del student_grade[0]"
   ]
  },
  {
   "cell_type": "code",
   "execution_count": 101,
   "metadata": {},
   "outputs": [
    {
     "data": {
      "text/plain": [
       "'Spanish'"
      ]
     },
     "execution_count": 101,
     "metadata": {},
     "output_type": "execute_result"
    }
   ],
   "source": [
    "student_grade[1]"
   ]
  },
  {
   "cell_type": "markdown",
   "metadata": {},
   "source": [
    "In tuples you cannot append an element, you cannot delete element at specific place, you cannot assign an element."
   ]
  },
  {
   "cell_type": "code",
   "execution_count": 102,
   "metadata": {},
   "outputs": [
    {
     "name": "stdout",
     "output_type": "stream",
     "text": [
      "Alice\n",
      "Spanish\n",
      "A-\n"
     ]
    }
   ],
   "source": [
    "student_name,subject,grade=student_grade\n",
    "print(student_name)\n",
    "print(subject)\n",
    "print(grade)"
   ]
  },
  {
   "cell_type": "markdown",
   "metadata": {},
   "source": [
    "## Dictionaries"
   ]
  },
  {
   "cell_type": "code",
   "execution_count": 103,
   "metadata": {},
   "outputs": [
    {
     "data": {
      "text/plain": [
       "'Italian'"
      ]
     },
     "execution_count": 103,
     "metadata": {},
     "output_type": "execute_result"
    }
   ],
   "source": [
    "foreign_languages={'Alice':'Spanish','Bob':'French','Ann':'Spanish','Clair':'Italian','John':'German'}\n",
    "foreign_languages['Clair']"
   ]
  },
  {
   "cell_type": "code",
   "execution_count": 104,
   "metadata": {},
   "outputs": [
    {
     "data": {
      "text/plain": [
       "False"
      ]
     },
     "execution_count": 104,
     "metadata": {},
     "output_type": "execute_result"
    }
   ],
   "source": [
    "'Ed' in foreign_languages"
   ]
  },
  {
   "cell_type": "code",
   "execution_count": 105,
   "metadata": {},
   "outputs": [
    {
     "data": {
      "text/plain": [
       "True"
      ]
     },
     "execution_count": 105,
     "metadata": {},
     "output_type": "execute_result"
    }
   ],
   "source": [
    "'Alice' in foreign_languages"
   ]
  },
  {
   "cell_type": "code",
   "execution_count": 106,
   "metadata": {},
   "outputs": [
    {
     "data": {
      "text/plain": [
       "False"
      ]
     },
     "execution_count": 106,
     "metadata": {},
     "output_type": "execute_result"
    }
   ],
   "source": [
    "'alice' in foreign_languages"
   ]
  },
  {
   "cell_type": "code",
   "execution_count": 107,
   "metadata": {},
   "outputs": [
    {
     "data": {
      "text/plain": [
       "'Spanish'"
      ]
     },
     "execution_count": 107,
     "metadata": {},
     "output_type": "execute_result"
    }
   ],
   "source": [
    "foreign_languages['Ed']='Spanish'\n",
    "foreign_languages['Ed']"
   ]
  },
  {
   "cell_type": "code",
   "execution_count": 108,
   "metadata": {},
   "outputs": [
    {
     "data": {
      "text/plain": [
       "{'Alice': 'Spanish',\n",
       " 'Bob': 'French',\n",
       " 'Ann': 'Spanish',\n",
       " 'Clair': 'Italian',\n",
       " 'John': 'German',\n",
       " 'Ed': 'Spanish'}"
      ]
     },
     "execution_count": 108,
     "metadata": {},
     "output_type": "execute_result"
    }
   ],
   "source": [
    "foreign_languages"
   ]
  },
  {
   "cell_type": "code",
   "execution_count": 109,
   "metadata": {},
   "outputs": [
    {
     "name": "stdout",
     "output_type": "stream",
     "text": [
      "Alice Spanish\n",
      "Bob French\n",
      "Ann Spanish\n",
      "Clair Italian\n",
      "John German\n",
      "Ed Spanish\n"
     ]
    }
   ],
   "source": [
    "for s in foreign_languages.keys():\n",
    "        print(s,foreign_languages[s])"
   ]
  },
  {
   "cell_type": "markdown",
   "metadata": {},
   "source": [
    "## Further reading"
   ]
  },
  {
   "cell_type": "markdown",
   "metadata": {},
   "source": [
    "**Phyton tutorial:\" https://docs.python.org/3/tutorial/ <br>"
   ]
  },
  {
   "cell_type": "markdown",
   "metadata": {},
   "source": [
    "## Basic python packages for data science and complex networks analysis"
   ]
  },
  {
   "cell_type": "markdown",
   "metadata": {},
   "source": [
    "The **module** is a simple Python file that contains collections of functions and global variables and with having a .py extension file. \n",
    "\n",
    "The **package** is a simple directory having collections of modules. \n",
    "\n",
    "Here we will show how several python packages that are typically used in the complex networks analysis.\n",
    "\n",
    "Networkx - the most comperhensive library for the analysis of complex networks in python\n",
    "\n",
    "numpy and scipy - numerical and scientific library\n",
    "\n",
    "Pandas - a must have library for data analysis \n",
    "\n",
    "matplotlib - visualisation library"
   ]
  },
  {
   "cell_type": "code",
   "execution_count": 3,
   "metadata": {},
   "outputs": [],
   "source": [
    "import pandas as pd\n",
    "import matplotlib.pyplot as plt\n",
    "import matplotlib.colors as mcolors"
   ]
  },
  {
   "cell_type": "markdown",
   "metadata": {},
   "source": [
    "# Pandas basics"
   ]
  },
  {
   "attachments": {
    "iris.png": {
     "image/png": "[encoded data removed]"
    }
   },
   "cell_type": "markdown",
   "metadata": {},
   "source": [
    "IRIS dataset \n",
    "![iris.png](attachment:iris.png)"
   ]
  },
  {
   "cell_type": "markdown",
   "metadata": {},
   "source": [
    "**Read csv file**"
   ]
  },
  {
   "cell_type": "code",
   "execution_count": 48,
   "metadata": {},
   "outputs": [
    {
     "data": {
      "text/html": [
       "<div>\n",
       "<style scoped>\n",
       "    .dataframe tbody tr th:only-of-type {\n",
       "        vertical-align: middle;\n",
       "    }\n",
       "\n",
       "    .dataframe tbody tr th {\n",
       "        vertical-align: top;\n",
       "    }\n",
       "\n",
       "    .dataframe thead th {\n",
       "        text-align: right;\n",
       "    }\n",
       "</style>\n",
       "<table border=\"1\" class=\"dataframe\">\n",
       "  <thead>\n",
       "    <tr style=\"text-align: right;\">\n",
       "      <th></th>\n",
       "      <th>sepallength</th>\n",
       "      <th>sepalwidth</th>\n",
       "      <th>petallength</th>\n",
       "      <th>petalwidth</th>\n",
       "      <th>class</th>\n",
       "    </tr>\n",
       "  </thead>\n",
       "  <tbody>\n",
       "    <tr>\n",
       "      <th>0</th>\n",
       "      <td>5.1</td>\n",
       "      <td>3.5</td>\n",
       "      <td>1.4</td>\n",
       "      <td>0.2</td>\n",
       "      <td>Iris-setosa</td>\n",
       "    </tr>\n",
       "    <tr>\n",
       "      <th>1</th>\n",
       "      <td>4.9</td>\n",
       "      <td>3.0</td>\n",
       "      <td>1.4</td>\n",
       "      <td>0.2</td>\n",
       "      <td>Iris-setosa</td>\n",
       "    </tr>\n",
       "    <tr>\n",
       "      <th>2</th>\n",
       "      <td>4.7</td>\n",
       "      <td>3.2</td>\n",
       "      <td>1.3</td>\n",
       "      <td>0.2</td>\n",
       "      <td>Iris-setosa</td>\n",
       "    </tr>\n",
       "    <tr>\n",
       "      <th>3</th>\n",
       "      <td>4.6</td>\n",
       "      <td>3.1</td>\n",
       "      <td>1.5</td>\n",
       "      <td>0.2</td>\n",
       "      <td>Iris-setosa</td>\n",
       "    </tr>\n",
       "    <tr>\n",
       "      <th>4</th>\n",
       "      <td>5.0</td>\n",
       "      <td>3.6</td>\n",
       "      <td>1.4</td>\n",
       "      <td>0.2</td>\n",
       "      <td>Iris-setosa</td>\n",
       "    </tr>\n",
       "    <tr>\n",
       "      <th>...</th>\n",
       "      <td>...</td>\n",
       "      <td>...</td>\n",
       "      <td>...</td>\n",
       "      <td>...</td>\n",
       "      <td>...</td>\n",
       "    </tr>\n",
       "    <tr>\n",
       "      <th>145</th>\n",
       "      <td>6.7</td>\n",
       "      <td>3.0</td>\n",
       "      <td>5.2</td>\n",
       "      <td>2.3</td>\n",
       "      <td>Iris-virginica</td>\n",
       "    </tr>\n",
       "    <tr>\n",
       "      <th>146</th>\n",
       "      <td>6.3</td>\n",
       "      <td>2.5</td>\n",
       "      <td>5.0</td>\n",
       "      <td>1.9</td>\n",
       "      <td>Iris-virginica</td>\n",
       "    </tr>\n",
       "    <tr>\n",
       "      <th>147</th>\n",
       "      <td>6.5</td>\n",
       "      <td>3.0</td>\n",
       "      <td>5.2</td>\n",
       "      <td>2.0</td>\n",
       "      <td>Iris-virginica</td>\n",
       "    </tr>\n",
       "    <tr>\n",
       "      <th>148</th>\n",
       "      <td>6.2</td>\n",
       "      <td>3.4</td>\n",
       "      <td>5.4</td>\n",
       "      <td>2.3</td>\n",
       "      <td>Iris-virginica</td>\n",
       "    </tr>\n",
       "    <tr>\n",
       "      <th>149</th>\n",
       "      <td>5.9</td>\n",
       "      <td>3.0</td>\n",
       "      <td>5.1</td>\n",
       "      <td>1.8</td>\n",
       "      <td>Iris-virginica</td>\n",
       "    </tr>\n",
       "  </tbody>\n",
       "</table>\n",
       "<p>150 rows × 5 columns</p>\n",
       "</div>"
      ],
      "text/plain": [
       "     sepallength  sepalwidth  petallength  petalwidth           class\n",
       "0            5.1         3.5          1.4         0.2     Iris-setosa\n",
       "1            4.9         3.0          1.4         0.2     Iris-setosa\n",
       "2            4.7         3.2          1.3         0.2     Iris-setosa\n",
       "3            4.6         3.1          1.5         0.2     Iris-setosa\n",
       "4            5.0         3.6          1.4         0.2     Iris-setosa\n",
       "..           ...         ...          ...         ...             ...\n",
       "145          6.7         3.0          5.2         2.3  Iris-virginica\n",
       "146          6.3         2.5          5.0         1.9  Iris-virginica\n",
       "147          6.5         3.0          5.2         2.0  Iris-virginica\n",
       "148          6.2         3.4          5.4         2.3  Iris-virginica\n",
       "149          5.9         3.0          5.1         1.8  Iris-virginica\n",
       "\n",
       "[150 rows x 5 columns]"
      ]
     },
     "execution_count": 48,
     "metadata": {},
     "output_type": "execute_result"
    }
   ],
   "source": [
    "data = pd.read_csv('../data/iris.csv')\n",
    "data"
   ]
  },
  {
   "cell_type": "markdown",
   "metadata": {},
   "source": [
    "**Show data**"
   ]
  },
  {
   "cell_type": "code",
   "execution_count": 5,
   "metadata": {},
   "outputs": [
    {
     "data": {
      "text/html": [
       "<div>\n",
       "<style scoped>\n",
       "    .dataframe tbody tr th:only-of-type {\n",
       "        vertical-align: middle;\n",
       "    }\n",
       "\n",
       "    .dataframe tbody tr th {\n",
       "        vertical-align: top;\n",
       "    }\n",
       "\n",
       "    .dataframe thead th {\n",
       "        text-align: right;\n",
       "    }\n",
       "</style>\n",
       "<table border=\"1\" class=\"dataframe\">\n",
       "  <thead>\n",
       "    <tr style=\"text-align: right;\">\n",
       "      <th></th>\n",
       "      <th>sepallength</th>\n",
       "      <th>sepalwidth</th>\n",
       "      <th>petallength</th>\n",
       "      <th>petalwidth</th>\n",
       "      <th>class</th>\n",
       "    </tr>\n",
       "  </thead>\n",
       "  <tbody>\n",
       "    <tr>\n",
       "      <th>0</th>\n",
       "      <td>5.1</td>\n",
       "      <td>3.5</td>\n",
       "      <td>1.4</td>\n",
       "      <td>0.2</td>\n",
       "      <td>Iris-setosa</td>\n",
       "    </tr>\n",
       "    <tr>\n",
       "      <th>1</th>\n",
       "      <td>4.9</td>\n",
       "      <td>3.0</td>\n",
       "      <td>1.4</td>\n",
       "      <td>0.2</td>\n",
       "      <td>Iris-setosa</td>\n",
       "    </tr>\n",
       "    <tr>\n",
       "      <th>2</th>\n",
       "      <td>4.7</td>\n",
       "      <td>3.2</td>\n",
       "      <td>1.3</td>\n",
       "      <td>0.2</td>\n",
       "      <td>Iris-setosa</td>\n",
       "    </tr>\n",
       "    <tr>\n",
       "      <th>3</th>\n",
       "      <td>4.6</td>\n",
       "      <td>3.1</td>\n",
       "      <td>1.5</td>\n",
       "      <td>0.2</td>\n",
       "      <td>Iris-setosa</td>\n",
       "    </tr>\n",
       "    <tr>\n",
       "      <th>4</th>\n",
       "      <td>5.0</td>\n",
       "      <td>3.6</td>\n",
       "      <td>1.4</td>\n",
       "      <td>0.2</td>\n",
       "      <td>Iris-setosa</td>\n",
       "    </tr>\n",
       "  </tbody>\n",
       "</table>\n",
       "</div>"
      ],
      "text/plain": [
       "   sepallength  sepalwidth  petallength  petalwidth        class\n",
       "0          5.1         3.5          1.4         0.2  Iris-setosa\n",
       "1          4.9         3.0          1.4         0.2  Iris-setosa\n",
       "2          4.7         3.2          1.3         0.2  Iris-setosa\n",
       "3          4.6         3.1          1.5         0.2  Iris-setosa\n",
       "4          5.0         3.6          1.4         0.2  Iris-setosa"
      ]
     },
     "execution_count": 5,
     "metadata": {},
     "output_type": "execute_result"
    }
   ],
   "source": [
    "data.head()"
   ]
  },
  {
   "cell_type": "markdown",
   "metadata": {},
   "source": [
    "**DataFrame is the primary data structure in pandas.** \n",
    "\n",
    "Two-dimensional, size-mutable, potentially heterogeneous tabular data.\n",
    "\n",
    "Data structure also contains labeled axes (rows and columns). Arithmetic operations align on both row and column labels. Can be thought of as a dict-like container for Series objects."
   ]
  },
  {
   "cell_type": "code",
   "execution_count": 6,
   "metadata": {},
   "outputs": [
    {
     "data": {
      "text/html": [
       "<div>\n",
       "<style scoped>\n",
       "    .dataframe tbody tr th:only-of-type {\n",
       "        vertical-align: middle;\n",
       "    }\n",
       "\n",
       "    .dataframe tbody tr th {\n",
       "        vertical-align: top;\n",
       "    }\n",
       "\n",
       "    .dataframe thead th {\n",
       "        text-align: right;\n",
       "    }\n",
       "</style>\n",
       "<table border=\"1\" class=\"dataframe\">\n",
       "  <thead>\n",
       "    <tr style=\"text-align: right;\">\n",
       "      <th></th>\n",
       "      <th>sepallength</th>\n",
       "      <th>sepalwidth</th>\n",
       "      <th>petallength</th>\n",
       "      <th>petalwidth</th>\n",
       "      <th>class</th>\n",
       "    </tr>\n",
       "  </thead>\n",
       "  <tbody>\n",
       "    <tr>\n",
       "      <th>0</th>\n",
       "      <td>5.1</td>\n",
       "      <td>3.5</td>\n",
       "      <td>1.4</td>\n",
       "      <td>0.2</td>\n",
       "      <td>Iris-setosa</td>\n",
       "    </tr>\n",
       "    <tr>\n",
       "      <th>1</th>\n",
       "      <td>4.9</td>\n",
       "      <td>3.0</td>\n",
       "      <td>1.4</td>\n",
       "      <td>0.2</td>\n",
       "      <td>Iris-setosa</td>\n",
       "    </tr>\n",
       "    <tr>\n",
       "      <th>2</th>\n",
       "      <td>4.7</td>\n",
       "      <td>3.2</td>\n",
       "      <td>1.3</td>\n",
       "      <td>0.2</td>\n",
       "      <td>Iris-setosa</td>\n",
       "    </tr>\n",
       "    <tr>\n",
       "      <th>3</th>\n",
       "      <td>4.6</td>\n",
       "      <td>3.1</td>\n",
       "      <td>1.5</td>\n",
       "      <td>0.2</td>\n",
       "      <td>Iris-setosa</td>\n",
       "    </tr>\n",
       "    <tr>\n",
       "      <th>4</th>\n",
       "      <td>5.0</td>\n",
       "      <td>3.6</td>\n",
       "      <td>1.4</td>\n",
       "      <td>0.2</td>\n",
       "      <td>Iris-setosa</td>\n",
       "    </tr>\n",
       "    <tr>\n",
       "      <th>...</th>\n",
       "      <td>...</td>\n",
       "      <td>...</td>\n",
       "      <td>...</td>\n",
       "      <td>...</td>\n",
       "      <td>...</td>\n",
       "    </tr>\n",
       "    <tr>\n",
       "      <th>145</th>\n",
       "      <td>6.7</td>\n",
       "      <td>3.0</td>\n",
       "      <td>5.2</td>\n",
       "      <td>2.3</td>\n",
       "      <td>Iris-virginica</td>\n",
       "    </tr>\n",
       "    <tr>\n",
       "      <th>146</th>\n",
       "      <td>6.3</td>\n",
       "      <td>2.5</td>\n",
       "      <td>5.0</td>\n",
       "      <td>1.9</td>\n",
       "      <td>Iris-virginica</td>\n",
       "    </tr>\n",
       "    <tr>\n",
       "      <th>147</th>\n",
       "      <td>6.5</td>\n",
       "      <td>3.0</td>\n",
       "      <td>5.2</td>\n",
       "      <td>2.0</td>\n",
       "      <td>Iris-virginica</td>\n",
       "    </tr>\n",
       "    <tr>\n",
       "      <th>148</th>\n",
       "      <td>6.2</td>\n",
       "      <td>3.4</td>\n",
       "      <td>5.4</td>\n",
       "      <td>2.3</td>\n",
       "      <td>Iris-virginica</td>\n",
       "    </tr>\n",
       "    <tr>\n",
       "      <th>149</th>\n",
       "      <td>5.9</td>\n",
       "      <td>3.0</td>\n",
       "      <td>5.1</td>\n",
       "      <td>1.8</td>\n",
       "      <td>Iris-virginica</td>\n",
       "    </tr>\n",
       "  </tbody>\n",
       "</table>\n",
       "<p>150 rows × 5 columns</p>\n",
       "</div>"
      ],
      "text/plain": [
       "     sepallength  sepalwidth  petallength  petalwidth           class\n",
       "0            5.1         3.5          1.4         0.2     Iris-setosa\n",
       "1            4.9         3.0          1.4         0.2     Iris-setosa\n",
       "2            4.7         3.2          1.3         0.2     Iris-setosa\n",
       "3            4.6         3.1          1.5         0.2     Iris-setosa\n",
       "4            5.0         3.6          1.4         0.2     Iris-setosa\n",
       "..           ...         ...          ...         ...             ...\n",
       "145          6.7         3.0          5.2         2.3  Iris-virginica\n",
       "146          6.3         2.5          5.0         1.9  Iris-virginica\n",
       "147          6.5         3.0          5.2         2.0  Iris-virginica\n",
       "148          6.2         3.4          5.4         2.3  Iris-virginica\n",
       "149          5.9         3.0          5.1         1.8  Iris-virginica\n",
       "\n",
       "[150 rows x 5 columns]"
      ]
     },
     "execution_count": 6,
     "metadata": {},
     "output_type": "execute_result"
    }
   ],
   "source": [
    "df = pd.DataFrame(data)\n",
    "df"
   ]
  },
  {
   "cell_type": "markdown",
   "metadata": {},
   "source": [
    "**Print column names**"
   ]
  },
  {
   "cell_type": "code",
   "execution_count": 114,
   "metadata": {
    "scrolled": true
   },
   "outputs": [
    {
     "name": "stdout",
     "output_type": "stream",
     "text": [
      "Index(['sepallength', 'sepalwidth', 'petallength', 'petalwidth', 'class'], dtype='object')\n"
     ]
    }
   ],
   "source": [
    "print(df.columns)"
   ]
  },
  {
   "cell_type": "markdown",
   "metadata": {},
   "source": [
    "**Shape and size**"
   ]
  },
  {
   "cell_type": "code",
   "execution_count": 115,
   "metadata": {},
   "outputs": [
    {
     "data": {
      "text/plain": [
       "(150, 5)"
      ]
     },
     "execution_count": 115,
     "metadata": {},
     "output_type": "execute_result"
    }
   ],
   "source": [
    "df.shape"
   ]
  },
  {
   "cell_type": "markdown",
   "metadata": {},
   "source": [
    "**Select specific rows**"
   ]
  },
  {
   "cell_type": "code",
   "execution_count": 7,
   "metadata": {},
   "outputs": [
    {
     "data": {
      "text/html": [
       "<div>\n",
       "<style scoped>\n",
       "    .dataframe tbody tr th:only-of-type {\n",
       "        vertical-align: middle;\n",
       "    }\n",
       "\n",
       "    .dataframe tbody tr th {\n",
       "        vertical-align: top;\n",
       "    }\n",
       "\n",
       "    .dataframe thead th {\n",
       "        text-align: right;\n",
       "    }\n",
       "</style>\n",
       "<table border=\"1\" class=\"dataframe\">\n",
       "  <thead>\n",
       "    <tr style=\"text-align: right;\">\n",
       "      <th></th>\n",
       "      <th>sepallength</th>\n",
       "      <th>sepalwidth</th>\n",
       "      <th>petallength</th>\n",
       "      <th>petalwidth</th>\n",
       "      <th>class</th>\n",
       "    </tr>\n",
       "  </thead>\n",
       "  <tbody>\n",
       "    <tr>\n",
       "      <th>10</th>\n",
       "      <td>5.4</td>\n",
       "      <td>3.7</td>\n",
       "      <td>1.5</td>\n",
       "      <td>0.2</td>\n",
       "      <td>Iris-setosa</td>\n",
       "    </tr>\n",
       "    <tr>\n",
       "      <th>11</th>\n",
       "      <td>4.8</td>\n",
       "      <td>3.4</td>\n",
       "      <td>1.6</td>\n",
       "      <td>0.2</td>\n",
       "      <td>Iris-setosa</td>\n",
       "    </tr>\n",
       "    <tr>\n",
       "      <th>12</th>\n",
       "      <td>4.8</td>\n",
       "      <td>3.0</td>\n",
       "      <td>1.4</td>\n",
       "      <td>0.1</td>\n",
       "      <td>Iris-setosa</td>\n",
       "    </tr>\n",
       "    <tr>\n",
       "      <th>13</th>\n",
       "      <td>4.3</td>\n",
       "      <td>3.0</td>\n",
       "      <td>1.1</td>\n",
       "      <td>0.1</td>\n",
       "      <td>Iris-setosa</td>\n",
       "    </tr>\n",
       "    <tr>\n",
       "      <th>14</th>\n",
       "      <td>5.8</td>\n",
       "      <td>4.0</td>\n",
       "      <td>1.2</td>\n",
       "      <td>0.2</td>\n",
       "      <td>Iris-setosa</td>\n",
       "    </tr>\n",
       "    <tr>\n",
       "      <th>15</th>\n",
       "      <td>5.7</td>\n",
       "      <td>4.4</td>\n",
       "      <td>1.5</td>\n",
       "      <td>0.4</td>\n",
       "      <td>Iris-setosa</td>\n",
       "    </tr>\n",
       "    <tr>\n",
       "      <th>16</th>\n",
       "      <td>5.4</td>\n",
       "      <td>3.9</td>\n",
       "      <td>1.3</td>\n",
       "      <td>0.4</td>\n",
       "      <td>Iris-setosa</td>\n",
       "    </tr>\n",
       "    <tr>\n",
       "      <th>17</th>\n",
       "      <td>5.1</td>\n",
       "      <td>3.5</td>\n",
       "      <td>1.4</td>\n",
       "      <td>0.3</td>\n",
       "      <td>Iris-setosa</td>\n",
       "    </tr>\n",
       "    <tr>\n",
       "      <th>18</th>\n",
       "      <td>5.7</td>\n",
       "      <td>3.8</td>\n",
       "      <td>1.7</td>\n",
       "      <td>0.3</td>\n",
       "      <td>Iris-setosa</td>\n",
       "    </tr>\n",
       "    <tr>\n",
       "      <th>19</th>\n",
       "      <td>5.1</td>\n",
       "      <td>3.8</td>\n",
       "      <td>1.5</td>\n",
       "      <td>0.3</td>\n",
       "      <td>Iris-setosa</td>\n",
       "    </tr>\n",
       "    <tr>\n",
       "      <th>20</th>\n",
       "      <td>5.4</td>\n",
       "      <td>3.4</td>\n",
       "      <td>1.7</td>\n",
       "      <td>0.2</td>\n",
       "      <td>Iris-setosa</td>\n",
       "    </tr>\n",
       "  </tbody>\n",
       "</table>\n",
       "</div>"
      ],
      "text/plain": [
       "    sepallength  sepalwidth  petallength  petalwidth        class\n",
       "10          5.4         3.7          1.5         0.2  Iris-setosa\n",
       "11          4.8         3.4          1.6         0.2  Iris-setosa\n",
       "12          4.8         3.0          1.4         0.1  Iris-setosa\n",
       "13          4.3         3.0          1.1         0.1  Iris-setosa\n",
       "14          5.8         4.0          1.2         0.2  Iris-setosa\n",
       "15          5.7         4.4          1.5         0.4  Iris-setosa\n",
       "16          5.4         3.9          1.3         0.4  Iris-setosa\n",
       "17          5.1         3.5          1.4         0.3  Iris-setosa\n",
       "18          5.7         3.8          1.7         0.3  Iris-setosa\n",
       "19          5.1         3.8          1.5         0.3  Iris-setosa\n",
       "20          5.4         3.4          1.7         0.2  Iris-setosa"
      ]
     },
     "execution_count": 7,
     "metadata": {},
     "output_type": "execute_result"
    }
   ],
   "source": [
    "df[10:21]"
   ]
  },
  {
   "cell_type": "code",
   "execution_count": 9,
   "metadata": {
    "scrolled": true
   },
   "outputs": [
    {
     "data": {
      "text/html": [
       "<div>\n",
       "<style scoped>\n",
       "    .dataframe tbody tr th:only-of-type {\n",
       "        vertical-align: middle;\n",
       "    }\n",
       "\n",
       "    .dataframe tbody tr th {\n",
       "        vertical-align: top;\n",
       "    }\n",
       "\n",
       "    .dataframe thead th {\n",
       "        text-align: right;\n",
       "    }\n",
       "</style>\n",
       "<table border=\"1\" class=\"dataframe\">\n",
       "  <thead>\n",
       "    <tr style=\"text-align: right;\">\n",
       "      <th></th>\n",
       "      <th>sepallength</th>\n",
       "      <th>sepalwidth</th>\n",
       "      <th>petallength</th>\n",
       "      <th>petalwidth</th>\n",
       "      <th>class</th>\n",
       "    </tr>\n",
       "  </thead>\n",
       "  <tbody>\n",
       "    <tr>\n",
       "      <th>50</th>\n",
       "      <td>7.0</td>\n",
       "      <td>3.2</td>\n",
       "      <td>4.7</td>\n",
       "      <td>1.4</td>\n",
       "      <td>Iris-versicolor</td>\n",
       "    </tr>\n",
       "    <tr>\n",
       "      <th>51</th>\n",
       "      <td>6.4</td>\n",
       "      <td>3.2</td>\n",
       "      <td>4.5</td>\n",
       "      <td>1.5</td>\n",
       "      <td>Iris-versicolor</td>\n",
       "    </tr>\n",
       "    <tr>\n",
       "      <th>52</th>\n",
       "      <td>6.9</td>\n",
       "      <td>3.1</td>\n",
       "      <td>4.9</td>\n",
       "      <td>1.5</td>\n",
       "      <td>Iris-versicolor</td>\n",
       "    </tr>\n",
       "    <tr>\n",
       "      <th>53</th>\n",
       "      <td>5.5</td>\n",
       "      <td>2.3</td>\n",
       "      <td>4.0</td>\n",
       "      <td>1.3</td>\n",
       "      <td>Iris-versicolor</td>\n",
       "    </tr>\n",
       "    <tr>\n",
       "      <th>54</th>\n",
       "      <td>6.5</td>\n",
       "      <td>2.8</td>\n",
       "      <td>4.6</td>\n",
       "      <td>1.5</td>\n",
       "      <td>Iris-versicolor</td>\n",
       "    </tr>\n",
       "    <tr>\n",
       "      <th>55</th>\n",
       "      <td>5.7</td>\n",
       "      <td>2.8</td>\n",
       "      <td>4.5</td>\n",
       "      <td>1.3</td>\n",
       "      <td>Iris-versicolor</td>\n",
       "    </tr>\n",
       "    <tr>\n",
       "      <th>56</th>\n",
       "      <td>6.3</td>\n",
       "      <td>3.3</td>\n",
       "      <td>4.7</td>\n",
       "      <td>1.6</td>\n",
       "      <td>Iris-versicolor</td>\n",
       "    </tr>\n",
       "    <tr>\n",
       "      <th>57</th>\n",
       "      <td>4.9</td>\n",
       "      <td>2.4</td>\n",
       "      <td>3.3</td>\n",
       "      <td>1.0</td>\n",
       "      <td>Iris-versicolor</td>\n",
       "    </tr>\n",
       "    <tr>\n",
       "      <th>58</th>\n",
       "      <td>6.6</td>\n",
       "      <td>2.9</td>\n",
       "      <td>4.6</td>\n",
       "      <td>1.3</td>\n",
       "      <td>Iris-versicolor</td>\n",
       "    </tr>\n",
       "    <tr>\n",
       "      <th>59</th>\n",
       "      <td>5.2</td>\n",
       "      <td>2.7</td>\n",
       "      <td>3.9</td>\n",
       "      <td>1.4</td>\n",
       "      <td>Iris-versicolor</td>\n",
       "    </tr>\n",
       "    <tr>\n",
       "      <th>60</th>\n",
       "      <td>5.0</td>\n",
       "      <td>2.0</td>\n",
       "      <td>3.5</td>\n",
       "      <td>1.0</td>\n",
       "      <td>Iris-versicolor</td>\n",
       "    </tr>\n",
       "    <tr>\n",
       "      <th>61</th>\n",
       "      <td>5.9</td>\n",
       "      <td>3.0</td>\n",
       "      <td>4.2</td>\n",
       "      <td>1.5</td>\n",
       "      <td>Iris-versicolor</td>\n",
       "    </tr>\n",
       "    <tr>\n",
       "      <th>62</th>\n",
       "      <td>6.0</td>\n",
       "      <td>2.2</td>\n",
       "      <td>4.0</td>\n",
       "      <td>1.0</td>\n",
       "      <td>Iris-versicolor</td>\n",
       "    </tr>\n",
       "    <tr>\n",
       "      <th>63</th>\n",
       "      <td>6.1</td>\n",
       "      <td>2.9</td>\n",
       "      <td>4.7</td>\n",
       "      <td>1.4</td>\n",
       "      <td>Iris-versicolor</td>\n",
       "    </tr>\n",
       "    <tr>\n",
       "      <th>64</th>\n",
       "      <td>5.6</td>\n",
       "      <td>2.9</td>\n",
       "      <td>3.6</td>\n",
       "      <td>1.3</td>\n",
       "      <td>Iris-versicolor</td>\n",
       "    </tr>\n",
       "    <tr>\n",
       "      <th>65</th>\n",
       "      <td>6.7</td>\n",
       "      <td>3.1</td>\n",
       "      <td>4.4</td>\n",
       "      <td>1.4</td>\n",
       "      <td>Iris-versicolor</td>\n",
       "    </tr>\n",
       "    <tr>\n",
       "      <th>66</th>\n",
       "      <td>5.6</td>\n",
       "      <td>3.0</td>\n",
       "      <td>4.5</td>\n",
       "      <td>1.5</td>\n",
       "      <td>Iris-versicolor</td>\n",
       "    </tr>\n",
       "    <tr>\n",
       "      <th>67</th>\n",
       "      <td>5.8</td>\n",
       "      <td>2.7</td>\n",
       "      <td>4.1</td>\n",
       "      <td>1.0</td>\n",
       "      <td>Iris-versicolor</td>\n",
       "    </tr>\n",
       "    <tr>\n",
       "      <th>68</th>\n",
       "      <td>6.2</td>\n",
       "      <td>2.2</td>\n",
       "      <td>4.5</td>\n",
       "      <td>1.5</td>\n",
       "      <td>Iris-versicolor</td>\n",
       "    </tr>\n",
       "    <tr>\n",
       "      <th>69</th>\n",
       "      <td>5.6</td>\n",
       "      <td>2.5</td>\n",
       "      <td>3.9</td>\n",
       "      <td>1.1</td>\n",
       "      <td>Iris-versicolor</td>\n",
       "    </tr>\n",
       "  </tbody>\n",
       "</table>\n",
       "</div>"
      ],
      "text/plain": [
       "    sepallength  sepalwidth  petallength  petalwidth            class\n",
       "50          7.0         3.2          4.7         1.4  Iris-versicolor\n",
       "51          6.4         3.2          4.5         1.5  Iris-versicolor\n",
       "52          6.9         3.1          4.9         1.5  Iris-versicolor\n",
       "53          5.5         2.3          4.0         1.3  Iris-versicolor\n",
       "54          6.5         2.8          4.6         1.5  Iris-versicolor\n",
       "55          5.7         2.8          4.5         1.3  Iris-versicolor\n",
       "56          6.3         3.3          4.7         1.6  Iris-versicolor\n",
       "57          4.9         2.4          3.3         1.0  Iris-versicolor\n",
       "58          6.6         2.9          4.6         1.3  Iris-versicolor\n",
       "59          5.2         2.7          3.9         1.4  Iris-versicolor\n",
       "60          5.0         2.0          3.5         1.0  Iris-versicolor\n",
       "61          5.9         3.0          4.2         1.5  Iris-versicolor\n",
       "62          6.0         2.2          4.0         1.0  Iris-versicolor\n",
       "63          6.1         2.9          4.7         1.4  Iris-versicolor\n",
       "64          5.6         2.9          3.6         1.3  Iris-versicolor\n",
       "65          6.7         3.1          4.4         1.4  Iris-versicolor\n",
       "66          5.6         3.0          4.5         1.5  Iris-versicolor\n",
       "67          5.8         2.7          4.1         1.0  Iris-versicolor\n",
       "68          6.2         2.2          4.5         1.5  Iris-versicolor\n",
       "69          5.6         2.5          3.9         1.1  Iris-versicolor"
      ]
     },
     "execution_count": 9,
     "metadata": {},
     "output_type": "execute_result"
    }
   ],
   "source": [
    "sliced_df=df[50:70]\n",
    "sliced_df"
   ]
  },
  {
   "cell_type": "code",
   "execution_count": 10,
   "metadata": {},
   "outputs": [
    {
     "data": {
      "text/plain": [
       "(20, 5)"
      ]
     },
     "execution_count": 10,
     "metadata": {},
     "output_type": "execute_result"
    }
   ],
   "source": [
    "sliced_df.shape"
   ]
  },
  {
   "cell_type": "markdown",
   "metadata": {},
   "source": [
    "**Select specific columns**"
   ]
  },
  {
   "cell_type": "code",
   "execution_count": 11,
   "metadata": {},
   "outputs": [],
   "source": [
    "specific_data=df[[\"class\",\"petalwidth\"]]"
   ]
  },
  {
   "cell_type": "code",
   "execution_count": 13,
   "metadata": {
    "scrolled": false
   },
   "outputs": [
    {
     "data": {
      "text/html": [
       "<div>\n",
       "<style scoped>\n",
       "    .dataframe tbody tr th:only-of-type {\n",
       "        vertical-align: middle;\n",
       "    }\n",
       "\n",
       "    .dataframe tbody tr th {\n",
       "        vertical-align: top;\n",
       "    }\n",
       "\n",
       "    .dataframe thead th {\n",
       "        text-align: right;\n",
       "    }\n",
       "</style>\n",
       "<table border=\"1\" class=\"dataframe\">\n",
       "  <thead>\n",
       "    <tr style=\"text-align: right;\">\n",
       "      <th></th>\n",
       "      <th>class</th>\n",
       "      <th>petalwidth</th>\n",
       "    </tr>\n",
       "  </thead>\n",
       "  <tbody>\n",
       "    <tr>\n",
       "      <th>0</th>\n",
       "      <td>Iris-setosa</td>\n",
       "      <td>0.2</td>\n",
       "    </tr>\n",
       "    <tr>\n",
       "      <th>1</th>\n",
       "      <td>Iris-setosa</td>\n",
       "      <td>0.2</td>\n",
       "    </tr>\n",
       "    <tr>\n",
       "      <th>2</th>\n",
       "      <td>Iris-setosa</td>\n",
       "      <td>0.2</td>\n",
       "    </tr>\n",
       "    <tr>\n",
       "      <th>3</th>\n",
       "      <td>Iris-setosa</td>\n",
       "      <td>0.2</td>\n",
       "    </tr>\n",
       "    <tr>\n",
       "      <th>4</th>\n",
       "      <td>Iris-setosa</td>\n",
       "      <td>0.2</td>\n",
       "    </tr>\n",
       "  </tbody>\n",
       "</table>\n",
       "</div>"
      ],
      "text/plain": [
       "         class  petalwidth\n",
       "0  Iris-setosa         0.2\n",
       "1  Iris-setosa         0.2\n",
       "2  Iris-setosa         0.2\n",
       "3  Iris-setosa         0.2\n",
       "4  Iris-setosa         0.2"
      ]
     },
     "execution_count": 13,
     "metadata": {},
     "output_type": "execute_result"
    }
   ],
   "source": [
    "specific_data.head()"
   ]
  },
  {
   "cell_type": "markdown",
   "metadata": {},
   "source": [
    "**Iterate over rows**"
   ]
  },
  {
   "cell_type": "code",
   "execution_count": 121,
   "metadata": {},
   "outputs": [
    {
     "name": "stdout",
     "output_type": "stream",
     "text": [
      "Iris-setosa 0.2\n",
      "Iris-setosa 0.2\n",
      "Iris-setosa 0.2\n",
      "Iris-setosa 0.2\n",
      "Iris-setosa 0.2\n",
      "Iris-setosa 0.4\n",
      "Iris-setosa 0.3\n",
      "Iris-setosa 0.2\n",
      "Iris-setosa 0.2\n",
      "Iris-setosa 0.1\n",
      "Iris-setosa 0.2\n",
      "Iris-setosa 0.2\n",
      "Iris-setosa 0.1\n",
      "Iris-setosa 0.1\n",
      "Iris-setosa 0.2\n",
      "Iris-setosa 0.4\n",
      "Iris-setosa 0.4\n",
      "Iris-setosa 0.3\n",
      "Iris-setosa 0.3\n",
      "Iris-setosa 0.3\n",
      "Iris-setosa 0.2\n",
      "Iris-setosa 0.4\n",
      "Iris-setosa 0.2\n",
      "Iris-setosa 0.5\n",
      "Iris-setosa 0.2\n",
      "Iris-setosa 0.2\n",
      "Iris-setosa 0.4\n",
      "Iris-setosa 0.2\n",
      "Iris-setosa 0.2\n",
      "Iris-setosa 0.2\n",
      "Iris-setosa 0.2\n",
      "Iris-setosa 0.4\n",
      "Iris-setosa 0.1\n",
      "Iris-setosa 0.2\n",
      "Iris-setosa 0.1\n",
      "Iris-setosa 0.2\n",
      "Iris-setosa 0.2\n",
      "Iris-setosa 0.1\n",
      "Iris-setosa 0.2\n",
      "Iris-setosa 0.2\n",
      "Iris-setosa 0.3\n",
      "Iris-setosa 0.3\n",
      "Iris-setosa 0.2\n",
      "Iris-setosa 0.6\n",
      "Iris-setosa 0.4\n",
      "Iris-setosa 0.3\n",
      "Iris-setosa 0.2\n",
      "Iris-setosa 0.2\n",
      "Iris-setosa 0.2\n",
      "Iris-setosa 0.2\n",
      "Iris-versicolor 1.4\n",
      "Iris-versicolor 1.5\n",
      "Iris-versicolor 1.5\n",
      "Iris-versicolor 1.3\n",
      "Iris-versicolor 1.5\n",
      "Iris-versicolor 1.3\n",
      "Iris-versicolor 1.6\n",
      "Iris-versicolor 1.0\n",
      "Iris-versicolor 1.3\n",
      "Iris-versicolor 1.4\n",
      "Iris-versicolor 1.0\n",
      "Iris-versicolor 1.5\n",
      "Iris-versicolor 1.0\n",
      "Iris-versicolor 1.4\n",
      "Iris-versicolor 1.3\n",
      "Iris-versicolor 1.4\n",
      "Iris-versicolor 1.5\n",
      "Iris-versicolor 1.0\n",
      "Iris-versicolor 1.5\n",
      "Iris-versicolor 1.1\n",
      "Iris-versicolor 1.8\n",
      "Iris-versicolor 1.3\n",
      "Iris-versicolor 1.5\n",
      "Iris-versicolor 1.2\n",
      "Iris-versicolor 1.3\n",
      "Iris-versicolor 1.4\n",
      "Iris-versicolor 1.4\n",
      "Iris-versicolor 1.7\n",
      "Iris-versicolor 1.5\n",
      "Iris-versicolor 1.0\n",
      "Iris-versicolor 1.1\n",
      "Iris-versicolor 1.0\n",
      "Iris-versicolor 1.2\n",
      "Iris-versicolor 1.6\n",
      "Iris-versicolor 1.5\n",
      "Iris-versicolor 1.6\n",
      "Iris-versicolor 1.5\n",
      "Iris-versicolor 1.3\n",
      "Iris-versicolor 1.3\n",
      "Iris-versicolor 1.3\n",
      "Iris-versicolor 1.2\n",
      "Iris-versicolor 1.4\n",
      "Iris-versicolor 1.2\n",
      "Iris-versicolor 1.0\n",
      "Iris-versicolor 1.3\n",
      "Iris-versicolor 1.2\n",
      "Iris-versicolor 1.3\n",
      "Iris-versicolor 1.3\n",
      "Iris-versicolor 1.1\n",
      "Iris-versicolor 1.3\n",
      "Iris-virginica 2.5\n",
      "Iris-virginica 1.9\n",
      "Iris-virginica 2.1\n",
      "Iris-virginica 1.8\n",
      "Iris-virginica 2.2\n",
      "Iris-virginica 2.1\n",
      "Iris-virginica 1.7\n",
      "Iris-virginica 1.8\n",
      "Iris-virginica 1.8\n",
      "Iris-virginica 2.5\n",
      "Iris-virginica 2.0\n",
      "Iris-virginica 1.9\n",
      "Iris-virginica 2.1\n",
      "Iris-virginica 2.0\n",
      "Iris-virginica 2.4\n",
      "Iris-virginica 2.3\n",
      "Iris-virginica 1.8\n",
      "Iris-virginica 2.2\n",
      "Iris-virginica 2.3\n",
      "Iris-virginica 1.5\n",
      "Iris-virginica 2.3\n",
      "Iris-virginica 2.0\n",
      "Iris-virginica 2.0\n",
      "Iris-virginica 1.8\n",
      "Iris-virginica 2.1\n",
      "Iris-virginica 1.8\n",
      "Iris-virginica 1.8\n",
      "Iris-virginica 1.8\n",
      "Iris-virginica 2.1\n",
      "Iris-virginica 1.6\n",
      "Iris-virginica 1.9\n",
      "Iris-virginica 2.0\n",
      "Iris-virginica 2.2\n",
      "Iris-virginica 1.5\n",
      "Iris-virginica 1.4\n",
      "Iris-virginica 2.3\n",
      "Iris-virginica 2.4\n",
      "Iris-virginica 1.8\n",
      "Iris-virginica 1.8\n",
      "Iris-virginica 2.1\n",
      "Iris-virginica 2.4\n",
      "Iris-virginica 2.3\n",
      "Iris-virginica 1.9\n",
      "Iris-virginica 2.3\n",
      "Iris-virginica 2.5\n",
      "Iris-virginica 2.3\n",
      "Iris-virginica 1.9\n",
      "Iris-virginica 2.0\n",
      "Iris-virginica 2.3\n",
      "Iris-virginica 1.8\n"
     ]
    }
   ],
   "source": [
    "for index, row in df.iterrows():\n",
    "    print(row['class'], row['petalwidth'])"
   ]
  },
  {
   "cell_type": "markdown",
   "metadata": {},
   "source": [
    "**Select data according to the value in specific column**"
   ]
  },
  {
   "cell_type": "code",
   "execution_count": 14,
   "metadata": {
    "scrolled": true
   },
   "outputs": [
    {
     "name": "stdout",
     "output_type": "stream",
     "text": [
      "Iris-setosa 0.2\n",
      "Iris-setosa 0.2\n",
      "Iris-setosa 0.2\n",
      "Iris-setosa 0.2\n",
      "Iris-setosa 0.2\n",
      "Iris-setosa 0.4\n",
      "Iris-setosa 0.3\n",
      "Iris-setosa 0.2\n",
      "Iris-setosa 0.2\n",
      "Iris-setosa 0.1\n",
      "Iris-setosa 0.2\n",
      "Iris-setosa 0.2\n",
      "Iris-setosa 0.1\n",
      "Iris-setosa 0.1\n",
      "Iris-setosa 0.2\n",
      "Iris-setosa 0.4\n",
      "Iris-setosa 0.4\n",
      "Iris-setosa 0.3\n",
      "Iris-setosa 0.3\n",
      "Iris-setosa 0.3\n",
      "Iris-setosa 0.2\n",
      "Iris-setosa 0.4\n",
      "Iris-setosa 0.2\n",
      "Iris-setosa 0.5\n",
      "Iris-setosa 0.2\n",
      "Iris-setosa 0.2\n",
      "Iris-setosa 0.4\n",
      "Iris-setosa 0.2\n",
      "Iris-setosa 0.2\n",
      "Iris-setosa 0.2\n",
      "Iris-setosa 0.2\n",
      "Iris-setosa 0.4\n",
      "Iris-setosa 0.1\n",
      "Iris-setosa 0.2\n",
      "Iris-setosa 0.1\n",
      "Iris-setosa 0.2\n",
      "Iris-setosa 0.2\n",
      "Iris-setosa 0.1\n",
      "Iris-setosa 0.2\n",
      "Iris-setosa 0.2\n",
      "Iris-setosa 0.3\n",
      "Iris-setosa 0.3\n",
      "Iris-setosa 0.2\n",
      "Iris-setosa 0.6\n",
      "Iris-setosa 0.4\n",
      "Iris-setosa 0.3\n",
      "Iris-setosa 0.2\n",
      "Iris-setosa 0.2\n",
      "Iris-setosa 0.2\n",
      "Iris-setosa 0.2\n"
     ]
    }
   ],
   "source": [
    "for index, row in df.iterrows():\n",
    "    if row['class']=='Iris-setosa':\n",
    "        print(row['class'], row['petalwidth'])"
   ]
  },
  {
   "cell_type": "code",
   "execution_count": 15,
   "metadata": {
    "scrolled": true
   },
   "outputs": [
    {
     "data": {
      "text/html": [
       "<div>\n",
       "<style scoped>\n",
       "    .dataframe tbody tr th:only-of-type {\n",
       "        vertical-align: middle;\n",
       "    }\n",
       "\n",
       "    .dataframe tbody tr th {\n",
       "        vertical-align: top;\n",
       "    }\n",
       "\n",
       "    .dataframe thead th {\n",
       "        text-align: right;\n",
       "    }\n",
       "</style>\n",
       "<table border=\"1\" class=\"dataframe\">\n",
       "  <thead>\n",
       "    <tr style=\"text-align: right;\">\n",
       "      <th></th>\n",
       "      <th>sepallength</th>\n",
       "      <th>sepalwidth</th>\n",
       "      <th>petallength</th>\n",
       "      <th>petalwidth</th>\n",
       "      <th>class</th>\n",
       "    </tr>\n",
       "  </thead>\n",
       "  <tbody>\n",
       "    <tr>\n",
       "      <th>0</th>\n",
       "      <td>5.1</td>\n",
       "      <td>3.5</td>\n",
       "      <td>1.4</td>\n",
       "      <td>0.2</td>\n",
       "      <td>Iris-setosa</td>\n",
       "    </tr>\n",
       "    <tr>\n",
       "      <th>1</th>\n",
       "      <td>4.9</td>\n",
       "      <td>3.0</td>\n",
       "      <td>1.4</td>\n",
       "      <td>0.2</td>\n",
       "      <td>Iris-setosa</td>\n",
       "    </tr>\n",
       "    <tr>\n",
       "      <th>2</th>\n",
       "      <td>4.7</td>\n",
       "      <td>3.2</td>\n",
       "      <td>1.3</td>\n",
       "      <td>0.2</td>\n",
       "      <td>Iris-setosa</td>\n",
       "    </tr>\n",
       "    <tr>\n",
       "      <th>3</th>\n",
       "      <td>4.6</td>\n",
       "      <td>3.1</td>\n",
       "      <td>1.5</td>\n",
       "      <td>0.2</td>\n",
       "      <td>Iris-setosa</td>\n",
       "    </tr>\n",
       "    <tr>\n",
       "      <th>4</th>\n",
       "      <td>5.0</td>\n",
       "      <td>3.6</td>\n",
       "      <td>1.4</td>\n",
       "      <td>0.2</td>\n",
       "      <td>Iris-setosa</td>\n",
       "    </tr>\n",
       "    <tr>\n",
       "      <th>5</th>\n",
       "      <td>5.4</td>\n",
       "      <td>3.9</td>\n",
       "      <td>1.7</td>\n",
       "      <td>0.4</td>\n",
       "      <td>Iris-setosa</td>\n",
       "    </tr>\n",
       "    <tr>\n",
       "      <th>6</th>\n",
       "      <td>4.6</td>\n",
       "      <td>3.4</td>\n",
       "      <td>1.4</td>\n",
       "      <td>0.3</td>\n",
       "      <td>Iris-setosa</td>\n",
       "    </tr>\n",
       "    <tr>\n",
       "      <th>7</th>\n",
       "      <td>5.0</td>\n",
       "      <td>3.4</td>\n",
       "      <td>1.5</td>\n",
       "      <td>0.2</td>\n",
       "      <td>Iris-setosa</td>\n",
       "    </tr>\n",
       "    <tr>\n",
       "      <th>8</th>\n",
       "      <td>4.4</td>\n",
       "      <td>2.9</td>\n",
       "      <td>1.4</td>\n",
       "      <td>0.2</td>\n",
       "      <td>Iris-setosa</td>\n",
       "    </tr>\n",
       "    <tr>\n",
       "      <th>9</th>\n",
       "      <td>4.9</td>\n",
       "      <td>3.1</td>\n",
       "      <td>1.5</td>\n",
       "      <td>0.1</td>\n",
       "      <td>Iris-setosa</td>\n",
       "    </tr>\n",
       "    <tr>\n",
       "      <th>10</th>\n",
       "      <td>5.4</td>\n",
       "      <td>3.7</td>\n",
       "      <td>1.5</td>\n",
       "      <td>0.2</td>\n",
       "      <td>Iris-setosa</td>\n",
       "    </tr>\n",
       "    <tr>\n",
       "      <th>11</th>\n",
       "      <td>4.8</td>\n",
       "      <td>3.4</td>\n",
       "      <td>1.6</td>\n",
       "      <td>0.2</td>\n",
       "      <td>Iris-setosa</td>\n",
       "    </tr>\n",
       "    <tr>\n",
       "      <th>12</th>\n",
       "      <td>4.8</td>\n",
       "      <td>3.0</td>\n",
       "      <td>1.4</td>\n",
       "      <td>0.1</td>\n",
       "      <td>Iris-setosa</td>\n",
       "    </tr>\n",
       "    <tr>\n",
       "      <th>13</th>\n",
       "      <td>4.3</td>\n",
       "      <td>3.0</td>\n",
       "      <td>1.1</td>\n",
       "      <td>0.1</td>\n",
       "      <td>Iris-setosa</td>\n",
       "    </tr>\n",
       "    <tr>\n",
       "      <th>14</th>\n",
       "      <td>5.8</td>\n",
       "      <td>4.0</td>\n",
       "      <td>1.2</td>\n",
       "      <td>0.2</td>\n",
       "      <td>Iris-setosa</td>\n",
       "    </tr>\n",
       "    <tr>\n",
       "      <th>15</th>\n",
       "      <td>5.7</td>\n",
       "      <td>4.4</td>\n",
       "      <td>1.5</td>\n",
       "      <td>0.4</td>\n",
       "      <td>Iris-setosa</td>\n",
       "    </tr>\n",
       "    <tr>\n",
       "      <th>16</th>\n",
       "      <td>5.4</td>\n",
       "      <td>3.9</td>\n",
       "      <td>1.3</td>\n",
       "      <td>0.4</td>\n",
       "      <td>Iris-setosa</td>\n",
       "    </tr>\n",
       "    <tr>\n",
       "      <th>17</th>\n",
       "      <td>5.1</td>\n",
       "      <td>3.5</td>\n",
       "      <td>1.4</td>\n",
       "      <td>0.3</td>\n",
       "      <td>Iris-setosa</td>\n",
       "    </tr>\n",
       "    <tr>\n",
       "      <th>18</th>\n",
       "      <td>5.7</td>\n",
       "      <td>3.8</td>\n",
       "      <td>1.7</td>\n",
       "      <td>0.3</td>\n",
       "      <td>Iris-setosa</td>\n",
       "    </tr>\n",
       "    <tr>\n",
       "      <th>19</th>\n",
       "      <td>5.1</td>\n",
       "      <td>3.8</td>\n",
       "      <td>1.5</td>\n",
       "      <td>0.3</td>\n",
       "      <td>Iris-setosa</td>\n",
       "    </tr>\n",
       "    <tr>\n",
       "      <th>20</th>\n",
       "      <td>5.4</td>\n",
       "      <td>3.4</td>\n",
       "      <td>1.7</td>\n",
       "      <td>0.2</td>\n",
       "      <td>Iris-setosa</td>\n",
       "    </tr>\n",
       "    <tr>\n",
       "      <th>21</th>\n",
       "      <td>5.1</td>\n",
       "      <td>3.7</td>\n",
       "      <td>1.5</td>\n",
       "      <td>0.4</td>\n",
       "      <td>Iris-setosa</td>\n",
       "    </tr>\n",
       "    <tr>\n",
       "      <th>22</th>\n",
       "      <td>4.6</td>\n",
       "      <td>3.6</td>\n",
       "      <td>1.0</td>\n",
       "      <td>0.2</td>\n",
       "      <td>Iris-setosa</td>\n",
       "    </tr>\n",
       "    <tr>\n",
       "      <th>23</th>\n",
       "      <td>5.1</td>\n",
       "      <td>3.3</td>\n",
       "      <td>1.7</td>\n",
       "      <td>0.5</td>\n",
       "      <td>Iris-setosa</td>\n",
       "    </tr>\n",
       "    <tr>\n",
       "      <th>24</th>\n",
       "      <td>4.8</td>\n",
       "      <td>3.4</td>\n",
       "      <td>1.9</td>\n",
       "      <td>0.2</td>\n",
       "      <td>Iris-setosa</td>\n",
       "    </tr>\n",
       "    <tr>\n",
       "      <th>25</th>\n",
       "      <td>5.0</td>\n",
       "      <td>3.0</td>\n",
       "      <td>1.6</td>\n",
       "      <td>0.2</td>\n",
       "      <td>Iris-setosa</td>\n",
       "    </tr>\n",
       "    <tr>\n",
       "      <th>26</th>\n",
       "      <td>5.0</td>\n",
       "      <td>3.4</td>\n",
       "      <td>1.6</td>\n",
       "      <td>0.4</td>\n",
       "      <td>Iris-setosa</td>\n",
       "    </tr>\n",
       "    <tr>\n",
       "      <th>27</th>\n",
       "      <td>5.2</td>\n",
       "      <td>3.5</td>\n",
       "      <td>1.5</td>\n",
       "      <td>0.2</td>\n",
       "      <td>Iris-setosa</td>\n",
       "    </tr>\n",
       "    <tr>\n",
       "      <th>28</th>\n",
       "      <td>5.2</td>\n",
       "      <td>3.4</td>\n",
       "      <td>1.4</td>\n",
       "      <td>0.2</td>\n",
       "      <td>Iris-setosa</td>\n",
       "    </tr>\n",
       "    <tr>\n",
       "      <th>29</th>\n",
       "      <td>4.7</td>\n",
       "      <td>3.2</td>\n",
       "      <td>1.6</td>\n",
       "      <td>0.2</td>\n",
       "      <td>Iris-setosa</td>\n",
       "    </tr>\n",
       "    <tr>\n",
       "      <th>30</th>\n",
       "      <td>4.8</td>\n",
       "      <td>3.1</td>\n",
       "      <td>1.6</td>\n",
       "      <td>0.2</td>\n",
       "      <td>Iris-setosa</td>\n",
       "    </tr>\n",
       "    <tr>\n",
       "      <th>31</th>\n",
       "      <td>5.4</td>\n",
       "      <td>3.4</td>\n",
       "      <td>1.5</td>\n",
       "      <td>0.4</td>\n",
       "      <td>Iris-setosa</td>\n",
       "    </tr>\n",
       "    <tr>\n",
       "      <th>32</th>\n",
       "      <td>5.2</td>\n",
       "      <td>4.1</td>\n",
       "      <td>1.5</td>\n",
       "      <td>0.1</td>\n",
       "      <td>Iris-setosa</td>\n",
       "    </tr>\n",
       "    <tr>\n",
       "      <th>33</th>\n",
       "      <td>5.5</td>\n",
       "      <td>4.2</td>\n",
       "      <td>1.4</td>\n",
       "      <td>0.2</td>\n",
       "      <td>Iris-setosa</td>\n",
       "    </tr>\n",
       "    <tr>\n",
       "      <th>34</th>\n",
       "      <td>4.9</td>\n",
       "      <td>3.1</td>\n",
       "      <td>1.5</td>\n",
       "      <td>0.1</td>\n",
       "      <td>Iris-setosa</td>\n",
       "    </tr>\n",
       "    <tr>\n",
       "      <th>35</th>\n",
       "      <td>5.0</td>\n",
       "      <td>3.2</td>\n",
       "      <td>1.2</td>\n",
       "      <td>0.2</td>\n",
       "      <td>Iris-setosa</td>\n",
       "    </tr>\n",
       "    <tr>\n",
       "      <th>36</th>\n",
       "      <td>5.5</td>\n",
       "      <td>3.5</td>\n",
       "      <td>1.3</td>\n",
       "      <td>0.2</td>\n",
       "      <td>Iris-setosa</td>\n",
       "    </tr>\n",
       "    <tr>\n",
       "      <th>37</th>\n",
       "      <td>4.9</td>\n",
       "      <td>3.1</td>\n",
       "      <td>1.5</td>\n",
       "      <td>0.1</td>\n",
       "      <td>Iris-setosa</td>\n",
       "    </tr>\n",
       "    <tr>\n",
       "      <th>38</th>\n",
       "      <td>4.4</td>\n",
       "      <td>3.0</td>\n",
       "      <td>1.3</td>\n",
       "      <td>0.2</td>\n",
       "      <td>Iris-setosa</td>\n",
       "    </tr>\n",
       "    <tr>\n",
       "      <th>39</th>\n",
       "      <td>5.1</td>\n",
       "      <td>3.4</td>\n",
       "      <td>1.5</td>\n",
       "      <td>0.2</td>\n",
       "      <td>Iris-setosa</td>\n",
       "    </tr>\n",
       "    <tr>\n",
       "      <th>40</th>\n",
       "      <td>5.0</td>\n",
       "      <td>3.5</td>\n",
       "      <td>1.3</td>\n",
       "      <td>0.3</td>\n",
       "      <td>Iris-setosa</td>\n",
       "    </tr>\n",
       "    <tr>\n",
       "      <th>41</th>\n",
       "      <td>4.5</td>\n",
       "      <td>2.3</td>\n",
       "      <td>1.3</td>\n",
       "      <td>0.3</td>\n",
       "      <td>Iris-setosa</td>\n",
       "    </tr>\n",
       "    <tr>\n",
       "      <th>42</th>\n",
       "      <td>4.4</td>\n",
       "      <td>3.2</td>\n",
       "      <td>1.3</td>\n",
       "      <td>0.2</td>\n",
       "      <td>Iris-setosa</td>\n",
       "    </tr>\n",
       "    <tr>\n",
       "      <th>43</th>\n",
       "      <td>5.0</td>\n",
       "      <td>3.5</td>\n",
       "      <td>1.6</td>\n",
       "      <td>0.6</td>\n",
       "      <td>Iris-setosa</td>\n",
       "    </tr>\n",
       "    <tr>\n",
       "      <th>44</th>\n",
       "      <td>5.1</td>\n",
       "      <td>3.8</td>\n",
       "      <td>1.9</td>\n",
       "      <td>0.4</td>\n",
       "      <td>Iris-setosa</td>\n",
       "    </tr>\n",
       "    <tr>\n",
       "      <th>45</th>\n",
       "      <td>4.8</td>\n",
       "      <td>3.0</td>\n",
       "      <td>1.4</td>\n",
       "      <td>0.3</td>\n",
       "      <td>Iris-setosa</td>\n",
       "    </tr>\n",
       "    <tr>\n",
       "      <th>46</th>\n",
       "      <td>5.1</td>\n",
       "      <td>3.8</td>\n",
       "      <td>1.6</td>\n",
       "      <td>0.2</td>\n",
       "      <td>Iris-setosa</td>\n",
       "    </tr>\n",
       "    <tr>\n",
       "      <th>47</th>\n",
       "      <td>4.6</td>\n",
       "      <td>3.2</td>\n",
       "      <td>1.4</td>\n",
       "      <td>0.2</td>\n",
       "      <td>Iris-setosa</td>\n",
       "    </tr>\n",
       "    <tr>\n",
       "      <th>48</th>\n",
       "      <td>5.3</td>\n",
       "      <td>3.7</td>\n",
       "      <td>1.5</td>\n",
       "      <td>0.2</td>\n",
       "      <td>Iris-setosa</td>\n",
       "    </tr>\n",
       "    <tr>\n",
       "      <th>49</th>\n",
       "      <td>5.0</td>\n",
       "      <td>3.3</td>\n",
       "      <td>1.4</td>\n",
       "      <td>0.2</td>\n",
       "      <td>Iris-setosa</td>\n",
       "    </tr>\n",
       "  </tbody>\n",
       "</table>\n",
       "</div>"
      ],
      "text/plain": [
       "    sepallength  sepalwidth  petallength  petalwidth        class\n",
       "0           5.1         3.5          1.4         0.2  Iris-setosa\n",
       "1           4.9         3.0          1.4         0.2  Iris-setosa\n",
       "2           4.7         3.2          1.3         0.2  Iris-setosa\n",
       "3           4.6         3.1          1.5         0.2  Iris-setosa\n",
       "4           5.0         3.6          1.4         0.2  Iris-setosa\n",
       "5           5.4         3.9          1.7         0.4  Iris-setosa\n",
       "6           4.6         3.4          1.4         0.3  Iris-setosa\n",
       "7           5.0         3.4          1.5         0.2  Iris-setosa\n",
       "8           4.4         2.9          1.4         0.2  Iris-setosa\n",
       "9           4.9         3.1          1.5         0.1  Iris-setosa\n",
       "10          5.4         3.7          1.5         0.2  Iris-setosa\n",
       "11          4.8         3.4          1.6         0.2  Iris-setosa\n",
       "12          4.8         3.0          1.4         0.1  Iris-setosa\n",
       "13          4.3         3.0          1.1         0.1  Iris-setosa\n",
       "14          5.8         4.0          1.2         0.2  Iris-setosa\n",
       "15          5.7         4.4          1.5         0.4  Iris-setosa\n",
       "16          5.4         3.9          1.3         0.4  Iris-setosa\n",
       "17          5.1         3.5          1.4         0.3  Iris-setosa\n",
       "18          5.7         3.8          1.7         0.3  Iris-setosa\n",
       "19          5.1         3.8          1.5         0.3  Iris-setosa\n",
       "20          5.4         3.4          1.7         0.2  Iris-setosa\n",
       "21          5.1         3.7          1.5         0.4  Iris-setosa\n",
       "22          4.6         3.6          1.0         0.2  Iris-setosa\n",
       "23          5.1         3.3          1.7         0.5  Iris-setosa\n",
       "24          4.8         3.4          1.9         0.2  Iris-setosa\n",
       "25          5.0         3.0          1.6         0.2  Iris-setosa\n",
       "26          5.0         3.4          1.6         0.4  Iris-setosa\n",
       "27          5.2         3.5          1.5         0.2  Iris-setosa\n",
       "28          5.2         3.4          1.4         0.2  Iris-setosa\n",
       "29          4.7         3.2          1.6         0.2  Iris-setosa\n",
       "30          4.8         3.1          1.6         0.2  Iris-setosa\n",
       "31          5.4         3.4          1.5         0.4  Iris-setosa\n",
       "32          5.2         4.1          1.5         0.1  Iris-setosa\n",
       "33          5.5         4.2          1.4         0.2  Iris-setosa\n",
       "34          4.9         3.1          1.5         0.1  Iris-setosa\n",
       "35          5.0         3.2          1.2         0.2  Iris-setosa\n",
       "36          5.5         3.5          1.3         0.2  Iris-setosa\n",
       "37          4.9         3.1          1.5         0.1  Iris-setosa\n",
       "38          4.4         3.0          1.3         0.2  Iris-setosa\n",
       "39          5.1         3.4          1.5         0.2  Iris-setosa\n",
       "40          5.0         3.5          1.3         0.3  Iris-setosa\n",
       "41          4.5         2.3          1.3         0.3  Iris-setosa\n",
       "42          4.4         3.2          1.3         0.2  Iris-setosa\n",
       "43          5.0         3.5          1.6         0.6  Iris-setosa\n",
       "44          5.1         3.8          1.9         0.4  Iris-setosa\n",
       "45          4.8         3.0          1.4         0.3  Iris-setosa\n",
       "46          5.1         3.8          1.6         0.2  Iris-setosa\n",
       "47          4.6         3.2          1.4         0.2  Iris-setosa\n",
       "48          5.3         3.7          1.5         0.2  Iris-setosa\n",
       "49          5.0         3.3          1.4         0.2  Iris-setosa"
      ]
     },
     "execution_count": 15,
     "metadata": {},
     "output_type": "execute_result"
    }
   ],
   "source": [
    "data.loc[data[\"class\"] == \"Iris-setosa\"]"
   ]
  },
  {
   "cell_type": "markdown",
   "metadata": {},
   "source": [
    "**Print columns in a different form**"
   ]
  },
  {
   "cell_type": "code",
   "execution_count": 16,
   "metadata": {},
   "outputs": [
    {
     "name": "stdout",
     "output_type": "stream",
     "text": [
      "Column Name :  sepallength\n",
      "Column Contents :  [5.1 4.9 4.7 4.6 5.  5.4 4.6 5.  4.4 4.9 5.4 4.8 4.8 4.3 5.8 5.7 5.4 5.1\n",
      " 5.7 5.1 5.4 5.1 4.6 5.1 4.8 5.  5.  5.2 5.2 4.7 4.8 5.4 5.2 5.5 4.9 5.\n",
      " 5.5 4.9 4.4 5.1 5.  4.5 4.4 5.  5.1 4.8 5.1 4.6 5.3 5.  7.  6.4 6.9 5.5\n",
      " 6.5 5.7 6.3 4.9 6.6 5.2 5.  5.9 6.  6.1 5.6 6.7 5.6 5.8 6.2 5.6 5.9 6.1\n",
      " 6.3 6.1 6.4 6.6 6.8 6.7 6.  5.7 5.5 5.5 5.8 6.  5.4 6.  6.7 6.3 5.6 5.5\n",
      " 5.5 6.1 5.8 5.  5.6 5.7 5.7 6.2 5.1 5.7 6.3 5.8 7.1 6.3 6.5 7.6 4.9 7.3\n",
      " 6.7 7.2 6.5 6.4 6.8 5.7 5.8 6.4 6.5 7.7 7.7 6.  6.9 5.6 7.7 6.3 6.7 7.2\n",
      " 6.2 6.1 6.4 7.2 7.4 7.9 6.4 6.3 6.1 7.7 6.3 6.4 6.  6.9 6.7 6.9 5.8 6.8\n",
      " 6.7 6.7 6.3 6.5 6.2 5.9]\n",
      "Column Name :  sepalwidth\n",
      "Column Contents :  [3.5 3.  3.2 3.1 3.6 3.9 3.4 3.4 2.9 3.1 3.7 3.4 3.  3.  4.  4.4 3.9 3.5\n",
      " 3.8 3.8 3.4 3.7 3.6 3.3 3.4 3.  3.4 3.5 3.4 3.2 3.1 3.4 4.1 4.2 3.1 3.2\n",
      " 3.5 3.1 3.  3.4 3.5 2.3 3.2 3.5 3.8 3.  3.8 3.2 3.7 3.3 3.2 3.2 3.1 2.3\n",
      " 2.8 2.8 3.3 2.4 2.9 2.7 2.  3.  2.2 2.9 2.9 3.1 3.  2.7 2.2 2.5 3.2 2.8\n",
      " 2.5 2.8 2.9 3.  2.8 3.  2.9 2.6 2.4 2.4 2.7 2.7 3.  3.4 3.1 2.3 3.  2.5\n",
      " 2.6 3.  2.6 2.3 2.7 3.  2.9 2.9 2.5 2.8 3.3 2.7 3.  2.9 3.  3.  2.5 2.9\n",
      " 2.5 3.6 3.2 2.7 3.  2.5 2.8 3.2 3.  3.8 2.6 2.2 3.2 2.8 2.8 2.7 3.3 3.2\n",
      " 2.8 3.  2.8 3.  2.8 3.8 2.8 2.8 2.6 3.  3.4 3.1 3.  3.1 3.1 3.1 2.7 3.2\n",
      " 3.3 3.  2.5 3.  3.4 3. ]\n",
      "Column Name :  petallength\n",
      "Column Contents :  [1.4 1.4 1.3 1.5 1.4 1.7 1.4 1.5 1.4 1.5 1.5 1.6 1.4 1.1 1.2 1.5 1.3 1.4\n",
      " 1.7 1.5 1.7 1.5 1.  1.7 1.9 1.6 1.6 1.5 1.4 1.6 1.6 1.5 1.5 1.4 1.5 1.2\n",
      " 1.3 1.5 1.3 1.5 1.3 1.3 1.3 1.6 1.9 1.4 1.6 1.4 1.5 1.4 4.7 4.5 4.9 4.\n",
      " 4.6 4.5 4.7 3.3 4.6 3.9 3.5 4.2 4.  4.7 3.6 4.4 4.5 4.1 4.5 3.9 4.8 4.\n",
      " 4.9 4.7 4.3 4.4 4.8 5.  4.5 3.5 3.8 3.7 3.9 5.1 4.5 4.5 4.7 4.4 4.1 4.\n",
      " 4.4 4.6 4.  3.3 4.2 4.2 4.2 4.3 3.  4.1 6.  5.1 5.9 5.6 5.8 6.6 4.5 6.3\n",
      " 5.8 6.1 5.1 5.3 5.5 5.  5.1 5.3 5.5 6.7 6.9 5.  5.7 4.9 6.7 4.9 5.7 6.\n",
      " 4.8 4.9 5.6 5.8 6.1 6.4 5.6 5.1 5.6 6.1 5.6 5.5 4.8 5.4 5.6 5.1 5.1 5.9\n",
      " 5.7 5.2 5.  5.2 5.4 5.1]\n",
      "Column Name :  petalwidth\n",
      "Column Contents :  [0.2 0.2 0.2 0.2 0.2 0.4 0.3 0.2 0.2 0.1 0.2 0.2 0.1 0.1 0.2 0.4 0.4 0.3\n",
      " 0.3 0.3 0.2 0.4 0.2 0.5 0.2 0.2 0.4 0.2 0.2 0.2 0.2 0.4 0.1 0.2 0.1 0.2\n",
      " 0.2 0.1 0.2 0.2 0.3 0.3 0.2 0.6 0.4 0.3 0.2 0.2 0.2 0.2 1.4 1.5 1.5 1.3\n",
      " 1.5 1.3 1.6 1.  1.3 1.4 1.  1.5 1.  1.4 1.3 1.4 1.5 1.  1.5 1.1 1.8 1.3\n",
      " 1.5 1.2 1.3 1.4 1.4 1.7 1.5 1.  1.1 1.  1.2 1.6 1.5 1.6 1.5 1.3 1.3 1.3\n",
      " 1.2 1.4 1.2 1.  1.3 1.2 1.3 1.3 1.1 1.3 2.5 1.9 2.1 1.8 2.2 2.1 1.7 1.8\n",
      " 1.8 2.5 2.  1.9 2.1 2.  2.4 2.3 1.8 2.2 2.3 1.5 2.3 2.  2.  1.8 2.1 1.8\n",
      " 1.8 1.8 2.1 1.6 1.9 2.  2.2 1.5 1.4 2.3 2.4 1.8 1.8 2.1 2.4 2.3 1.9 2.3\n",
      " 2.5 2.3 1.9 2.  2.3 1.8]\n",
      "Column Name :  class\n",
      "Column Contents :  ['Iris-setosa' 'Iris-setosa' 'Iris-setosa' 'Iris-setosa' 'Iris-setosa'\n",
      " 'Iris-setosa' 'Iris-setosa' 'Iris-setosa' 'Iris-setosa' 'Iris-setosa'\n",
      " 'Iris-setosa' 'Iris-setosa' 'Iris-setosa' 'Iris-setosa' 'Iris-setosa'\n",
      " 'Iris-setosa' 'Iris-setosa' 'Iris-setosa' 'Iris-setosa' 'Iris-setosa'\n",
      " 'Iris-setosa' 'Iris-setosa' 'Iris-setosa' 'Iris-setosa' 'Iris-setosa'\n",
      " 'Iris-setosa' 'Iris-setosa' 'Iris-setosa' 'Iris-setosa' 'Iris-setosa'\n",
      " 'Iris-setosa' 'Iris-setosa' 'Iris-setosa' 'Iris-setosa' 'Iris-setosa'\n",
      " 'Iris-setosa' 'Iris-setosa' 'Iris-setosa' 'Iris-setosa' 'Iris-setosa'\n",
      " 'Iris-setosa' 'Iris-setosa' 'Iris-setosa' 'Iris-setosa' 'Iris-setosa'\n",
      " 'Iris-setosa' 'Iris-setosa' 'Iris-setosa' 'Iris-setosa' 'Iris-setosa'\n",
      " 'Iris-versicolor' 'Iris-versicolor' 'Iris-versicolor' 'Iris-versicolor'\n",
      " 'Iris-versicolor' 'Iris-versicolor' 'Iris-versicolor' 'Iris-versicolor'\n",
      " 'Iris-versicolor' 'Iris-versicolor' 'Iris-versicolor' 'Iris-versicolor'\n",
      " 'Iris-versicolor' 'Iris-versicolor' 'Iris-versicolor' 'Iris-versicolor'\n",
      " 'Iris-versicolor' 'Iris-versicolor' 'Iris-versicolor' 'Iris-versicolor'\n",
      " 'Iris-versicolor' 'Iris-versicolor' 'Iris-versicolor' 'Iris-versicolor'\n",
      " 'Iris-versicolor' 'Iris-versicolor' 'Iris-versicolor' 'Iris-versicolor'\n",
      " 'Iris-versicolor' 'Iris-versicolor' 'Iris-versicolor' 'Iris-versicolor'\n",
      " 'Iris-versicolor' 'Iris-versicolor' 'Iris-versicolor' 'Iris-versicolor'\n",
      " 'Iris-versicolor' 'Iris-versicolor' 'Iris-versicolor' 'Iris-versicolor'\n",
      " 'Iris-versicolor' 'Iris-versicolor' 'Iris-versicolor' 'Iris-versicolor'\n",
      " 'Iris-versicolor' 'Iris-versicolor' 'Iris-versicolor' 'Iris-versicolor'\n",
      " 'Iris-versicolor' 'Iris-versicolor' 'Iris-virginica' 'Iris-virginica'\n",
      " 'Iris-virginica' 'Iris-virginica' 'Iris-virginica' 'Iris-virginica'\n",
      " 'Iris-virginica' 'Iris-virginica' 'Iris-virginica' 'Iris-virginica'\n",
      " 'Iris-virginica' 'Iris-virginica' 'Iris-virginica' 'Iris-virginica'\n",
      " 'Iris-virginica' 'Iris-virginica' 'Iris-virginica' 'Iris-virginica'\n",
      " 'Iris-virginica' 'Iris-virginica' 'Iris-virginica' 'Iris-virginica'\n",
      " 'Iris-virginica' 'Iris-virginica' 'Iris-virginica' 'Iris-virginica'\n",
      " 'Iris-virginica' 'Iris-virginica' 'Iris-virginica' 'Iris-virginica'\n",
      " 'Iris-virginica' 'Iris-virginica' 'Iris-virginica' 'Iris-virginica'\n",
      " 'Iris-virginica' 'Iris-virginica' 'Iris-virginica' 'Iris-virginica'\n",
      " 'Iris-virginica' 'Iris-virginica' 'Iris-virginica' 'Iris-virginica'\n",
      " 'Iris-virginica' 'Iris-virginica' 'Iris-virginica' 'Iris-virginica'\n",
      " 'Iris-virginica' 'Iris-virginica' 'Iris-virginica' 'Iris-virginica']\n"
     ]
    }
   ],
   "source": [
    "for (columnName, columnData) in df.iteritems():\n",
    "    print('Column Name : ', columnName)\n",
    "    print('Column Contents : ', columnData.values)"
   ]
  },
  {
   "cell_type": "markdown",
   "metadata": {},
   "source": [
    "**Print specific row**"
   ]
  },
  {
   "cell_type": "code",
   "execution_count": 125,
   "metadata": {},
   "outputs": [
    {
     "data": {
      "text/plain": [
       "sepallength               6.3\n",
       "sepalwidth                3.3\n",
       "petallength               6.0\n",
       "petalwidth                2.5\n",
       "class          Iris-virginica\n",
       "Name: 100, dtype: object"
      ]
     },
     "execution_count": 125,
     "metadata": {},
     "output_type": "execute_result"
    }
   ],
   "source": [
    "df.iloc[100]"
   ]
  },
  {
   "cell_type": "markdown",
   "metadata": {},
   "source": [
    "**Print specific cell**"
   ]
  },
  {
   "cell_type": "code",
   "execution_count": 126,
   "metadata": {},
   "outputs": [
    {
     "data": {
      "text/plain": [
       "'Iris-virginica'"
      ]
     },
     "execution_count": 126,
     "metadata": {},
     "output_type": "execute_result"
    }
   ],
   "source": [
    "df.iloc[100]['class']"
   ]
  },
  {
   "cell_type": "markdown",
   "metadata": {},
   "source": [
    "**Use index to iterate over rows**"
   ]
  },
  {
   "cell_type": "code",
   "execution_count": 17,
   "metadata": {},
   "outputs": [
    {
     "name": "stdout",
     "output_type": "stream",
     "text": [
      "0 Iris-setosa 0.2\n",
      "1 Iris-setosa 0.2\n",
      "2 Iris-setosa 0.2\n",
      "3 Iris-setosa 0.2\n",
      "4 Iris-setosa 0.2\n",
      "5 Iris-setosa 0.4\n",
      "6 Iris-setosa 0.3\n",
      "7 Iris-setosa 0.2\n",
      "8 Iris-setosa 0.2\n",
      "9 Iris-setosa 0.1\n",
      "10 Iris-setosa 0.2\n",
      "11 Iris-setosa 0.2\n",
      "12 Iris-setosa 0.1\n",
      "13 Iris-setosa 0.1\n",
      "14 Iris-setosa 0.2\n",
      "15 Iris-setosa 0.4\n",
      "16 Iris-setosa 0.4\n",
      "17 Iris-setosa 0.3\n",
      "18 Iris-setosa 0.3\n",
      "19 Iris-setosa 0.3\n",
      "20 Iris-setosa 0.2\n",
      "21 Iris-setosa 0.4\n",
      "22 Iris-setosa 0.2\n",
      "23 Iris-setosa 0.5\n",
      "24 Iris-setosa 0.2\n",
      "25 Iris-setosa 0.2\n",
      "26 Iris-setosa 0.4\n",
      "27 Iris-setosa 0.2\n",
      "28 Iris-setosa 0.2\n",
      "29 Iris-setosa 0.2\n",
      "30 Iris-setosa 0.2\n",
      "31 Iris-setosa 0.4\n",
      "32 Iris-setosa 0.1\n",
      "33 Iris-setosa 0.2\n",
      "34 Iris-setosa 0.1\n",
      "35 Iris-setosa 0.2\n",
      "36 Iris-setosa 0.2\n",
      "37 Iris-setosa 0.1\n",
      "38 Iris-setosa 0.2\n",
      "39 Iris-setosa 0.2\n",
      "40 Iris-setosa 0.3\n",
      "41 Iris-setosa 0.3\n",
      "42 Iris-setosa 0.2\n",
      "43 Iris-setosa 0.6\n",
      "44 Iris-setosa 0.4\n",
      "45 Iris-setosa 0.3\n",
      "46 Iris-setosa 0.2\n",
      "47 Iris-setosa 0.2\n",
      "48 Iris-setosa 0.2\n",
      "49 Iris-setosa 0.2\n",
      "50 Iris-versicolor 1.4\n",
      "51 Iris-versicolor 1.5\n",
      "52 Iris-versicolor 1.5\n",
      "53 Iris-versicolor 1.3\n",
      "54 Iris-versicolor 1.5\n",
      "55 Iris-versicolor 1.3\n",
      "56 Iris-versicolor 1.6\n",
      "57 Iris-versicolor 1.0\n",
      "58 Iris-versicolor 1.3\n",
      "59 Iris-versicolor 1.4\n",
      "60 Iris-versicolor 1.0\n",
      "61 Iris-versicolor 1.5\n",
      "62 Iris-versicolor 1.0\n",
      "63 Iris-versicolor 1.4\n",
      "64 Iris-versicolor 1.3\n",
      "65 Iris-versicolor 1.4\n",
      "66 Iris-versicolor 1.5\n",
      "67 Iris-versicolor 1.0\n",
      "68 Iris-versicolor 1.5\n",
      "69 Iris-versicolor 1.1\n",
      "70 Iris-versicolor 1.8\n",
      "71 Iris-versicolor 1.3\n",
      "72 Iris-versicolor 1.5\n",
      "73 Iris-versicolor 1.2\n",
      "74 Iris-versicolor 1.3\n",
      "75 Iris-versicolor 1.4\n",
      "76 Iris-versicolor 1.4\n",
      "77 Iris-versicolor 1.7\n",
      "78 Iris-versicolor 1.5\n",
      "79 Iris-versicolor 1.0\n",
      "80 Iris-versicolor 1.1\n",
      "81 Iris-versicolor 1.0\n",
      "82 Iris-versicolor 1.2\n",
      "83 Iris-versicolor 1.6\n",
      "84 Iris-versicolor 1.5\n",
      "85 Iris-versicolor 1.6\n",
      "86 Iris-versicolor 1.5\n",
      "87 Iris-versicolor 1.3\n",
      "88 Iris-versicolor 1.3\n",
      "89 Iris-versicolor 1.3\n",
      "90 Iris-versicolor 1.2\n",
      "91 Iris-versicolor 1.4\n",
      "92 Iris-versicolor 1.2\n",
      "93 Iris-versicolor 1.0\n",
      "94 Iris-versicolor 1.3\n",
      "95 Iris-versicolor 1.2\n",
      "96 Iris-versicolor 1.3\n",
      "97 Iris-versicolor 1.3\n",
      "98 Iris-versicolor 1.1\n",
      "99 Iris-versicolor 1.3\n",
      "100 Iris-virginica 2.5\n",
      "101 Iris-virginica 1.9\n",
      "102 Iris-virginica 2.1\n",
      "103 Iris-virginica 1.8\n",
      "104 Iris-virginica 2.2\n",
      "105 Iris-virginica 2.1\n",
      "106 Iris-virginica 1.7\n",
      "107 Iris-virginica 1.8\n",
      "108 Iris-virginica 1.8\n",
      "109 Iris-virginica 2.5\n",
      "110 Iris-virginica 2.0\n",
      "111 Iris-virginica 1.9\n",
      "112 Iris-virginica 2.1\n",
      "113 Iris-virginica 2.0\n",
      "114 Iris-virginica 2.4\n",
      "115 Iris-virginica 2.3\n",
      "116 Iris-virginica 1.8\n",
      "117 Iris-virginica 2.2\n",
      "118 Iris-virginica 2.3\n",
      "119 Iris-virginica 1.5\n",
      "120 Iris-virginica 2.3\n",
      "121 Iris-virginica 2.0\n",
      "122 Iris-virginica 2.0\n",
      "123 Iris-virginica 1.8\n",
      "124 Iris-virginica 2.1\n",
      "125 Iris-virginica 1.8\n",
      "126 Iris-virginica 1.8\n",
      "127 Iris-virginica 1.8\n",
      "128 Iris-virginica 2.1\n",
      "129 Iris-virginica 1.6\n",
      "130 Iris-virginica 1.9\n",
      "131 Iris-virginica 2.0\n",
      "132 Iris-virginica 2.2\n",
      "133 Iris-virginica 1.5\n",
      "134 Iris-virginica 1.4\n",
      "135 Iris-virginica 2.3\n",
      "136 Iris-virginica 2.4\n",
      "137 Iris-virginica 1.8\n",
      "138 Iris-virginica 1.8\n",
      "139 Iris-virginica 2.1\n",
      "140 Iris-virginica 2.4\n",
      "141 Iris-virginica 2.3\n",
      "142 Iris-virginica 1.9\n",
      "143 Iris-virginica 2.3\n",
      "144 Iris-virginica 2.5\n",
      "145 Iris-virginica 2.3\n",
      "146 Iris-virginica 1.9\n",
      "147 Iris-virginica 2.0\n",
      "148 Iris-virginica 2.3\n",
      "149 Iris-virginica 1.8\n"
     ]
    }
   ],
   "source": [
    "for ind in df.index:\n",
    "    print(ind, df['class'][ind], df['petalwidth'][ind])"
   ]
  },
  {
   "cell_type": "code",
   "execution_count": 18,
   "metadata": {},
   "outputs": [
    {
     "name": "stdout",
     "output_type": "stream",
     "text": [
      "0 Iris-setosa 0.2\n",
      "1 Iris-setosa 0.2\n",
      "2 Iris-setosa 0.2\n",
      "3 Iris-setosa 0.2\n",
      "4 Iris-setosa 0.2\n",
      "5 Iris-setosa 0.4\n",
      "6 Iris-setosa 0.3\n",
      "7 Iris-setosa 0.2\n",
      "8 Iris-setosa 0.2\n",
      "9 Iris-setosa 0.1\n",
      "10 Iris-setosa 0.2\n",
      "11 Iris-setosa 0.2\n",
      "12 Iris-setosa 0.1\n",
      "13 Iris-setosa 0.1\n",
      "14 Iris-setosa 0.2\n",
      "15 Iris-setosa 0.4\n",
      "16 Iris-setosa 0.4\n",
      "17 Iris-setosa 0.3\n",
      "18 Iris-setosa 0.3\n",
      "19 Iris-setosa 0.3\n",
      "20 Iris-setosa 0.2\n",
      "21 Iris-setosa 0.4\n",
      "22 Iris-setosa 0.2\n",
      "23 Iris-setosa 0.5\n",
      "24 Iris-setosa 0.2\n",
      "25 Iris-setosa 0.2\n",
      "26 Iris-setosa 0.4\n",
      "27 Iris-setosa 0.2\n",
      "28 Iris-setosa 0.2\n",
      "29 Iris-setosa 0.2\n",
      "30 Iris-setosa 0.2\n",
      "31 Iris-setosa 0.4\n",
      "32 Iris-setosa 0.1\n",
      "33 Iris-setosa 0.2\n",
      "34 Iris-setosa 0.1\n",
      "35 Iris-setosa 0.2\n",
      "36 Iris-setosa 0.2\n",
      "37 Iris-setosa 0.1\n",
      "38 Iris-setosa 0.2\n",
      "39 Iris-setosa 0.2\n",
      "40 Iris-setosa 0.3\n",
      "41 Iris-setosa 0.3\n",
      "42 Iris-setosa 0.2\n",
      "43 Iris-setosa 0.6\n",
      "44 Iris-setosa 0.4\n",
      "45 Iris-setosa 0.3\n",
      "46 Iris-setosa 0.2\n",
      "47 Iris-setosa 0.2\n",
      "48 Iris-setosa 0.2\n",
      "49 Iris-setosa 0.2\n",
      "50 Iris-versicolor 1.4\n",
      "51 Iris-versicolor 1.5\n",
      "52 Iris-versicolor 1.5\n",
      "53 Iris-versicolor 1.3\n",
      "54 Iris-versicolor 1.5\n",
      "55 Iris-versicolor 1.3\n",
      "56 Iris-versicolor 1.6\n",
      "57 Iris-versicolor 1.0\n",
      "58 Iris-versicolor 1.3\n",
      "59 Iris-versicolor 1.4\n",
      "60 Iris-versicolor 1.0\n",
      "61 Iris-versicolor 1.5\n",
      "62 Iris-versicolor 1.0\n",
      "63 Iris-versicolor 1.4\n",
      "64 Iris-versicolor 1.3\n",
      "65 Iris-versicolor 1.4\n",
      "66 Iris-versicolor 1.5\n",
      "67 Iris-versicolor 1.0\n",
      "68 Iris-versicolor 1.5\n",
      "69 Iris-versicolor 1.1\n",
      "70 Iris-versicolor 1.8\n",
      "71 Iris-versicolor 1.3\n",
      "72 Iris-versicolor 1.5\n",
      "73 Iris-versicolor 1.2\n",
      "74 Iris-versicolor 1.3\n",
      "75 Iris-versicolor 1.4\n",
      "76 Iris-versicolor 1.4\n",
      "77 Iris-versicolor 1.7\n",
      "78 Iris-versicolor 1.5\n",
      "79 Iris-versicolor 1.0\n",
      "80 Iris-versicolor 1.1\n",
      "81 Iris-versicolor 1.0\n",
      "82 Iris-versicolor 1.2\n",
      "83 Iris-versicolor 1.6\n",
      "84 Iris-versicolor 1.5\n",
      "85 Iris-versicolor 1.6\n",
      "86 Iris-versicolor 1.5\n",
      "87 Iris-versicolor 1.3\n",
      "88 Iris-versicolor 1.3\n",
      "89 Iris-versicolor 1.3\n",
      "90 Iris-versicolor 1.2\n",
      "91 Iris-versicolor 1.4\n",
      "92 Iris-versicolor 1.2\n",
      "93 Iris-versicolor 1.0\n",
      "94 Iris-versicolor 1.3\n",
      "95 Iris-versicolor 1.2\n",
      "96 Iris-versicolor 1.3\n",
      "97 Iris-versicolor 1.3\n",
      "98 Iris-versicolor 1.1\n",
      "99 Iris-versicolor 1.3\n",
      "100 Iris-virginica 2.5\n",
      "101 Iris-virginica 1.9\n",
      "102 Iris-virginica 2.1\n",
      "103 Iris-virginica 1.8\n",
      "104 Iris-virginica 2.2\n",
      "105 Iris-virginica 2.1\n",
      "106 Iris-virginica 1.7\n",
      "107 Iris-virginica 1.8\n",
      "108 Iris-virginica 1.8\n",
      "109 Iris-virginica 2.5\n",
      "110 Iris-virginica 2.0\n",
      "111 Iris-virginica 1.9\n",
      "112 Iris-virginica 2.1\n",
      "113 Iris-virginica 2.0\n",
      "114 Iris-virginica 2.4\n",
      "115 Iris-virginica 2.3\n",
      "116 Iris-virginica 1.8\n",
      "117 Iris-virginica 2.2\n",
      "118 Iris-virginica 2.3\n",
      "119 Iris-virginica 1.5\n",
      "120 Iris-virginica 2.3\n",
      "121 Iris-virginica 2.0\n",
      "122 Iris-virginica 2.0\n",
      "123 Iris-virginica 1.8\n",
      "124 Iris-virginica 2.1\n",
      "125 Iris-virginica 1.8\n",
      "126 Iris-virginica 1.8\n",
      "127 Iris-virginica 1.8\n",
      "128 Iris-virginica 2.1\n",
      "129 Iris-virginica 1.6\n",
      "130 Iris-virginica 1.9\n",
      "131 Iris-virginica 2.0\n",
      "132 Iris-virginica 2.2\n",
      "133 Iris-virginica 1.5\n",
      "134 Iris-virginica 1.4\n",
      "135 Iris-virginica 2.3\n",
      "136 Iris-virginica 2.4\n",
      "137 Iris-virginica 1.8\n",
      "138 Iris-virginica 1.8\n",
      "139 Iris-virginica 2.1\n",
      "140 Iris-virginica 2.4\n",
      "141 Iris-virginica 2.3\n",
      "142 Iris-virginica 1.9\n",
      "143 Iris-virginica 2.3\n",
      "144 Iris-virginica 2.5\n",
      "145 Iris-virginica 2.3\n",
      "146 Iris-virginica 1.9\n",
      "147 Iris-virginica 2.0\n",
      "148 Iris-virginica 2.3\n",
      "149 Iris-virginica 1.8\n"
     ]
    }
   ],
   "source": [
    "for i in range(len(df)):\n",
    "    print(i, df.iloc[i]['class'], df.iloc[i]['petalwidth'])"
   ]
  },
  {
   "cell_type": "code",
   "execution_count": 19,
   "metadata": {},
   "outputs": [
    {
     "name": "stdout",
     "output_type": "stream",
     "text": [
      "0 Iris-setosa 0.2\n",
      "1 Iris-setosa 0.2\n",
      "2 Iris-setosa 0.2\n",
      "3 Iris-setosa 0.2\n",
      "4 Iris-setosa 0.2\n",
      "5 Iris-setosa 0.4\n",
      "6 Iris-setosa 0.3\n",
      "7 Iris-setosa 0.2\n",
      "8 Iris-setosa 0.2\n",
      "9 Iris-setosa 0.1\n",
      "10 Iris-setosa 0.2\n",
      "11 Iris-setosa 0.2\n",
      "12 Iris-setosa 0.1\n",
      "13 Iris-setosa 0.1\n",
      "14 Iris-setosa 0.2\n",
      "15 Iris-setosa 0.4\n",
      "16 Iris-setosa 0.4\n",
      "17 Iris-setosa 0.3\n",
      "18 Iris-setosa 0.3\n",
      "19 Iris-setosa 0.3\n",
      "20 Iris-setosa 0.2\n",
      "21 Iris-setosa 0.4\n",
      "22 Iris-setosa 0.2\n",
      "23 Iris-setosa 0.5\n",
      "24 Iris-setosa 0.2\n",
      "25 Iris-setosa 0.2\n",
      "26 Iris-setosa 0.4\n",
      "27 Iris-setosa 0.2\n",
      "28 Iris-setosa 0.2\n",
      "29 Iris-setosa 0.2\n",
      "30 Iris-setosa 0.2\n",
      "31 Iris-setosa 0.4\n",
      "32 Iris-setosa 0.1\n",
      "33 Iris-setosa 0.2\n",
      "34 Iris-setosa 0.1\n",
      "35 Iris-setosa 0.2\n",
      "36 Iris-setosa 0.2\n",
      "37 Iris-setosa 0.1\n",
      "38 Iris-setosa 0.2\n",
      "39 Iris-setosa 0.2\n",
      "40 Iris-setosa 0.3\n",
      "41 Iris-setosa 0.3\n",
      "42 Iris-setosa 0.2\n",
      "43 Iris-setosa 0.6\n",
      "44 Iris-setosa 0.4\n",
      "45 Iris-setosa 0.3\n",
      "46 Iris-setosa 0.2\n",
      "47 Iris-setosa 0.2\n",
      "48 Iris-setosa 0.2\n",
      "49 Iris-setosa 0.2\n",
      "50 Iris-versicolor 1.4\n",
      "51 Iris-versicolor 1.5\n",
      "52 Iris-versicolor 1.5\n",
      "53 Iris-versicolor 1.3\n",
      "54 Iris-versicolor 1.5\n",
      "55 Iris-versicolor 1.3\n",
      "56 Iris-versicolor 1.6\n",
      "57 Iris-versicolor 1.0\n",
      "58 Iris-versicolor 1.3\n",
      "59 Iris-versicolor 1.4\n",
      "60 Iris-versicolor 1.0\n",
      "61 Iris-versicolor 1.5\n",
      "62 Iris-versicolor 1.0\n",
      "63 Iris-versicolor 1.4\n",
      "64 Iris-versicolor 1.3\n",
      "65 Iris-versicolor 1.4\n",
      "66 Iris-versicolor 1.5\n",
      "67 Iris-versicolor 1.0\n",
      "68 Iris-versicolor 1.5\n",
      "69 Iris-versicolor 1.1\n",
      "70 Iris-versicolor 1.8\n",
      "71 Iris-versicolor 1.3\n",
      "72 Iris-versicolor 1.5\n",
      "73 Iris-versicolor 1.2\n",
      "74 Iris-versicolor 1.3\n",
      "75 Iris-versicolor 1.4\n",
      "76 Iris-versicolor 1.4\n",
      "77 Iris-versicolor 1.7\n",
      "78 Iris-versicolor 1.5\n",
      "79 Iris-versicolor 1.0\n",
      "80 Iris-versicolor 1.1\n",
      "81 Iris-versicolor 1.0\n",
      "82 Iris-versicolor 1.2\n",
      "83 Iris-versicolor 1.6\n",
      "84 Iris-versicolor 1.5\n",
      "85 Iris-versicolor 1.6\n",
      "86 Iris-versicolor 1.5\n",
      "87 Iris-versicolor 1.3\n",
      "88 Iris-versicolor 1.3\n",
      "89 Iris-versicolor 1.3\n",
      "90 Iris-versicolor 1.2\n",
      "91 Iris-versicolor 1.4\n",
      "92 Iris-versicolor 1.2\n",
      "93 Iris-versicolor 1.0\n",
      "94 Iris-versicolor 1.3\n",
      "95 Iris-versicolor 1.2\n",
      "96 Iris-versicolor 1.3\n",
      "97 Iris-versicolor 1.3\n",
      "98 Iris-versicolor 1.1\n",
      "99 Iris-versicolor 1.3\n",
      "100 Iris-virginica 2.5\n",
      "101 Iris-virginica 1.9\n",
      "102 Iris-virginica 2.1\n",
      "103 Iris-virginica 1.8\n",
      "104 Iris-virginica 2.2\n",
      "105 Iris-virginica 2.1\n",
      "106 Iris-virginica 1.7\n",
      "107 Iris-virginica 1.8\n",
      "108 Iris-virginica 1.8\n",
      "109 Iris-virginica 2.5\n",
      "110 Iris-virginica 2.0\n",
      "111 Iris-virginica 1.9\n",
      "112 Iris-virginica 2.1\n",
      "113 Iris-virginica 2.0\n",
      "114 Iris-virginica 2.4\n",
      "115 Iris-virginica 2.3\n",
      "116 Iris-virginica 1.8\n",
      "117 Iris-virginica 2.2\n",
      "118 Iris-virginica 2.3\n",
      "119 Iris-virginica 1.5\n",
      "120 Iris-virginica 2.3\n",
      "121 Iris-virginica 2.0\n",
      "122 Iris-virginica 2.0\n",
      "123 Iris-virginica 1.8\n",
      "124 Iris-virginica 2.1\n",
      "125 Iris-virginica 1.8\n",
      "126 Iris-virginica 1.8\n",
      "127 Iris-virginica 1.8\n",
      "128 Iris-virginica 2.1\n",
      "129 Iris-virginica 1.6\n",
      "130 Iris-virginica 1.9\n",
      "131 Iris-virginica 2.0\n",
      "132 Iris-virginica 2.2\n",
      "133 Iris-virginica 1.5\n",
      "134 Iris-virginica 1.4\n",
      "135 Iris-virginica 2.3\n",
      "136 Iris-virginica 2.4\n",
      "137 Iris-virginica 1.8\n",
      "138 Iris-virginica 1.8\n",
      "139 Iris-virginica 2.1\n",
      "140 Iris-virginica 2.4\n",
      "141 Iris-virginica 2.3\n",
      "142 Iris-virginica 1.9\n",
      "143 Iris-virginica 2.3\n",
      "144 Iris-virginica 2.5\n",
      "145 Iris-virginica 2.3\n",
      "146 Iris-virginica 1.9\n",
      "147 Iris-virginica 2.0\n",
      "148 Iris-virginica 2.3\n",
      "149 Iris-virginica 1.8\n"
     ]
    }
   ],
   "source": [
    "for i in range(len(df)):\n",
    "    print(i, df.iloc[i,4], df.iloc[i,3])"
   ]
  },
  {
   "cell_type": "markdown",
   "metadata": {},
   "source": [
    "**Count different values of specific column**"
   ]
  },
  {
   "cell_type": "code",
   "execution_count": 21,
   "metadata": {
    "scrolled": true
   },
   "outputs": [
    {
     "data": {
      "text/plain": [
       "Iris-setosa        50\n",
       "Iris-versicolor    50\n",
       "Iris-virginica     50\n",
       "Name: class, dtype: int64"
      ]
     },
     "execution_count": 21,
     "metadata": {},
     "output_type": "execute_result"
    }
   ],
   "source": [
    "df[\"class\"].value_counts()"
   ]
  },
  {
   "cell_type": "markdown",
   "metadata": {},
   "source": [
    "**Summation of a column**"
   ]
  },
  {
   "cell_type": "code",
   "execution_count": 22,
   "metadata": {},
   "outputs": [
    {
     "data": {
      "text/plain": [
       "179.8"
      ]
     },
     "execution_count": 22,
     "metadata": {},
     "output_type": "execute_result"
    }
   ],
   "source": [
    "sum_PW=df[\"petalwidth\"].sum()\n",
    "sum_PW"
   ]
  },
  {
   "cell_type": "markdown",
   "metadata": {},
   "source": [
    "**Mean value**"
   ]
  },
  {
   "cell_type": "code",
   "execution_count": 132,
   "metadata": {},
   "outputs": [
    {
     "data": {
      "text/plain": [
       "1.1986666666666672"
      ]
     },
     "execution_count": 132,
     "metadata": {},
     "output_type": "execute_result"
    }
   ],
   "source": [
    "mean_PW=df[\"petalwidth\"].mean()\n",
    "mean_PW"
   ]
  },
  {
   "cell_type": "markdown",
   "metadata": {},
   "source": [
    "**Median value**"
   ]
  },
  {
   "cell_type": "code",
   "execution_count": 133,
   "metadata": {},
   "outputs": [
    {
     "data": {
      "text/plain": [
       "1.3"
      ]
     },
     "execution_count": 133,
     "metadata": {},
     "output_type": "execute_result"
    }
   ],
   "source": [
    "median_PW=df[\"petalwidth\"].median()\n",
    "median_PW"
   ]
  },
  {
   "cell_type": "markdown",
   "metadata": {},
   "source": [
    "**Minimum value**"
   ]
  },
  {
   "cell_type": "code",
   "execution_count": 134,
   "metadata": {},
   "outputs": [
    {
     "data": {
      "text/plain": [
       "0.1"
      ]
     },
     "execution_count": 134,
     "metadata": {},
     "output_type": "execute_result"
    }
   ],
   "source": [
    "min_PW=df[\"petalwidth\"].min()\n",
    "min_PW"
   ]
  },
  {
   "cell_type": "markdown",
   "metadata": {},
   "source": [
    "**Maximum value**"
   ]
  },
  {
   "cell_type": "code",
   "execution_count": 23,
   "metadata": {},
   "outputs": [
    {
     "data": {
      "text/plain": [
       "2.5"
      ]
     },
     "execution_count": 23,
     "metadata": {},
     "output_type": "execute_result"
    }
   ],
   "source": [
    "max_PW=df[\"petalwidth\"].max()\n",
    "max_PW"
   ]
  },
  {
   "cell_type": "markdown",
   "metadata": {},
   "source": [
    "**Create another dataframe from the existing one**"
   ]
  },
  {
   "cell_type": "code",
   "execution_count": 25,
   "metadata": {},
   "outputs": [
    {
     "name": "stdout",
     "output_type": "stream",
     "text": [
      "Index(['sepallength', 'sepalwidth', 'petallength', 'petalwidth'], dtype='object')\n"
     ]
    }
   ],
   "source": [
    "cols = df.columns[0:4]\n",
    "print(cols)"
   ]
  },
  {
   "cell_type": "code",
   "execution_count": 26,
   "metadata": {},
   "outputs": [],
   "source": [
    "df1=df[cols]"
   ]
  },
  {
   "cell_type": "code",
   "execution_count": 28,
   "metadata": {},
   "outputs": [],
   "source": [
    "df[\"total_values\"]=df1[cols].sum(axis=1)"
   ]
  },
  {
   "cell_type": "markdown",
   "metadata": {},
   "source": [
    "**axis=1 means you are working in rows** <br> \n",
    "**axis=0 means you are working in columns**"
   ]
  },
  {
   "cell_type": "code",
   "execution_count": 29,
   "metadata": {
    "scrolled": true
   },
   "outputs": [
    {
     "data": {
      "text/html": [
       "<div>\n",
       "<style scoped>\n",
       "    .dataframe tbody tr th:only-of-type {\n",
       "        vertical-align: middle;\n",
       "    }\n",
       "\n",
       "    .dataframe tbody tr th {\n",
       "        vertical-align: top;\n",
       "    }\n",
       "\n",
       "    .dataframe thead th {\n",
       "        text-align: right;\n",
       "    }\n",
       "</style>\n",
       "<table border=\"1\" class=\"dataframe\">\n",
       "  <thead>\n",
       "    <tr style=\"text-align: right;\">\n",
       "      <th></th>\n",
       "      <th>sepallength</th>\n",
       "      <th>sepalwidth</th>\n",
       "      <th>petallength</th>\n",
       "      <th>petalwidth</th>\n",
       "      <th>class</th>\n",
       "      <th>total_values</th>\n",
       "    </tr>\n",
       "  </thead>\n",
       "  <tbody>\n",
       "    <tr>\n",
       "      <th>0</th>\n",
       "      <td>5.1</td>\n",
       "      <td>3.5</td>\n",
       "      <td>1.4</td>\n",
       "      <td>0.2</td>\n",
       "      <td>Iris-setosa</td>\n",
       "      <td>10.2</td>\n",
       "    </tr>\n",
       "    <tr>\n",
       "      <th>1</th>\n",
       "      <td>4.9</td>\n",
       "      <td>3.0</td>\n",
       "      <td>1.4</td>\n",
       "      <td>0.2</td>\n",
       "      <td>Iris-setosa</td>\n",
       "      <td>9.5</td>\n",
       "    </tr>\n",
       "    <tr>\n",
       "      <th>2</th>\n",
       "      <td>4.7</td>\n",
       "      <td>3.2</td>\n",
       "      <td>1.3</td>\n",
       "      <td>0.2</td>\n",
       "      <td>Iris-setosa</td>\n",
       "      <td>9.4</td>\n",
       "    </tr>\n",
       "    <tr>\n",
       "      <th>3</th>\n",
       "      <td>4.6</td>\n",
       "      <td>3.1</td>\n",
       "      <td>1.5</td>\n",
       "      <td>0.2</td>\n",
       "      <td>Iris-setosa</td>\n",
       "      <td>9.4</td>\n",
       "    </tr>\n",
       "    <tr>\n",
       "      <th>4</th>\n",
       "      <td>5.0</td>\n",
       "      <td>3.6</td>\n",
       "      <td>1.4</td>\n",
       "      <td>0.2</td>\n",
       "      <td>Iris-setosa</td>\n",
       "      <td>10.2</td>\n",
       "    </tr>\n",
       "    <tr>\n",
       "      <th>...</th>\n",
       "      <td>...</td>\n",
       "      <td>...</td>\n",
       "      <td>...</td>\n",
       "      <td>...</td>\n",
       "      <td>...</td>\n",
       "      <td>...</td>\n",
       "    </tr>\n",
       "    <tr>\n",
       "      <th>145</th>\n",
       "      <td>6.7</td>\n",
       "      <td>3.0</td>\n",
       "      <td>5.2</td>\n",
       "      <td>2.3</td>\n",
       "      <td>Iris-virginica</td>\n",
       "      <td>17.2</td>\n",
       "    </tr>\n",
       "    <tr>\n",
       "      <th>146</th>\n",
       "      <td>6.3</td>\n",
       "      <td>2.5</td>\n",
       "      <td>5.0</td>\n",
       "      <td>1.9</td>\n",
       "      <td>Iris-virginica</td>\n",
       "      <td>15.7</td>\n",
       "    </tr>\n",
       "    <tr>\n",
       "      <th>147</th>\n",
       "      <td>6.5</td>\n",
       "      <td>3.0</td>\n",
       "      <td>5.2</td>\n",
       "      <td>2.0</td>\n",
       "      <td>Iris-virginica</td>\n",
       "      <td>16.7</td>\n",
       "    </tr>\n",
       "    <tr>\n",
       "      <th>148</th>\n",
       "      <td>6.2</td>\n",
       "      <td>3.4</td>\n",
       "      <td>5.4</td>\n",
       "      <td>2.3</td>\n",
       "      <td>Iris-virginica</td>\n",
       "      <td>17.3</td>\n",
       "    </tr>\n",
       "    <tr>\n",
       "      <th>149</th>\n",
       "      <td>5.9</td>\n",
       "      <td>3.0</td>\n",
       "      <td>5.1</td>\n",
       "      <td>1.8</td>\n",
       "      <td>Iris-virginica</td>\n",
       "      <td>15.8</td>\n",
       "    </tr>\n",
       "  </tbody>\n",
       "</table>\n",
       "<p>150 rows × 6 columns</p>\n",
       "</div>"
      ],
      "text/plain": [
       "     sepallength  sepalwidth  petallength  petalwidth           class  \\\n",
       "0            5.1         3.5          1.4         0.2     Iris-setosa   \n",
       "1            4.9         3.0          1.4         0.2     Iris-setosa   \n",
       "2            4.7         3.2          1.3         0.2     Iris-setosa   \n",
       "3            4.6         3.1          1.5         0.2     Iris-setosa   \n",
       "4            5.0         3.6          1.4         0.2     Iris-setosa   \n",
       "..           ...         ...          ...         ...             ...   \n",
       "145          6.7         3.0          5.2         2.3  Iris-virginica   \n",
       "146          6.3         2.5          5.0         1.9  Iris-virginica   \n",
       "147          6.5         3.0          5.2         2.0  Iris-virginica   \n",
       "148          6.2         3.4          5.4         2.3  Iris-virginica   \n",
       "149          5.9         3.0          5.1         1.8  Iris-virginica   \n",
       "\n",
       "     total_values  \n",
       "0            10.2  \n",
       "1             9.5  \n",
       "2             9.4  \n",
       "3             9.4  \n",
       "4            10.2  \n",
       "..            ...  \n",
       "145          17.2  \n",
       "146          15.7  \n",
       "147          16.7  \n",
       "148          17.3  \n",
       "149          15.8  \n",
       "\n",
       "[150 rows x 6 columns]"
      ]
     },
     "execution_count": 29,
     "metadata": {},
     "output_type": "execute_result"
    }
   ],
   "source": [
    "df"
   ]
  },
  {
   "cell_type": "markdown",
   "metadata": {},
   "source": [
    "**Add two columns**"
   ]
  },
  {
   "cell_type": "code",
   "execution_count": 30,
   "metadata": {},
   "outputs": [
    {
     "data": {
      "text/plain": [
       "0       6.5\n",
       "1       6.3\n",
       "2       6.0\n",
       "3       6.1\n",
       "4       6.4\n",
       "       ... \n",
       "145    11.9\n",
       "146    11.3\n",
       "147    11.7\n",
       "148    11.6\n",
       "149    11.0\n",
       "Length: 150, dtype: float64"
      ]
     },
     "execution_count": 30,
     "metadata": {},
     "output_type": "execute_result"
    }
   ],
   "source": [
    "sum_col=df['sepallength']+df['petallength']\n",
    "sum_col"
   ]
  },
  {
   "cell_type": "code",
   "execution_count": 31,
   "metadata": {
    "scrolled": true
   },
   "outputs": [
    {
     "data": {
      "text/html": [
       "<style type=\"text/css\">\n",
       "#T_91e50_row0_col4, #T_91e50_row1_col4, #T_91e50_row2_col4, #T_91e50_row3_col4, #T_91e50_row4_col4, #T_91e50_row5_col0, #T_91e50_row5_col1, #T_91e50_row5_col2, #T_91e50_row5_col3, #T_91e50_row5_col4, #T_91e50_row5_col5, #T_91e50_row6_col4, #T_91e50_row7_col4, #T_91e50_row8_col4, #T_91e50_row9_col4 {\n",
       "  background-color: lightgreen;\n",
       "}\n",
       "</style>\n",
       "<table id=\"T_91e50_\">\n",
       "  <thead>\n",
       "    <tr>\n",
       "      <th class=\"blank level0\" >&nbsp;</th>\n",
       "      <th class=\"col_heading level0 col0\" >sepallength</th>\n",
       "      <th class=\"col_heading level0 col1\" >sepalwidth</th>\n",
       "      <th class=\"col_heading level0 col2\" >petallength</th>\n",
       "      <th class=\"col_heading level0 col3\" >petalwidth</th>\n",
       "      <th class=\"col_heading level0 col4\" >class</th>\n",
       "      <th class=\"col_heading level0 col5\" >total_values</th>\n",
       "    </tr>\n",
       "  </thead>\n",
       "  <tbody>\n",
       "    <tr>\n",
       "      <th id=\"T_91e50_level0_row0\" class=\"row_heading level0 row0\" >0</th>\n",
       "      <td id=\"T_91e50_row0_col0\" class=\"data row0 col0\" >5.100000</td>\n",
       "      <td id=\"T_91e50_row0_col1\" class=\"data row0 col1\" >3.500000</td>\n",
       "      <td id=\"T_91e50_row0_col2\" class=\"data row0 col2\" >1.400000</td>\n",
       "      <td id=\"T_91e50_row0_col3\" class=\"data row0 col3\" >0.200000</td>\n",
       "      <td id=\"T_91e50_row0_col4\" class=\"data row0 col4\" >Iris-setosa</td>\n",
       "      <td id=\"T_91e50_row0_col5\" class=\"data row0 col5\" >10.200000</td>\n",
       "    </tr>\n",
       "    <tr>\n",
       "      <th id=\"T_91e50_level0_row1\" class=\"row_heading level0 row1\" >1</th>\n",
       "      <td id=\"T_91e50_row1_col0\" class=\"data row1 col0\" >4.900000</td>\n",
       "      <td id=\"T_91e50_row1_col1\" class=\"data row1 col1\" >3.000000</td>\n",
       "      <td id=\"T_91e50_row1_col2\" class=\"data row1 col2\" >1.400000</td>\n",
       "      <td id=\"T_91e50_row1_col3\" class=\"data row1 col3\" >0.200000</td>\n",
       "      <td id=\"T_91e50_row1_col4\" class=\"data row1 col4\" >Iris-setosa</td>\n",
       "      <td id=\"T_91e50_row1_col5\" class=\"data row1 col5\" >9.500000</td>\n",
       "    </tr>\n",
       "    <tr>\n",
       "      <th id=\"T_91e50_level0_row2\" class=\"row_heading level0 row2\" >2</th>\n",
       "      <td id=\"T_91e50_row2_col0\" class=\"data row2 col0\" >4.700000</td>\n",
       "      <td id=\"T_91e50_row2_col1\" class=\"data row2 col1\" >3.200000</td>\n",
       "      <td id=\"T_91e50_row2_col2\" class=\"data row2 col2\" >1.300000</td>\n",
       "      <td id=\"T_91e50_row2_col3\" class=\"data row2 col3\" >0.200000</td>\n",
       "      <td id=\"T_91e50_row2_col4\" class=\"data row2 col4\" >Iris-setosa</td>\n",
       "      <td id=\"T_91e50_row2_col5\" class=\"data row2 col5\" >9.400000</td>\n",
       "    </tr>\n",
       "    <tr>\n",
       "      <th id=\"T_91e50_level0_row3\" class=\"row_heading level0 row3\" >3</th>\n",
       "      <td id=\"T_91e50_row3_col0\" class=\"data row3 col0\" >4.600000</td>\n",
       "      <td id=\"T_91e50_row3_col1\" class=\"data row3 col1\" >3.100000</td>\n",
       "      <td id=\"T_91e50_row3_col2\" class=\"data row3 col2\" >1.500000</td>\n",
       "      <td id=\"T_91e50_row3_col3\" class=\"data row3 col3\" >0.200000</td>\n",
       "      <td id=\"T_91e50_row3_col4\" class=\"data row3 col4\" >Iris-setosa</td>\n",
       "      <td id=\"T_91e50_row3_col5\" class=\"data row3 col5\" >9.400000</td>\n",
       "    </tr>\n",
       "    <tr>\n",
       "      <th id=\"T_91e50_level0_row4\" class=\"row_heading level0 row4\" >4</th>\n",
       "      <td id=\"T_91e50_row4_col0\" class=\"data row4 col0\" >5.000000</td>\n",
       "      <td id=\"T_91e50_row4_col1\" class=\"data row4 col1\" >3.600000</td>\n",
       "      <td id=\"T_91e50_row4_col2\" class=\"data row4 col2\" >1.400000</td>\n",
       "      <td id=\"T_91e50_row4_col3\" class=\"data row4 col3\" >0.200000</td>\n",
       "      <td id=\"T_91e50_row4_col4\" class=\"data row4 col4\" >Iris-setosa</td>\n",
       "      <td id=\"T_91e50_row4_col5\" class=\"data row4 col5\" >10.200000</td>\n",
       "    </tr>\n",
       "    <tr>\n",
       "      <th id=\"T_91e50_level0_row5\" class=\"row_heading level0 row5\" >5</th>\n",
       "      <td id=\"T_91e50_row5_col0\" class=\"data row5 col0\" >5.400000</td>\n",
       "      <td id=\"T_91e50_row5_col1\" class=\"data row5 col1\" >3.900000</td>\n",
       "      <td id=\"T_91e50_row5_col2\" class=\"data row5 col2\" >1.700000</td>\n",
       "      <td id=\"T_91e50_row5_col3\" class=\"data row5 col3\" >0.400000</td>\n",
       "      <td id=\"T_91e50_row5_col4\" class=\"data row5 col4\" >Iris-setosa</td>\n",
       "      <td id=\"T_91e50_row5_col5\" class=\"data row5 col5\" >11.400000</td>\n",
       "    </tr>\n",
       "    <tr>\n",
       "      <th id=\"T_91e50_level0_row6\" class=\"row_heading level0 row6\" >6</th>\n",
       "      <td id=\"T_91e50_row6_col0\" class=\"data row6 col0\" >4.600000</td>\n",
       "      <td id=\"T_91e50_row6_col1\" class=\"data row6 col1\" >3.400000</td>\n",
       "      <td id=\"T_91e50_row6_col2\" class=\"data row6 col2\" >1.400000</td>\n",
       "      <td id=\"T_91e50_row6_col3\" class=\"data row6 col3\" >0.300000</td>\n",
       "      <td id=\"T_91e50_row6_col4\" class=\"data row6 col4\" >Iris-setosa</td>\n",
       "      <td id=\"T_91e50_row6_col5\" class=\"data row6 col5\" >9.700000</td>\n",
       "    </tr>\n",
       "    <tr>\n",
       "      <th id=\"T_91e50_level0_row7\" class=\"row_heading level0 row7\" >7</th>\n",
       "      <td id=\"T_91e50_row7_col0\" class=\"data row7 col0\" >5.000000</td>\n",
       "      <td id=\"T_91e50_row7_col1\" class=\"data row7 col1\" >3.400000</td>\n",
       "      <td id=\"T_91e50_row7_col2\" class=\"data row7 col2\" >1.500000</td>\n",
       "      <td id=\"T_91e50_row7_col3\" class=\"data row7 col3\" >0.200000</td>\n",
       "      <td id=\"T_91e50_row7_col4\" class=\"data row7 col4\" >Iris-setosa</td>\n",
       "      <td id=\"T_91e50_row7_col5\" class=\"data row7 col5\" >10.100000</td>\n",
       "    </tr>\n",
       "    <tr>\n",
       "      <th id=\"T_91e50_level0_row8\" class=\"row_heading level0 row8\" >8</th>\n",
       "      <td id=\"T_91e50_row8_col0\" class=\"data row8 col0\" >4.400000</td>\n",
       "      <td id=\"T_91e50_row8_col1\" class=\"data row8 col1\" >2.900000</td>\n",
       "      <td id=\"T_91e50_row8_col2\" class=\"data row8 col2\" >1.400000</td>\n",
       "      <td id=\"T_91e50_row8_col3\" class=\"data row8 col3\" >0.200000</td>\n",
       "      <td id=\"T_91e50_row8_col4\" class=\"data row8 col4\" >Iris-setosa</td>\n",
       "      <td id=\"T_91e50_row8_col5\" class=\"data row8 col5\" >8.900000</td>\n",
       "    </tr>\n",
       "    <tr>\n",
       "      <th id=\"T_91e50_level0_row9\" class=\"row_heading level0 row9\" >9</th>\n",
       "      <td id=\"T_91e50_row9_col0\" class=\"data row9 col0\" >4.900000</td>\n",
       "      <td id=\"T_91e50_row9_col1\" class=\"data row9 col1\" >3.100000</td>\n",
       "      <td id=\"T_91e50_row9_col2\" class=\"data row9 col2\" >1.500000</td>\n",
       "      <td id=\"T_91e50_row9_col3\" class=\"data row9 col3\" >0.100000</td>\n",
       "      <td id=\"T_91e50_row9_col4\" class=\"data row9 col4\" >Iris-setosa</td>\n",
       "      <td id=\"T_91e50_row9_col5\" class=\"data row9 col5\" >9.600000</td>\n",
       "    </tr>\n",
       "  </tbody>\n",
       "</table>\n"
      ],
      "text/plain": [
       "<pandas.io.formats.style.Styler at 0x7f8a4ca50b10>"
      ]
     },
     "execution_count": 31,
     "metadata": {},
     "output_type": "execute_result"
    }
   ],
   "source": [
    "df.head(10).style.highlight_max(color='lightgreen', axis=0)"
   ]
  },
  {
   "cell_type": "markdown",
   "metadata": {},
   "source": [
    "**Missing data**"
   ]
  },
  {
   "cell_type": "code",
   "execution_count": 32,
   "metadata": {},
   "outputs": [
    {
     "data": {
      "text/html": [
       "<div>\n",
       "<style scoped>\n",
       "    .dataframe tbody tr th:only-of-type {\n",
       "        vertical-align: middle;\n",
       "    }\n",
       "\n",
       "    .dataframe tbody tr th {\n",
       "        vertical-align: top;\n",
       "    }\n",
       "\n",
       "    .dataframe thead th {\n",
       "        text-align: right;\n",
       "    }\n",
       "</style>\n",
       "<table border=\"1\" class=\"dataframe\">\n",
       "  <thead>\n",
       "    <tr style=\"text-align: right;\">\n",
       "      <th></th>\n",
       "      <th>sepallength</th>\n",
       "      <th>sepalwidth</th>\n",
       "      <th>petallength</th>\n",
       "      <th>petalwidth</th>\n",
       "      <th>class</th>\n",
       "      <th>total_values</th>\n",
       "    </tr>\n",
       "  </thead>\n",
       "  <tbody>\n",
       "    <tr>\n",
       "      <th>0</th>\n",
       "      <td>False</td>\n",
       "      <td>False</td>\n",
       "      <td>False</td>\n",
       "      <td>False</td>\n",
       "      <td>False</td>\n",
       "      <td>False</td>\n",
       "    </tr>\n",
       "    <tr>\n",
       "      <th>1</th>\n",
       "      <td>False</td>\n",
       "      <td>False</td>\n",
       "      <td>False</td>\n",
       "      <td>False</td>\n",
       "      <td>False</td>\n",
       "      <td>False</td>\n",
       "    </tr>\n",
       "    <tr>\n",
       "      <th>2</th>\n",
       "      <td>False</td>\n",
       "      <td>False</td>\n",
       "      <td>False</td>\n",
       "      <td>False</td>\n",
       "      <td>False</td>\n",
       "      <td>False</td>\n",
       "    </tr>\n",
       "    <tr>\n",
       "      <th>3</th>\n",
       "      <td>False</td>\n",
       "      <td>False</td>\n",
       "      <td>False</td>\n",
       "      <td>False</td>\n",
       "      <td>False</td>\n",
       "      <td>False</td>\n",
       "    </tr>\n",
       "    <tr>\n",
       "      <th>4</th>\n",
       "      <td>False</td>\n",
       "      <td>False</td>\n",
       "      <td>False</td>\n",
       "      <td>False</td>\n",
       "      <td>False</td>\n",
       "      <td>False</td>\n",
       "    </tr>\n",
       "    <tr>\n",
       "      <th>...</th>\n",
       "      <td>...</td>\n",
       "      <td>...</td>\n",
       "      <td>...</td>\n",
       "      <td>...</td>\n",
       "      <td>...</td>\n",
       "      <td>...</td>\n",
       "    </tr>\n",
       "    <tr>\n",
       "      <th>145</th>\n",
       "      <td>False</td>\n",
       "      <td>False</td>\n",
       "      <td>False</td>\n",
       "      <td>False</td>\n",
       "      <td>False</td>\n",
       "      <td>False</td>\n",
       "    </tr>\n",
       "    <tr>\n",
       "      <th>146</th>\n",
       "      <td>False</td>\n",
       "      <td>False</td>\n",
       "      <td>False</td>\n",
       "      <td>False</td>\n",
       "      <td>False</td>\n",
       "      <td>False</td>\n",
       "    </tr>\n",
       "    <tr>\n",
       "      <th>147</th>\n",
       "      <td>False</td>\n",
       "      <td>False</td>\n",
       "      <td>False</td>\n",
       "      <td>False</td>\n",
       "      <td>False</td>\n",
       "      <td>False</td>\n",
       "    </tr>\n",
       "    <tr>\n",
       "      <th>148</th>\n",
       "      <td>False</td>\n",
       "      <td>False</td>\n",
       "      <td>False</td>\n",
       "      <td>False</td>\n",
       "      <td>False</td>\n",
       "      <td>False</td>\n",
       "    </tr>\n",
       "    <tr>\n",
       "      <th>149</th>\n",
       "      <td>False</td>\n",
       "      <td>False</td>\n",
       "      <td>False</td>\n",
       "      <td>False</td>\n",
       "      <td>False</td>\n",
       "      <td>False</td>\n",
       "    </tr>\n",
       "  </tbody>\n",
       "</table>\n",
       "<p>150 rows × 6 columns</p>\n",
       "</div>"
      ],
      "text/plain": [
       "     sepallength  sepalwidth  petallength  petalwidth  class  total_values\n",
       "0          False       False        False       False  False         False\n",
       "1          False       False        False       False  False         False\n",
       "2          False       False        False       False  False         False\n",
       "3          False       False        False       False  False         False\n",
       "4          False       False        False       False  False         False\n",
       "..           ...         ...          ...         ...    ...           ...\n",
       "145        False       False        False       False  False         False\n",
       "146        False       False        False       False  False         False\n",
       "147        False       False        False       False  False         False\n",
       "148        False       False        False       False  False         False\n",
       "149        False       False        False       False  False         False\n",
       "\n",
       "[150 rows x 6 columns]"
      ]
     },
     "execution_count": 32,
     "metadata": {},
     "output_type": "execute_result"
    }
   ],
   "source": [
    "df.isnull()"
   ]
  },
  {
   "cell_type": "markdown",
   "metadata": {},
   "source": [
    "## Matplotlib basics"
   ]
  },
  {
   "cell_type": "markdown",
   "metadata": {},
   "source": [
    "How many inputs for each class we have?"
   ]
  },
  {
   "cell_type": "code",
   "execution_count": 33,
   "metadata": {
    "scrolled": true
   },
   "outputs": [
    {
     "data": {
      "image/png": "[encoded data removed]",
      "text/plain": [
       "<Figure size 432x288 with 1 Axes>"
      ]
     },
     "metadata": {
      "needs_background": "light"
     },
     "output_type": "display_data"
    }
   ],
   "source": [
    "plt.plot(data['class'])\n",
    "plt.show()"
   ]
  },
  {
   "cell_type": "markdown",
   "metadata": {},
   "source": [
    "**Plot scatter plot.** \n",
    "<br>\n",
    "The position of each point on the horizontal and vertical axis indicates values for an individual data point. It visualizes the relations between two variables."
   ]
  },
  {
   "cell_type": "code",
   "execution_count": 34,
   "metadata": {},
   "outputs": [
    {
     "data": {
      "image/png": "[encoded data removed]",
      "text/plain": [
       "<Figure size 432x288 with 1 Axes>"
      ]
     },
     "metadata": {
      "needs_background": "light"
     },
     "output_type": "display_data"
    }
   ],
   "source": [
    "plt.plot(data['sepallength'], data['sepalwidth'])\n",
    "plt.show()"
   ]
  },
  {
   "cell_type": "markdown",
   "metadata": {},
   "source": [
    "To have a clearer image, plot dots instead of lines."
   ]
  },
  {
   "cell_type": "code",
   "execution_count": 35,
   "metadata": {},
   "outputs": [
    {
     "data": {
      "image/png": "[encoded data removed]",
      "text/plain": [
       "<Figure size 432x288 with 1 Axes>"
      ]
     },
     "metadata": {
      "needs_background": "light"
     },
     "output_type": "display_data"
    }
   ],
   "source": [
    "plt.plot(data['sepallength'], data['sepalwidth'], 'o')\n",
    "plt.show()"
   ]
  },
  {
   "cell_type": "markdown",
   "metadata": {},
   "source": [
    "You can set the dot and line style"
   ]
  },
  {
   "cell_type": "code",
   "execution_count": 36,
   "metadata": {
    "scrolled": true
   },
   "outputs": [
    {
     "data": {
      "image/png": "[encoded data removed]",
      "text/plain": [
       "<Figure size 432x288 with 1 Axes>"
      ]
     },
     "metadata": {
      "needs_background": "light"
     },
     "output_type": "display_data"
    }
   ],
   "source": [
    "plt.plot(data['sepallength'], data['sepalwidth'], 'o-')\n",
    "plt.show()"
   ]
  },
  {
   "cell_type": "markdown",
   "metadata": {},
   "source": [
    "You can set the color"
   ]
  },
  {
   "cell_type": "code",
   "execution_count": 37,
   "metadata": {
    "scrolled": false
   },
   "outputs": [
    {
     "data": {
      "image/png": "[encoded data removed]",
      "text/plain": [
       "<Figure size 432x288 with 1 Axes>"
      ]
     },
     "metadata": {
      "needs_background": "light"
     },
     "output_type": "display_data"
    }
   ],
   "source": [
    "plt.plot(data['sepallength'], data['sepalwidth'], 'o--', color=\"r\")\n",
    "plt.show()"
   ]
  },
  {
   "cell_type": "markdown",
   "metadata": {},
   "source": [
    "**Axis labels** <br>\n",
    "You know what is on the x-axis and what is on the y-axis, but others do not. Always label your axis."
   ]
  },
  {
   "cell_type": "code",
   "execution_count": 38,
   "metadata": {
    "scrolled": true
   },
   "outputs": [
    {
     "data": {
      "image/png": "[encoded data removed]",
      "text/plain": [
       "<Figure size 432x288 with 1 Axes>"
      ]
     },
     "metadata": {
      "needs_background": "light"
     },
     "output_type": "display_data"
    }
   ],
   "source": [
    "plt.xlabel(\"Sepal length\")\n",
    "plt.ylabel(\"Sepal width\")\n",
    "plt.plot(data['sepallength'], data['sepalwidth'], 'o', color=\"r\")\n",
    "plt.show()"
   ]
  },
  {
   "cell_type": "markdown",
   "metadata": {},
   "source": [
    "**Axis limits** <br>\n",
    "Sometimes you want to show just a part of the figure, or set different limits on your axis."
   ]
  },
  {
   "cell_type": "code",
   "execution_count": 149,
   "metadata": {
    "scrolled": true
   },
   "outputs": [
    {
     "data": {
      "image/png": "[encoded data removed]",
      "text/plain": [
       "<Figure size 432x288 with 1 Axes>"
      ]
     },
     "metadata": {
      "needs_background": "light"
     },
     "output_type": "display_data"
    }
   ],
   "source": [
    "plt.xlabel(\"Sepal length\")\n",
    "plt.ylabel(\"Sepal width\")\n",
    "plt.ylim(0,5)\n",
    "plt.plot(data['sepallength'], data['sepalwidth'], 'o', color=\"r\")\n",
    "plt.show()"
   ]
  },
  {
   "cell_type": "markdown",
   "metadata": {},
   "source": [
    "**Multiple data on one plot** <br>\n",
    "**Legend**<br>"
   ]
  },
  {
   "cell_type": "code",
   "execution_count": 39,
   "metadata": {
    "scrolled": true
   },
   "outputs": [
    {
     "data": {
      "image/png": "[encoded data removed]",
      "text/plain": [
       "<Figure size 432x288 with 1 Axes>"
      ]
     },
     "metadata": {
      "needs_background": "light"
     },
     "output_type": "display_data"
    }
   ],
   "source": [
    "plt.xlabel(\"length\")\n",
    "plt.ylabel(\"width\")\n",
    "plt.plot(data['sepallength'], data['sepalwidth'], 'o', color=\"r\", label=\"Sepal\")\n",
    "plt.plot(data['petallength'], data['petalwidth'], 'o', color=\"b\", label=\"Petal\")\n",
    "plt.legend()\n",
    "plt.show()"
   ]
  },
  {
   "cell_type": "markdown",
   "metadata": {},
   "source": [
    "**Legend position**"
   ]
  },
  {
   "cell_type": "code",
   "execution_count": 40,
   "metadata": {
    "scrolled": true
   },
   "outputs": [
    {
     "data": {
      "image/png": "[encoded data removed]",
      "text/plain": [
       "<Figure size 432x288 with 1 Axes>"
      ]
     },
     "metadata": {
      "needs_background": "light"
     },
     "output_type": "display_data"
    }
   ],
   "source": [
    "plt.xlabel(\"length\")\n",
    "plt.ylabel(\"width\")\n",
    "plt.plot(data['sepallength'], data['sepalwidth'], 'o', color=\"r\", label=\"Sepal\")\n",
    "plt.plot(data['petallength'], data['petalwidth'], 'o', color=\"b\", label=\"Petal\")\n",
    "plt.legend(loc='lower right')\n",
    "plt.show()"
   ]
  },
  {
   "cell_type": "markdown",
   "metadata": {},
   "source": [
    "**Multiple plots**"
   ]
  },
  {
   "cell_type": "code",
   "execution_count": 41,
   "metadata": {
    "scrolled": true
   },
   "outputs": [
    {
     "data": {
      "image/png": "[encoded data removed]",
      "text/plain": [
       "<Figure size 1080x360 with 2 Axes>"
      ]
     },
     "metadata": {
      "needs_background": "light"
     },
     "output_type": "display_data"
    }
   ],
   "source": [
    "plt.figure(figsize=(15,5))\n",
    "plt.subplot(1,2,1)\n",
    "plt.xlabel(\"Sepal length\")\n",
    "plt.ylabel(\"Sepal width\")\n",
    "plt.plot(data['sepallength'], data['sepalwidth'], 'o', color=\"r\", label=\"Sepal\")\n",
    "plt.legend(loc=\"upper left\")\n",
    "\n",
    "plt.subplot(1,2,2)\n",
    "plt.xlabel(\"Petal length\")\n",
    "plt.ylabel(\"Petal width\")\n",
    "plt.plot(data['petallength'], data['petalwidth'], 'o', color=\"b\", label=\"Petal\")\n",
    "plt.legend()\n",
    "\n",
    "plt.show()"
   ]
  },
  {
   "cell_type": "markdown",
   "metadata": {},
   "source": [
    "**Different groups of data**"
   ]
  },
  {
   "cell_type": "code",
   "execution_count": 42,
   "metadata": {},
   "outputs": [
    {
     "data": {
      "image/png": "[encoded data removed]",
      "text/plain": [
       "<Figure size 1080x360 with 2 Axes>"
      ]
     },
     "metadata": {
      "needs_background": "light"
     },
     "output_type": "display_data"
    }
   ],
   "source": [
    "plt.figure(figsize=(15,5))\n",
    "plt.subplot(1,2,1)\n",
    "plt.xlabel(\"Sepal length\")\n",
    "plt.ylabel(\"Sepal width\")\n",
    "plt.plot(df.loc[data[\"class\"] == \"Iris-setosa\"]['sepallength'], df.loc[data[\"class\"] == \"Iris-setosa\"]['sepalwidth'], 'o', color=\"r\", label=\"Iris-setosa\")\n",
    "plt.plot(df.loc[data[\"class\"] == \"Iris-versicolor\"]['sepallength'], df.loc[data[\"class\"] == \"Iris-versicolor\"]['sepalwidth'], 'o', color=\"b\", label=\"Iris-versicolor\")\n",
    "plt.plot(df.loc[data[\"class\"] == \"Iris-virginica\"] ['sepallength'], df.loc[data[\"class\"] == \"Iris-virginica\"] ['sepalwidth'], 'o', color=\"g\", label=\"Iris-virginica\")\n",
    "\n",
    "plt.legend()\n",
    "\n",
    "plt.subplot(1,2,2)\n",
    "plt.xlabel(\"Petal length\")\n",
    "plt.ylabel(\"Petal width\")\n",
    "plt.plot(df.loc[data[\"class\"] == \"Iris-setosa\"]['petallength'], df.loc[data[\"class\"] == \"Iris-setosa\"]['petalwidth'], 'o', color=\"r\", label=\"Iris-setosa\")\n",
    "plt.plot(df.loc[data[\"class\"] == \"Iris-versicolor\"]['petallength'], df.loc[data[\"class\"] == \"Iris-versicolor\"]['petalwidth'], 'o', color=\"b\", label=\"Iris-versicolor\")\n",
    "plt.plot(df.loc[data[\"class\"] == \"Iris-virginica\"] ['petallength'], df.loc[data[\"class\"] == \"Iris-virginica\"] ['petalwidth'], 'o', color=\"g\", label=\"Iris-virginica\")\n",
    "\n",
    "plt.legend()\n",
    "\n",
    "plt.show()"
   ]
  },
  {
   "cell_type": "code",
   "execution_count": 43,
   "metadata": {},
   "outputs": [],
   "source": [
    "SP1=df.loc[data[\"class\"] == \"Iris-setosa\"]\n",
    "SP2=df.loc[data[\"class\"] == \"Iris-versicolor\"]\n",
    "SP3=df.loc[data[\"class\"] == \"Iris-virginica\"] "
   ]
  },
  {
   "cell_type": "code",
   "execution_count": 44,
   "metadata": {},
   "outputs": [
    {
     "data": {
      "text/html": [
       "<div>\n",
       "<style scoped>\n",
       "    .dataframe tbody tr th:only-of-type {\n",
       "        vertical-align: middle;\n",
       "    }\n",
       "\n",
       "    .dataframe tbody tr th {\n",
       "        vertical-align: top;\n",
       "    }\n",
       "\n",
       "    .dataframe thead th {\n",
       "        text-align: right;\n",
       "    }\n",
       "</style>\n",
       "<table border=\"1\" class=\"dataframe\">\n",
       "  <thead>\n",
       "    <tr style=\"text-align: right;\">\n",
       "      <th></th>\n",
       "      <th>sepallength</th>\n",
       "      <th>sepalwidth</th>\n",
       "      <th>petallength</th>\n",
       "      <th>petalwidth</th>\n",
       "      <th>class</th>\n",
       "      <th>total_values</th>\n",
       "    </tr>\n",
       "  </thead>\n",
       "  <tbody>\n",
       "    <tr>\n",
       "      <th>0</th>\n",
       "      <td>5.1</td>\n",
       "      <td>3.5</td>\n",
       "      <td>1.4</td>\n",
       "      <td>0.2</td>\n",
       "      <td>Iris-setosa</td>\n",
       "      <td>10.2</td>\n",
       "    </tr>\n",
       "    <tr>\n",
       "      <th>1</th>\n",
       "      <td>4.9</td>\n",
       "      <td>3.0</td>\n",
       "      <td>1.4</td>\n",
       "      <td>0.2</td>\n",
       "      <td>Iris-setosa</td>\n",
       "      <td>9.5</td>\n",
       "    </tr>\n",
       "    <tr>\n",
       "      <th>2</th>\n",
       "      <td>4.7</td>\n",
       "      <td>3.2</td>\n",
       "      <td>1.3</td>\n",
       "      <td>0.2</td>\n",
       "      <td>Iris-setosa</td>\n",
       "      <td>9.4</td>\n",
       "    </tr>\n",
       "    <tr>\n",
       "      <th>3</th>\n",
       "      <td>4.6</td>\n",
       "      <td>3.1</td>\n",
       "      <td>1.5</td>\n",
       "      <td>0.2</td>\n",
       "      <td>Iris-setosa</td>\n",
       "      <td>9.4</td>\n",
       "    </tr>\n",
       "    <tr>\n",
       "      <th>4</th>\n",
       "      <td>5.0</td>\n",
       "      <td>3.6</td>\n",
       "      <td>1.4</td>\n",
       "      <td>0.2</td>\n",
       "      <td>Iris-setosa</td>\n",
       "      <td>10.2</td>\n",
       "    </tr>\n",
       "  </tbody>\n",
       "</table>\n",
       "</div>"
      ],
      "text/plain": [
       "   sepallength  sepalwidth  petallength  petalwidth        class  total_values\n",
       "0          5.1         3.5          1.4         0.2  Iris-setosa          10.2\n",
       "1          4.9         3.0          1.4         0.2  Iris-setosa           9.5\n",
       "2          4.7         3.2          1.3         0.2  Iris-setosa           9.4\n",
       "3          4.6         3.1          1.5         0.2  Iris-setosa           9.4\n",
       "4          5.0         3.6          1.4         0.2  Iris-setosa          10.2"
      ]
     },
     "execution_count": 44,
     "metadata": {},
     "output_type": "execute_result"
    }
   ],
   "source": [
    "SP1.head()"
   ]
  },
  {
   "cell_type": "code",
   "execution_count": 45,
   "metadata": {
    "scrolled": true
   },
   "outputs": [
    {
     "data": {
      "image/png": "[encoded data removed]",
      "text/plain": [
       "<Figure size 1080x360 with 2 Axes>"
      ]
     },
     "metadata": {
      "needs_background": "light"
     },
     "output_type": "display_data"
    }
   ],
   "source": [
    "plt.figure(figsize=(15,5))\n",
    "plt.subplot(1,2,1)\n",
    "plt.xlabel(\"Sepal length\")\n",
    "plt.ylabel(\"Sepal width\")\n",
    "plt.plot(SP1['sepallength'], SP1['sepalwidth'], 'o', color=\"r\", label=\"Iris-setosa\")\n",
    "plt.plot(SP2['sepallength'], SP2['sepalwidth'], 'o', color=\"b\", label=\"Iris-versicolor\")\n",
    "plt.plot(SP3['sepallength'], SP3['sepalwidth'], 'o', color=\"g\", label=\"Iris-virginica\")\n",
    "\n",
    "plt.legend()\n",
    "\n",
    "plt.subplot(1,2,2)\n",
    "plt.xlabel(\"Petal length\")\n",
    "plt.ylabel(\"Petal width\")\n",
    "plt.plot(SP1['petallength'], SP1['petalwidth'], 'o', color=\"r\", label=\"Iris-setosa\")\n",
    "plt.plot(SP2['petallength'], SP2['petalwidth'], 'o', color=\"b\", label=\"Iris-versicolor\")\n",
    "plt.plot(SP3['petallength'], SP3['petalwidth'], 'o', color=\"g\", label=\"Iris-virginica\")\n",
    "\n",
    "plt.legend()\n",
    "\n",
    "plt.show()"
   ]
  },
  {
   "cell_type": "markdown",
   "metadata": {},
   "source": [
    "**Save figure**"
   ]
  },
  {
   "cell_type": "code",
   "execution_count": 46,
   "metadata": {},
   "outputs": [
    {
     "data": {
      "image/png": "[encoded data removed]",
      "text/plain": [
       "<Figure size 1080x360 with 2 Axes>"
      ]
     },
     "metadata": {
      "needs_background": "light"
     },
     "output_type": "display_data"
    }
   ],
   "source": [
    "plt.figure(figsize=(15,5))\n",
    "plt.title(\"IRIS data\")\n",
    "plt.subplot(1,2,1)\n",
    "plt.xlabel(\"Sepal length\")\n",
    "plt.ylabel(\"Sepal width\")\n",
    "plt.plot(SP1['sepallength'], SP1['sepalwidth'], 'o', color=\"r\", label=\"Iris-setosa\")\n",
    "plt.plot(SP2['sepallength'], SP2['sepalwidth'], 'o', color=\"b\", label=\"Iris-versicolor\")\n",
    "plt.plot(SP3['sepallength'], SP3['sepalwidth'], 'o', color=\"g\", label=\"Iris-virginica\")\n",
    "\n",
    "plt.legend()\n",
    "\n",
    "plt.subplot(1,2,2)\n",
    "plt.xlabel(\"Petal length\")\n",
    "plt.ylabel(\"Petal width\")\n",
    "plt.plot(SP1['petallength'], SP1['petalwidth'], 'o', color=\"r\", label=\"Iris-setosa\")\n",
    "plt.plot(SP2['petallength'], SP2['petalwidth'], 'o', color=\"b\", label=\"Iris-versicolor\")\n",
    "plt.plot(SP3['petallength'], SP3['petalwidth'], 'o', color=\"g\", label=\"Iris-virginica\")\n",
    "\n",
    "plt.legend()\n",
    "\n",
    "plt.savefig(\"fig.png\")"
   ]
  },
  {
   "cell_type": "markdown",
   "metadata": {},
   "source": [
    "## Homework"
   ]
  },
  {
   "cell_type": "markdown",
   "metadata": {},
   "source": [
    "**Plot a scatter plot of the Sepal length versus Petal length for each class on separate subplots. Subplots should be side-by-side, with one row and three columns. Save the figure as a png extension and upload it.**\n",
    "\n",
    "Submission link https://forms.gle/aPQjNXWPiMgE9Kh3A\n"
   ]
  },
  {
   "cell_type": "markdown",
   "metadata": {},
   "source": [
    "## Further reading"
   ]
  },
  {
   "cell_type": "markdown",
   "metadata": {},
   "source": [
    "**Pandas Basics:** https://www.datacamp.com/tutorial/pandas <br>\n",
    "**Pandas User Guide:** https://pandas.pydata.org/docs/user_guide/index.html <br>\n",
    "**Matplotlib Tutorial:** https://matplotlib.org/stable/tutorials/index.html <br>\n",
    "\n",
    "**Google is your friend!** www.google.com <br>\n",
    "<br>\n",
    "**Stackoverlow is yout friend, too!** https://stackoverflow.com/"
   ]
  }
 ],
 "metadata": {
  "kernelspec": {
   "display_name": "Python 3",
   "language": "python",
   "name": "python3"
  },
  "language_info": {
   "codemirror_mode": {
    "name": "ipython",
    "version": 3
   },
   "file_extension": ".py",
   "mimetype": "text/x-python",
   "name": "python",
   "nbconvert_exporter": "python",
   "pygments_lexer": "ipython3",
   "version": "3.7.6"
  }
 },
 "nbformat": 4,
 "nbformat_minor": 5
}
