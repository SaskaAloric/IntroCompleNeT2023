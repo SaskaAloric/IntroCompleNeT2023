{
 "cells": [
  {
   "cell_type": "markdown",
   "metadata": {},
   "source": [
    "## Homework 1"
   ]
  },
  {
   "cell_type": "markdown",
   "metadata": {},
   "source": [
    "**Homework assignment date:** 10 May 2024 <br>\n",
    "\n",
    "<br> \n",
    "\n",
    "**Homework due date:** 24 May 2024 by 8 pm <br>\n"
   ]
  },
  {
   "cell_type": "markdown",
   "metadata": {},
   "source": [
    "We have a network of emails in the 2016 Democratic National Committee email leak. The Democratic National Committee (DNC) is the formal governing body for the United States Democratic Party. A dump of emails from the DNC was leaked in 2016. Nodes in the network correspond to persons in the dataset. <br>\n",
    "<br>\n",
    "The network is directed and weighted.<br>\n",
    "<br>\n",
    "Edge direction indicates that person $i$ sent an email to person $j$. <br> \n",
    "<br>\n",
    "Edge weight indicates a number of emails sent by person $i$ to person $j$.<br>\n",
    "<br>\n",
    "The network data is in directory *data* sent to you together with this assignment."
   ]
  },
  {
   "cell_type": "markdown",
   "metadata": {},
   "source": [
    "The dataset is within the local data folder at https://github.com/SaskaAloric/IntroCompleNeT2023/tree/main/Homework"
   ]
  },
  {
   "cell_type": "markdown",
   "metadata": {},
   "source": [
    "#### 1. Start by loading all the necessary libraries, load the data set and construct a weighted directed network."
   ]
  },
  {
   "cell_type": "code",
   "execution_count": null,
   "metadata": {},
   "outputs": [],
   "source": []
  },
  {
   "cell_type": "markdown",
   "metadata": {},
   "source": [
    "#### 2. What is number of nodes, number of edges in this network and total weight of all links in the network?"
   ]
  },
  {
   "cell_type": "code",
   "execution_count": null,
   "metadata": {},
   "outputs": [],
   "source": []
  },
  {
   "cell_type": "markdown",
   "metadata": {},
   "source": [
    "#### 3. The email network can be considered as a one-way communication network. For how many pairs of persons we can say that they have two-way communication?"
   ]
  },
  {
   "cell_type": "code",
   "execution_count": null,
   "metadata": {},
   "outputs": [],
   "source": []
  },
  {
   "cell_type": "markdown",
   "metadata": {},
   "source": [
    "#### 4. Which person is the most active in this network? To how many different persons that person has sent at least one email?"
   ]
  },
  {
   "cell_type": "code",
   "execution_count": null,
   "metadata": {},
   "outputs": [],
   "source": []
  },
  {
   "cell_type": "markdown",
   "metadata": {},
   "source": [
    "#### 5. Did this person also receive the most emails from others?"
   ]
  },
  {
   "cell_type": "code",
   "execution_count": null,
   "metadata": {},
   "outputs": [],
   "source": []
  },
  {
   "cell_type": "markdown",
   "metadata": {},
   "source": [
    "#### 6. How many strongly connected components this network have? Find the largest component and print the number of nodes it contains. What is the non-weighted diameter of the largest component? What is the shortest path in the same component?"
   ]
  },
  {
   "cell_type": "code",
   "execution_count": null,
   "metadata": {},
   "outputs": [],
   "source": []
  },
  {
   "cell_type": "markdown",
   "metadata": {},
   "source": [
    "#### 7. Plot the distributions of betweenness centrality and closeness centrality of nodes belonging to the strongest connected component. <br> "
   ]
  },
  {
   "cell_type": "code",
   "execution_count": null,
   "metadata": {},
   "outputs": [],
   "source": []
  },
  {
   "cell_type": "markdown",
   "metadata": {},
   "source": [
    "#### 8. In a network, we can calculate several centrality measures. Calculate the pearson correlation coefficient between node in-degree centrality, out-degree centrality, unweighted betweenness centrality, and closeness centrality of the nodes in the strongest connected component. Plot it as an annotated heatmap. Which are the most correlated centralities in this network?"
   ]
  },
  {
   "cell_type": "code",
   "execution_count": null,
   "metadata": {},
   "outputs": [],
   "source": []
  },
  {
   "cell_type": "markdown",
   "metadata": {},
   "source": [
    "#### 9. Draw the largest connected component but exclude the self-loops:\n",
    "\n",
    "- use node in-degree as the node size\n",
    "- use node closeness centrality as the node color\n",
    "- play around with different layouts and seeds and once you are satisfied with the figure, submit the seed that will help us recreate exactly the same network you are happy with <br>"
   ]
  },
  {
   "cell_type": "markdown",
   "metadata": {},
   "source": [
    "If you have issues please look at https://networkx.org/documentation/stable/reference/generated/networkx.classes.function.freeze.html"
   ]
  },
  {
   "cell_type": "code",
   "execution_count": null,
   "metadata": {},
   "outputs": [],
   "source": []
  }
 ],
 "metadata": {
  "kernelspec": {
   "display_name": "Python 3 (ipykernel)",
   "language": "python",
   "name": "python3"
  },
  "language_info": {
   "codemirror_mode": {
    "name": "ipython",
    "version": 3
   },
   "file_extension": ".py",
   "mimetype": "text/x-python",
   "name": "python",
   "nbconvert_exporter": "python",
   "pygments_lexer": "ipython3",
   "version": "3.10.13"
  }
 },
 "nbformat": 4,
 "nbformat_minor": 4
}
